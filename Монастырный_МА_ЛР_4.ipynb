{
 "cells": [
  {
   "metadata": {},
   "cell_type": "markdown",
   "source": [
    "## Практикум 4. Задание.\n",
    "\n",
    "1. Загрузите файлы из предоставленного архива в единый датафрейм вида: DATE, SBER,\n",
    "LKOH, GAZP, MOEX, USD0. Где значения в последних пяти колонках являются\n",
    "значениями курса акций LOW (минимальные значения за день), а значения DATE –\n",
    "датами с типом TIMESTAMP. Используйте модуль OS.\n",
    "2. Сделайте DATE – индексом, переиндексируйте на полный период (для этого нужно\n",
    "восстановить пропущенные даты) и восстановите пропущенные значения в каждом\n",
    "ряде.\n",
    "3. Визуализировать линейными графиками в одной фигуре для рисования все ряды.\n",
    "Используйте метод MATPLOTLIB.PYPLOT.SUBPLOTS.\n",
    "4. Нормализовать временные ряды и убедиться на визуализации, что они стали\n",
    "сопоставимы. Используйте деление значений ряда на базовое значение (самое раннее\n",
    "значение в ряду).\n",
    "5. Удалить или сгладить аномалии (выбросы) во временных рядах. Используйте\n",
    "логарифмирование.\n",
    "6. Удалить тренд и визуализировать линейным графиком. Используйте метод DIFF или\n",
    "SHIFT.\n",
    "7. Удалить сезонность в каждом ряде и визуализировать линейным графиком.\n",
    "Используйте скользящее среднее и метод ROLLING.\n",
    "8. Выделить тренд, сезонность, остатки, с помощью аддитивной модели: используя\n",
    "STATSMODELS.TSA.SEASONAL_DECOMPOSE\n",
    "9. Рассчитать корреляцию между всеми временными рядами (CORR).\n",
    "10. Построить кластерную карту (SEABORN.CLUSTERMAP) для п.9. вида: корреляция между рядами."
   ],
   "id": "a24cba0785c7554d"
  },
  {
   "cell_type": "code",
   "id": "initial_id",
   "metadata": {
    "collapsed": true,
    "ExecuteTime": {
     "end_time": "2024-10-26T19:42:17.578510Z",
     "start_time": "2024-10-26T19:42:17.098696Z"
    }
   },
   "source": [
    "import numpy as np\n",
    "from typing import Dict\n",
    "import matplotlib.pyplot as plt"
   ],
   "outputs": [],
   "execution_count": 1
  },
  {
   "metadata": {},
   "cell_type": "markdown",
   "source": "#### 1. Загрузите файлы из предоставленного архива в единый датафрейм вида: DATE, SBER, LKOH, GAZP, MOEX, USD0. Где значения в последних пяти колонках являются значениями курса акций LOW (минимальные значения за день), а значения DATE – датами с типом TIMESTAMP. Используйте модуль OS.",
   "id": "a3fb539b00a1369"
  },
  {
   "metadata": {},
   "cell_type": "code",
   "outputs": [],
   "execution_count": null,
   "source": "",
   "id": "b11948438e8ddcde"
  },
  {
   "metadata": {},
   "cell_type": "markdown",
   "source": "#### 2. Сделайте DATE – индексом, переиндексируйте на полный период (для этого нужно восстановить пропущенные даты) и восстановите пропущенные значения в каждом ряде.",
   "id": "d0157a878fe952b3"
  },
  {
   "metadata": {},
   "cell_type": "code",
   "outputs": [],
   "execution_count": null,
   "source": "",
   "id": "a6926037333dc4ef"
  },
  {
   "metadata": {},
   "cell_type": "markdown",
   "source": "#### 3. Визуализировать линейными графиками в одной фигуре для рисования все ряды. Используйте метод MATPLOTLIB.PYPLOT.SUBPLOTS.",
   "id": "e1ad3f8fb4f7bc17"
  },
  {
   "metadata": {
    "ExecuteTime": {
     "end_time": "2024-10-26T19:43:10.500962Z",
     "start_time": "2024-10-26T19:43:10.498966Z"
    }
   },
   "cell_type": "code",
   "source": "",
   "id": "7abe3f3b73551d63",
   "outputs": [],
   "execution_count": null
  },
  {
   "metadata": {},
   "cell_type": "markdown",
   "source": "#### 4. Нормализовать временные ряды и убедиться на визуализации, что они стали сопоставимы. Используйте деление значений ряда на базовое значение (самое раннее значение в ряду).",
   "id": "8edb1b2c46827514"
  },
  {
   "metadata": {
    "ExecuteTime": {
     "end_time": "2024-10-26T19:43:16.289227Z",
     "start_time": "2024-10-26T19:43:16.287406Z"
    }
   },
   "cell_type": "code",
   "source": "",
   "id": "f593641e120c8666",
   "outputs": [],
   "execution_count": null
  },
  {
   "metadata": {},
   "cell_type": "markdown",
   "source": "#### 5. Удалить или сгладить аномалии (выбросы) во временных рядах. Используйте логарифмирование.",
   "id": "ed57db0629edee75"
  },
  {
   "metadata": {
    "ExecuteTime": {
     "end_time": "2024-10-26T19:43:24.787487Z",
     "start_time": "2024-10-26T19:43:24.785344Z"
    }
   },
   "cell_type": "code",
   "source": "",
   "id": "68c4b04da109c592",
   "outputs": [],
   "execution_count": null
  },
  {
   "metadata": {},
   "cell_type": "markdown",
   "source": "#### 6. Удалить тренд и визуализировать линейным графиком. Используйте метод DIFF или SHIFT.",
   "id": "713ca3cc0e8a0ed0"
  },
  {
   "metadata": {
    "ExecuteTime": {
     "end_time": "2024-10-26T19:43:30.989941Z",
     "start_time": "2024-10-26T19:43:30.987814Z"
    }
   },
   "cell_type": "code",
   "source": "",
   "id": "5e98cab599f566d2",
   "outputs": [],
   "execution_count": null
  },
  {
   "metadata": {},
   "cell_type": "markdown",
   "source": "#### 7. Удалить сезонность в каждом ряде и визуализировать линейным графиком. Используйте скользящее среднее и метод ROLLING.",
   "id": "cea6b07c1ff9420c"
  },
  {
   "metadata": {
    "ExecuteTime": {
     "end_time": "2024-10-26T19:43:31.700535Z",
     "start_time": "2024-10-26T19:43:31.697664Z"
    }
   },
   "cell_type": "code",
   "source": "",
   "id": "21555dc959620760",
   "outputs": [],
   "execution_count": null
  },
  {
   "metadata": {},
   "cell_type": "markdown",
   "source": "#### 8. Выделить тренд, сезонность, остатки, с помощью аддитивной модели: используя STATSMODELS.TSA.SEASONAL_DECOMPOSE",
   "id": "9b00eee1667aecbe"
  },
  {
   "metadata": {
    "ExecuteTime": {
     "end_time": "2024-10-26T19:43:44.459741Z",
     "start_time": "2024-10-26T19:43:44.457388Z"
    }
   },
   "cell_type": "code",
   "source": "",
   "id": "d66ac7c7ddaa51e5",
   "outputs": [],
   "execution_count": null
  },
  {
   "metadata": {},
   "cell_type": "markdown",
   "source": "#### 9. Рассчитать корреляцию между всеми временными рядами (CORR).",
   "id": "80ec918bf173d526"
  },
  {
   "metadata": {
    "ExecuteTime": {
     "end_time": "2024-10-26T19:43:45.235832Z",
     "start_time": "2024-10-26T19:43:45.232685Z"
    }
   },
   "cell_type": "code",
   "source": "",
   "id": "57a1032d1686fb4c",
   "outputs": [],
   "execution_count": null
  },
  {
   "metadata": {},
   "cell_type": "markdown",
   "source": "#### 10. Построить кластерную карту (SEABORN.CLUSTERMAP) для п.9. вида: корреляция между рядами.",
   "id": "5c07c81834b969c2"
  },
  {
   "metadata": {},
   "cell_type": "code",
   "outputs": [],
   "execution_count": null,
   "source": "",
   "id": "b4ecf77433bf9226"
  }
 ],
 "metadata": {
  "kernelspec": {
   "display_name": "Python 3",
   "language": "python",
   "name": "python3"
  },
  "language_info": {
   "codemirror_mode": {
    "name": "ipython",
    "version": 2
   },
   "file_extension": ".py",
   "mimetype": "text/x-python",
   "name": "python",
   "nbconvert_exporter": "python",
   "pygments_lexer": "ipython2",
   "version": "2.7.6"
  }
 },
 "nbformat": 4,
 "nbformat_minor": 5
}
