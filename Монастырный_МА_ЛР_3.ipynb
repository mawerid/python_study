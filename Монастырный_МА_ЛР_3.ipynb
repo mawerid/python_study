{
 "cells": [
  {
   "metadata": {},
   "cell_type": "markdown",
   "source": [
    "## Практикум 3. Задание.\n",
    "\n",
    "1. Задания на создание массивов Numpy и простейшие операции над ними. В данных заданиях\n",
    "используйте генераторы случайных чисел, число уникальных значениях должно быть 4-9, и\n",
    "лежать в пределах от 1 до 10.\n",
    "    1. Создайте массивы V1, V2, V3 – типа int и размерности 10 элементов\n",
    "    2. Создайте вектор V, объединив вертикально (один под другим) V1, V2, V3\n",
    "    3. Создайте матрицу M размерности 30 x 30, типа int.\n",
    "    4. Сложите поэлементно массивы V1 и V2\n",
    "    5. Сравните массивы V1 и V2 и найдите несовпадающие значения\n",
    "2. Задания на индексацию (поиск и сортировку значений) массивов Numpy\n",
    "    1. Выберите из матрицы M – значение ячейки из последнего столбца и последней строки\n",
    "    2. Выберите из матрицы M – строки с 10 по 20, и столбцы с 5 по 6\n",
    "    3. Найдите второе по убыванию значение матрицы M\n",
    "    4. Извлеките диагональные элементы из матрицы M\n",
    "    5. Найдите в матрице M значения больше 5 (создайте маску для матрицы)\n",
    "3. Задания на манипуляцию массивами Numpy\n",
    "    1. Измените тип данных массива V на строковый\n",
    "    2. Обратите массив V (первое значение должно стать последним и наоборот)\n",
    "    3. Сделайте матрицу M плоским массивом\n",
    "    4. Переделайте форму вектора V на матрицу размерности 5 x 2\n",
    "    5. Удалите из вектора V значения меньше 2.\n",
    "4. Задания на статистические операции\n",
    "    1. Рассчитайте среднее, медиану и дисперсию по вектору V\n",
    "    2. Рассчитайте среднее, медиану и дисперсию по матрице M\n",
    "    3. Постройте эмпирическую функцию плотности распределения вектора V, визуализируйте полученную функцию с помощью matplotlib.\n",
    "    4. Рассчитайте матрицу корреляции для матрицы M\n",
    "    5. Создайте два случайных вектора размерности 10, типа int, каждый из которых содержит 3 уникальных значения, и проверьте гипотезу об их независимости с помощью критерия Хи-квадрат\n",
    "5. Задания на векторную и матричную алгебру\n",
    "    1. Умножьте матрицу M на вектор V.\n",
    "    2. Найдите определитель матрицы M\n",
    "    3. Найдите скалярное произведение векторов V и транспонированного V\n",
    "    4. Решите систему уравнений MX=V\n",
    "    5. Рассчитайте собственные значения и собственные вектора для матрицы M\n",
    "6. Скачайте два изображения товаров с Wildberries из одной категории (мужские костюмы), преобразуйте их в многомерные массивы Numpy и определите расстояние Евклида между ними.\n",
    "7. Реализуйте метод главных компонент с помощью модуля Numpy и нахождения собственных векторов. Преобразуйте одну из картинок из п.6 в матрицу новых компонент, меньшей размерности и визуализируйте ее.\n",
    "8. Кластеризуйте одну из картинок из п.6 – выделите отдельно брюки и отдельно пиджак на изображении. Можете использовать метод K-means.\n",
    "9. Определите цвет фона картинки из п.8 – найдите наиболее частый цвет в матрице, и по вектору (R,G,B) в matplotlib, выведите полученный цвет.\n",
    "10. Выберите картинку из п.6 и примените к ней фильтр Калмана."
   ],
   "id": "f2516e08d09bffa3"
  },
  {
   "cell_type": "code",
   "id": "initial_id",
   "metadata": {
    "collapsed": true,
    "ExecuteTime": {
     "end_time": "2024-10-27T08:22:50.516679Z",
     "start_time": "2024-10-27T08:22:49.934932Z"
    }
   },
   "source": [
    "import numpy as np\n",
    "from typing import Dict\n",
    "import matplotlib.pyplot as plt\n",
    "from scipy.stats import chi2\n",
    "from PIL import Image"
   ],
   "outputs": [],
   "execution_count": 1
  },
  {
   "metadata": {
    "ExecuteTime": {
     "end_time": "2024-10-27T08:22:50.530941Z",
     "start_time": "2024-10-27T08:22:50.528400Z"
    }
   },
   "cell_type": "code",
   "source": "np.random.seed(42)",
   "id": "fd6e61c587436800",
   "outputs": [],
   "execution_count": 2
  },
  {
   "metadata": {},
   "cell_type": "markdown",
   "source": "#### 1. Задания на создание массивов Numpy и простейшие операции над ними.",
   "id": "cdb52f85c91d872c"
  },
  {
   "metadata": {
    "ExecuteTime": {
     "end_time": "2024-10-27T08:22:50.580778Z",
     "start_time": "2024-10-27T08:22:50.578004Z"
    }
   },
   "cell_type": "code",
   "source": [
    "vector_1 = np.random.randint(1, 10, 10)\n",
    "vector_2 = np.random.randint(1, 10, 10)\n",
    "vector_3 = np.random.randint(1, 10, 10)"
   ],
   "id": "927db647c9ac4f68",
   "outputs": [],
   "execution_count": 3
  },
  {
   "metadata": {
    "ExecuteTime": {
     "end_time": "2024-10-27T08:22:50.629890Z",
     "start_time": "2024-10-27T08:22:50.624879Z"
    }
   },
   "cell_type": "code",
   "source": [
    "vectors = np.r_[vector_1, vector_2, vector_3]\n",
    "vectors"
   ],
   "id": "df91ca33dc47a65d",
   "outputs": [
    {
     "data": {
      "text/plain": [
       "array([7, 4, 8, 5, 7, 3, 7, 8, 5, 4, 8, 8, 3, 6, 5, 2, 8, 6, 2, 5, 1, 6,\n",
       "       9, 1, 3, 7, 4, 9, 3, 5])"
      ]
     },
     "execution_count": 4,
     "metadata": {},
     "output_type": "execute_result"
    }
   ],
   "execution_count": 4
  },
  {
   "metadata": {
    "ExecuteTime": {
     "end_time": "2024-10-27T08:22:50.688721Z",
     "start_time": "2024-10-27T08:22:50.684142Z"
    }
   },
   "cell_type": "code",
   "source": [
    "matrix = np.random.randint(1, 10, (30, 30))\n",
    "matrix"
   ],
   "id": "85ed7f150c417f8f",
   "outputs": [
    {
     "data": {
      "text/plain": [
       "array([[3, 7, 5, 9, 7, 2, 4, 9, 2, 9, 5, 2, 4, 7, 8, 3, 1, 4, 2, 8, 4, 2,\n",
       "        6, 6, 4, 6, 2, 2, 4, 8],\n",
       "       [7, 9, 8, 5, 2, 5, 8, 9, 9, 1, 9, 7, 9, 8, 1, 8, 8, 3, 1, 8, 3, 3,\n",
       "        1, 5, 7, 9, 7, 9, 8, 2],\n",
       "       [1, 7, 7, 8, 5, 3, 8, 6, 3, 1, 3, 5, 3, 1, 5, 7, 7, 9, 3, 7, 1, 4,\n",
       "        4, 5, 7, 7, 4, 7, 3, 6],\n",
       "       [2, 9, 5, 6, 4, 7, 9, 7, 1, 1, 9, 9, 4, 9, 3, 7, 6, 8, 9, 5, 1, 3,\n",
       "        8, 6, 8, 9, 4, 1, 1, 4],\n",
       "       [7, 2, 3, 1, 5, 1, 8, 1, 1, 2, 2, 6, 7, 5, 1, 1, 3, 2, 5, 6, 7, 4,\n",
       "        7, 8, 1, 6, 8, 5, 4, 2],\n",
       "       [6, 6, 1, 9, 6, 3, 4, 4, 3, 3, 3, 4, 7, 4, 9, 1, 8, 7, 2, 8, 1, 9,\n",
       "        9, 2, 7, 3, 7, 9, 4, 1],\n",
       "       [2, 1, 5, 5, 7, 9, 9, 3, 3, 3, 4, 8, 6, 8, 1, 8, 4, 1, 8, 4, 6, 8,\n",
       "        4, 3, 9, 3, 9, 2, 2, 2],\n",
       "       [6, 3, 9, 4, 1, 4, 1, 5, 4, 8, 8, 7, 3, 1, 1, 3, 6, 7, 6, 6, 6, 3,\n",
       "        6, 8, 2, 5, 1, 1, 5, 3],\n",
       "       [4, 3, 1, 1, 5, 6, 3, 9, 5, 8, 1, 5, 3, 1, 4, 5, 7, 1, 3, 2, 9, 6,\n",
       "        3, 8, 8, 2, 6, 7, 2, 2],\n",
       "       [1, 8, 1, 9, 6, 7, 7, 3, 2, 9, 8, 7, 9, 4, 4, 1, 8, 3, 7, 2, 2, 7,\n",
       "        6, 3, 9, 6, 6, 1, 4, 6],\n",
       "       [6, 5, 1, 8, 5, 5, 7, 4, 6, 4, 3, 7, 8, 4, 2, 3, 1, 8, 3, 7, 5, 5,\n",
       "        7, 9, 5, 1, 1, 2, 6, 9],\n",
       "       [8, 5, 1, 7, 5, 6, 7, 3, 3, 5, 6, 9, 5, 1, 4, 5, 5, 7, 4, 1, 5, 7,\n",
       "        6, 5, 4, 2, 4, 3, 1, 8],\n",
       "       [5, 4, 8, 7, 2, 1, 4, 8, 2, 3, 1, 1, 3, 5, 3, 1, 1, 8, 2, 3, 2, 3,\n",
       "        7, 1, 8, 2, 3, 9, 7, 4],\n",
       "       [5, 2, 8, 4, 9, 5, 9, 4, 5, 9, 8, 3, 1, 3, 4, 2, 1, 7, 8, 7, 5, 1,\n",
       "        7, 7, 9, 3, 9, 1, 1, 4],\n",
       "       [9, 6, 3, 1, 4, 9, 3, 9, 7, 4, 3, 5, 5, 3, 9, 4, 5, 4, 5, 7, 9, 7,\n",
       "        5, 7, 5, 3, 7, 2, 9, 1],\n",
       "       [6, 7, 8, 9, 2, 2, 5, 5, 6, 3, 8, 1, 6, 4, 1, 7, 9, 4, 4, 6, 3, 6,\n",
       "        7, 3, 7, 3, 2, 4, 8, 9],\n",
       "       [7, 1, 3, 9, 1, 9, 8, 1, 6, 5, 6, 5, 6, 5, 5, 4, 3, 3, 4, 9, 2, 9,\n",
       "        1, 1, 5, 6, 6, 3, 7, 9],\n",
       "       [8, 6, 8, 5, 8, 4, 8, 2, 5, 9, 4, 6, 1, 9, 1, 5, 4, 3, 6, 2, 3, 5,\n",
       "        9, 2, 8, 2, 5, 7, 8, 1],\n",
       "       [6, 1, 2, 1, 5, 9, 6, 1, 1, 2, 9, 3, 1, 5, 7, 6, 1, 5, 5, 6, 3, 5,\n",
       "        7, 5, 5, 5, 3, 1, 5, 9],\n",
       "       [1, 3, 4, 1, 1, 8, 2, 8, 7, 2, 6, 6, 3, 2, 1, 6, 5, 9, 1, 7, 5, 5,\n",
       "        2, 3, 7, 6, 2, 6, 2, 2],\n",
       "       [2, 3, 2, 4, 9, 6, 1, 8, 7, 3, 1, 5, 4, 8, 1, 1, 4, 8, 5, 2, 6, 5,\n",
       "        2, 3, 9, 7, 7, 6, 8, 4],\n",
       "       [8, 4, 8, 9, 3, 3, 2, 3, 3, 5, 5, 2, 6, 5, 6, 1, 5, 9, 2, 1, 9, 9,\n",
       "        9, 6, 8, 1, 4, 1, 8, 1],\n",
       "       [3, 4, 8, 6, 7, 8, 2, 8, 3, 7, 3, 7, 2, 6, 3, 3, 9, 7, 5, 7, 9, 1,\n",
       "        7, 6, 9, 1, 4, 9, 4, 3],\n",
       "       [9, 2, 4, 6, 2, 8, 8, 1, 3, 9, 5, 6, 4, 2, 8, 6, 5, 9, 1, 5, 6, 5,\n",
       "        6, 6, 7, 4, 8, 7, 9, 7],\n",
       "       [3, 3, 8, 5, 4, 8, 6, 2, 4, 4, 6, 6, 1, 8, 6, 3, 9, 2, 8, 3, 5, 6,\n",
       "        6, 4, 3, 4, 1, 4, 1, 1],\n",
       "       [6, 5, 4, 3, 1, 6, 2, 8, 5, 7, 2, 8, 2, 4, 1, 5, 9, 1, 9, 8, 6, 7,\n",
       "        3, 1, 5, 2, 5, 8, 9, 2],\n",
       "       [3, 3, 1, 8, 6, 8, 9, 5, 3, 5, 5, 5, 3, 4, 9, 9, 2, 8, 8, 7, 8, 3,\n",
       "        6, 1, 7, 1, 9, 1, 1, 7],\n",
       "       [2, 5, 8, 8, 3, 7, 3, 6, 6, 3, 7, 3, 8, 4, 1, 4, 7, 4, 6, 9, 1, 5,\n",
       "        7, 1, 4, 6, 2, 5, 1, 6],\n",
       "       [6, 4, 8, 4, 8, 8, 5, 4, 2, 3, 3, 4, 4, 5, 4, 8, 6, 6, 8, 7, 8, 2,\n",
       "        9, 1, 8, 4, 4, 5, 8, 5],\n",
       "       [8, 1, 9, 6, 3, 8, 9, 6, 7, 1, 5, 5, 4, 6, 7, 9, 1, 6, 7, 3, 8, 5,\n",
       "        9, 5, 9, 4, 9, 5, 9, 3]])"
      ]
     },
     "execution_count": 5,
     "metadata": {},
     "output_type": "execute_result"
    }
   ],
   "execution_count": 5
  },
  {
   "metadata": {
    "ExecuteTime": {
     "end_time": "2024-10-27T08:22:50.895426Z",
     "start_time": "2024-10-27T08:22:50.892192Z"
    }
   },
   "cell_type": "code",
   "source": "vector_1 + vector_2",
   "id": "11358d0d0220fe3b",
   "outputs": [
    {
     "data": {
      "text/plain": [
       "array([15, 12, 11, 11, 12,  5, 15, 14,  7,  9])"
      ]
     },
     "execution_count": 6,
     "metadata": {},
     "output_type": "execute_result"
    }
   ],
   "execution_count": 6
  },
  {
   "metadata": {
    "ExecuteTime": {
     "end_time": "2024-10-27T08:22:50.947678Z",
     "start_time": "2024-10-27T08:22:50.944795Z"
    }
   },
   "cell_type": "code",
   "source": "vector_1 < vector_2",
   "id": "5f9f76f8d908496e",
   "outputs": [
    {
     "data": {
      "text/plain": [
       "array([ True,  True, False,  True, False, False,  True, False, False,\n",
       "        True])"
      ]
     },
     "execution_count": 7,
     "metadata": {},
     "output_type": "execute_result"
    }
   ],
   "execution_count": 7
  },
  {
   "metadata": {
    "ExecuteTime": {
     "end_time": "2024-10-27T08:22:51.041340Z",
     "start_time": "2024-10-27T08:22:51.037851Z"
    }
   },
   "cell_type": "code",
   "source": "vector_1 == vector_2",
   "id": "eecfd652539f266d",
   "outputs": [
    {
     "data": {
      "text/plain": [
       "array([False, False, False, False, False, False, False, False, False,\n",
       "       False])"
      ]
     },
     "execution_count": 8,
     "metadata": {},
     "output_type": "execute_result"
    }
   ],
   "execution_count": 8
  },
  {
   "metadata": {},
   "cell_type": "markdown",
   "source": "#### 2. Задания на индексацию (поиск и сортировку значений) массивов Numpy",
   "id": "2ecfff788c04f735"
  },
  {
   "metadata": {
    "ExecuteTime": {
     "end_time": "2024-10-27T08:22:51.103401Z",
     "start_time": "2024-10-27T08:22:51.099835Z"
    }
   },
   "cell_type": "code",
   "source": "matrix[:, -1]",
   "id": "593d90621eb1b339",
   "outputs": [
    {
     "data": {
      "text/plain": [
       "array([8, 2, 6, 4, 2, 1, 2, 3, 2, 6, 9, 8, 4, 4, 1, 9, 9, 1, 9, 2, 4, 1,\n",
       "       3, 7, 1, 2, 7, 6, 5, 3])"
      ]
     },
     "execution_count": 9,
     "metadata": {},
     "output_type": "execute_result"
    }
   ],
   "execution_count": 9
  },
  {
   "metadata": {
    "ExecuteTime": {
     "end_time": "2024-10-27T08:22:51.158861Z",
     "start_time": "2024-10-27T08:22:51.155822Z"
    }
   },
   "cell_type": "code",
   "source": "matrix[-1, :]",
   "id": "3db19ab5533acef4",
   "outputs": [
    {
     "data": {
      "text/plain": [
       "array([8, 1, 9, 6, 3, 8, 9, 6, 7, 1, 5, 5, 4, 6, 7, 9, 1, 6, 7, 3, 8, 5,\n",
       "       9, 5, 9, 4, 9, 5, 9, 3])"
      ]
     },
     "execution_count": 10,
     "metadata": {},
     "output_type": "execute_result"
    }
   ],
   "execution_count": 10
  },
  {
   "metadata": {
    "ExecuteTime": {
     "end_time": "2024-10-27T08:22:51.212639Z",
     "start_time": "2024-10-27T08:22:51.209474Z"
    }
   },
   "cell_type": "code",
   "source": "matrix[9:20, 4:6]",
   "id": "ad347f3ab45d9db8",
   "outputs": [
    {
     "data": {
      "text/plain": [
       "array([[6, 7],\n",
       "       [5, 5],\n",
       "       [5, 6],\n",
       "       [2, 1],\n",
       "       [9, 5],\n",
       "       [4, 9],\n",
       "       [2, 2],\n",
       "       [1, 9],\n",
       "       [8, 4],\n",
       "       [5, 9],\n",
       "       [1, 8]])"
      ]
     },
     "execution_count": 11,
     "metadata": {},
     "output_type": "execute_result"
    }
   ],
   "execution_count": 11
  },
  {
   "metadata": {
    "ExecuteTime": {
     "end_time": "2024-10-27T08:22:51.285445Z",
     "start_time": "2024-10-27T08:22:51.282229Z"
    }
   },
   "cell_type": "code",
   "source": "np.sort(matrix)[-2]",
   "id": "bc3256d14dcfa8de",
   "outputs": [
    {
     "data": {
      "text/plain": [
       "array([1, 2, 2, 3, 3, 4, 4, 4, 4, 4, 4, 4, 4, 5, 5, 5, 5, 6, 6, 6, 7, 8,\n",
       "       8, 8, 8, 8, 8, 8, 8, 9])"
      ]
     },
     "execution_count": 12,
     "metadata": {},
     "output_type": "execute_result"
    }
   ],
   "execution_count": 12
  },
  {
   "metadata": {
    "ExecuteTime": {
     "end_time": "2024-10-27T08:22:51.333606Z",
     "start_time": "2024-10-27T08:22:51.330600Z"
    }
   },
   "cell_type": "code",
   "source": "matrix.diagonal()",
   "id": "425f881b3ffa4c49",
   "outputs": [
    {
     "data": {
      "text/plain": [
       "array([3, 9, 7, 6, 5, 3, 9, 5, 5, 9, 3, 9, 3, 3, 9, 7, 3, 3, 5, 7, 6, 9,\n",
       "       7, 6, 3, 2, 9, 5, 8, 3])"
      ]
     },
     "execution_count": 13,
     "metadata": {},
     "output_type": "execute_result"
    }
   ],
   "execution_count": 13
  },
  {
   "metadata": {
    "ExecuteTime": {
     "end_time": "2024-10-27T08:22:51.423644Z",
     "start_time": "2024-10-27T08:22:51.419352Z"
    }
   },
   "cell_type": "code",
   "source": "matrix[matrix > 5]",
   "id": "ff88b3853731a313",
   "outputs": [
    {
     "data": {
      "text/plain": [
       "array([7, 9, 7, 9, 9, 7, 8, 8, 6, 6, 6, 8, 7, 9, 8, 8, 9, 9, 9, 7, 9, 8,\n",
       "       8, 8, 8, 7, 9, 7, 9, 8, 7, 7, 8, 8, 6, 7, 7, 9, 7, 7, 7, 7, 6, 9,\n",
       "       6, 7, 9, 7, 9, 9, 9, 7, 6, 8, 9, 8, 6, 8, 9, 7, 8, 6, 7, 6, 7, 7,\n",
       "       8, 6, 8, 6, 6, 9, 6, 7, 9, 8, 7, 8, 9, 9, 7, 7, 9, 7, 9, 9, 8, 6,\n",
       "       8, 8, 8, 6, 8, 9, 9, 6, 9, 8, 8, 7, 6, 7, 6, 6, 6, 6, 8, 6, 9, 8,\n",
       "       7, 9, 6, 8, 8, 6, 7, 8, 9, 6, 7, 7, 9, 8, 7, 9, 8, 7, 7, 6, 9, 6,\n",
       "       6, 6, 6, 8, 7, 6, 7, 8, 8, 7, 7, 9, 6, 9, 8, 7, 6, 7, 6, 9, 7, 7,\n",
       "       6, 8, 8, 7, 8, 8, 7, 8, 9, 7, 8, 9, 9, 9, 8, 7, 8, 7, 7, 7, 9, 9,\n",
       "       9, 6, 9, 9, 7, 9, 7, 9, 7, 7, 7, 9, 6, 7, 8, 9, 6, 8, 6, 7, 9, 6,\n",
       "       6, 7, 7, 8, 9, 7, 9, 9, 8, 6, 6, 6, 9, 9, 6, 6, 7, 9, 8, 6, 8, 8,\n",
       "       8, 9, 6, 9, 6, 9, 8, 7, 8, 6, 9, 6, 9, 7, 6, 6, 7, 9, 8, 8, 7, 6,\n",
       "       6, 6, 9, 7, 7, 6, 6, 9, 6, 8, 7, 8, 8, 6, 9, 7, 7, 6, 8, 8, 8, 9,\n",
       "       6, 6, 9, 9, 9, 9, 6, 8, 8, 8, 6, 7, 8, 8, 7, 7, 6, 9, 7, 7, 9, 7,\n",
       "       6, 9, 9, 9, 6, 8, 8, 9, 6, 8, 6, 9, 6, 6, 6, 7, 8, 7, 9, 7, 8, 8,\n",
       "       6, 6, 6, 8, 6, 9, 8, 6, 6, 6, 6, 8, 7, 8, 9, 9, 8, 6, 7, 8, 9, 8,\n",
       "       6, 8, 9, 9, 9, 8, 8, 7, 8, 6, 7, 9, 7, 8, 8, 7, 6, 6, 7, 8, 7, 6,\n",
       "       9, 7, 6, 6, 6, 8, 8, 8, 8, 6, 6, 8, 7, 8, 9, 8, 8, 8, 9, 6, 8, 9,\n",
       "       6, 7, 6, 7, 9, 6, 7, 8, 9, 9, 9, 9])"
      ]
     },
     "execution_count": 14,
     "metadata": {},
     "output_type": "execute_result"
    }
   ],
   "execution_count": 14
  },
  {
   "metadata": {},
   "cell_type": "markdown",
   "source": "#### 3. Задания на манипуляцию массивами Numpy",
   "id": "ac39e92ac00c7d74"
  },
  {
   "metadata": {
    "ExecuteTime": {
     "end_time": "2024-10-27T08:22:51.480753Z",
     "start_time": "2024-10-27T08:22:51.476331Z"
    }
   },
   "cell_type": "code",
   "source": [
    "vectors_str = np.array(vectors, dtype=str)\n",
    "vectors_str"
   ],
   "id": "adddaae5364e69a5",
   "outputs": [
    {
     "data": {
      "text/plain": [
       "array(['7', '4', '8', '5', '7', '3', '7', '8', '5', '4', '8', '8', '3',\n",
       "       '6', '5', '2', '8', '6', '2', '5', '1', '6', '9', '1', '3', '7',\n",
       "       '4', '9', '3', '5'], dtype='<U21')"
      ]
     },
     "execution_count": 15,
     "metadata": {},
     "output_type": "execute_result"
    }
   ],
   "execution_count": 15
  },
  {
   "metadata": {
    "ExecuteTime": {
     "end_time": "2024-10-27T08:22:51.568431Z",
     "start_time": "2024-10-27T08:22:51.564764Z"
    }
   },
   "cell_type": "code",
   "source": "vectors_str[::-1]",
   "id": "2be399413bbde273",
   "outputs": [
    {
     "data": {
      "text/plain": [
       "array(['5', '3', '9', '4', '7', '3', '1', '9', '6', '1', '5', '2', '6',\n",
       "       '8', '2', '5', '6', '3', '8', '8', '4', '5', '8', '7', '3', '7',\n",
       "       '5', '8', '4', '7'], dtype='<U21')"
      ]
     },
     "execution_count": 16,
     "metadata": {},
     "output_type": "execute_result"
    }
   ],
   "execution_count": 16
  },
  {
   "metadata": {
    "ExecuteTime": {
     "end_time": "2024-10-27T08:22:51.663576Z",
     "start_time": "2024-10-27T08:22:51.659023Z"
    }
   },
   "cell_type": "code",
   "source": "matrix.flatten()",
   "id": "7be368268e384d5e",
   "outputs": [
    {
     "data": {
      "text/plain": [
       "array([3, 7, 5, 9, 7, 2, 4, 9, 2, 9, 5, 2, 4, 7, 8, 3, 1, 4, 2, 8, 4, 2,\n",
       "       6, 6, 4, 6, 2, 2, 4, 8, 7, 9, 8, 5, 2, 5, 8, 9, 9, 1, 9, 7, 9, 8,\n",
       "       1, 8, 8, 3, 1, 8, 3, 3, 1, 5, 7, 9, 7, 9, 8, 2, 1, 7, 7, 8, 5, 3,\n",
       "       8, 6, 3, 1, 3, 5, 3, 1, 5, 7, 7, 9, 3, 7, 1, 4, 4, 5, 7, 7, 4, 7,\n",
       "       3, 6, 2, 9, 5, 6, 4, 7, 9, 7, 1, 1, 9, 9, 4, 9, 3, 7, 6, 8, 9, 5,\n",
       "       1, 3, 8, 6, 8, 9, 4, 1, 1, 4, 7, 2, 3, 1, 5, 1, 8, 1, 1, 2, 2, 6,\n",
       "       7, 5, 1, 1, 3, 2, 5, 6, 7, 4, 7, 8, 1, 6, 8, 5, 4, 2, 6, 6, 1, 9,\n",
       "       6, 3, 4, 4, 3, 3, 3, 4, 7, 4, 9, 1, 8, 7, 2, 8, 1, 9, 9, 2, 7, 3,\n",
       "       7, 9, 4, 1, 2, 1, 5, 5, 7, 9, 9, 3, 3, 3, 4, 8, 6, 8, 1, 8, 4, 1,\n",
       "       8, 4, 6, 8, 4, 3, 9, 3, 9, 2, 2, 2, 6, 3, 9, 4, 1, 4, 1, 5, 4, 8,\n",
       "       8, 7, 3, 1, 1, 3, 6, 7, 6, 6, 6, 3, 6, 8, 2, 5, 1, 1, 5, 3, 4, 3,\n",
       "       1, 1, 5, 6, 3, 9, 5, 8, 1, 5, 3, 1, 4, 5, 7, 1, 3, 2, 9, 6, 3, 8,\n",
       "       8, 2, 6, 7, 2, 2, 1, 8, 1, 9, 6, 7, 7, 3, 2, 9, 8, 7, 9, 4, 4, 1,\n",
       "       8, 3, 7, 2, 2, 7, 6, 3, 9, 6, 6, 1, 4, 6, 6, 5, 1, 8, 5, 5, 7, 4,\n",
       "       6, 4, 3, 7, 8, 4, 2, 3, 1, 8, 3, 7, 5, 5, 7, 9, 5, 1, 1, 2, 6, 9,\n",
       "       8, 5, 1, 7, 5, 6, 7, 3, 3, 5, 6, 9, 5, 1, 4, 5, 5, 7, 4, 1, 5, 7,\n",
       "       6, 5, 4, 2, 4, 3, 1, 8, 5, 4, 8, 7, 2, 1, 4, 8, 2, 3, 1, 1, 3, 5,\n",
       "       3, 1, 1, 8, 2, 3, 2, 3, 7, 1, 8, 2, 3, 9, 7, 4, 5, 2, 8, 4, 9, 5,\n",
       "       9, 4, 5, 9, 8, 3, 1, 3, 4, 2, 1, 7, 8, 7, 5, 1, 7, 7, 9, 3, 9, 1,\n",
       "       1, 4, 9, 6, 3, 1, 4, 9, 3, 9, 7, 4, 3, 5, 5, 3, 9, 4, 5, 4, 5, 7,\n",
       "       9, 7, 5, 7, 5, 3, 7, 2, 9, 1, 6, 7, 8, 9, 2, 2, 5, 5, 6, 3, 8, 1,\n",
       "       6, 4, 1, 7, 9, 4, 4, 6, 3, 6, 7, 3, 7, 3, 2, 4, 8, 9, 7, 1, 3, 9,\n",
       "       1, 9, 8, 1, 6, 5, 6, 5, 6, 5, 5, 4, 3, 3, 4, 9, 2, 9, 1, 1, 5, 6,\n",
       "       6, 3, 7, 9, 8, 6, 8, 5, 8, 4, 8, 2, 5, 9, 4, 6, 1, 9, 1, 5, 4, 3,\n",
       "       6, 2, 3, 5, 9, 2, 8, 2, 5, 7, 8, 1, 6, 1, 2, 1, 5, 9, 6, 1, 1, 2,\n",
       "       9, 3, 1, 5, 7, 6, 1, 5, 5, 6, 3, 5, 7, 5, 5, 5, 3, 1, 5, 9, 1, 3,\n",
       "       4, 1, 1, 8, 2, 8, 7, 2, 6, 6, 3, 2, 1, 6, 5, 9, 1, 7, 5, 5, 2, 3,\n",
       "       7, 6, 2, 6, 2, 2, 2, 3, 2, 4, 9, 6, 1, 8, 7, 3, 1, 5, 4, 8, 1, 1,\n",
       "       4, 8, 5, 2, 6, 5, 2, 3, 9, 7, 7, 6, 8, 4, 8, 4, 8, 9, 3, 3, 2, 3,\n",
       "       3, 5, 5, 2, 6, 5, 6, 1, 5, 9, 2, 1, 9, 9, 9, 6, 8, 1, 4, 1, 8, 1,\n",
       "       3, 4, 8, 6, 7, 8, 2, 8, 3, 7, 3, 7, 2, 6, 3, 3, 9, 7, 5, 7, 9, 1,\n",
       "       7, 6, 9, 1, 4, 9, 4, 3, 9, 2, 4, 6, 2, 8, 8, 1, 3, 9, 5, 6, 4, 2,\n",
       "       8, 6, 5, 9, 1, 5, 6, 5, 6, 6, 7, 4, 8, 7, 9, 7, 3, 3, 8, 5, 4, 8,\n",
       "       6, 2, 4, 4, 6, 6, 1, 8, 6, 3, 9, 2, 8, 3, 5, 6, 6, 4, 3, 4, 1, 4,\n",
       "       1, 1, 6, 5, 4, 3, 1, 6, 2, 8, 5, 7, 2, 8, 2, 4, 1, 5, 9, 1, 9, 8,\n",
       "       6, 7, 3, 1, 5, 2, 5, 8, 9, 2, 3, 3, 1, 8, 6, 8, 9, 5, 3, 5, 5, 5,\n",
       "       3, 4, 9, 9, 2, 8, 8, 7, 8, 3, 6, 1, 7, 1, 9, 1, 1, 7, 2, 5, 8, 8,\n",
       "       3, 7, 3, 6, 6, 3, 7, 3, 8, 4, 1, 4, 7, 4, 6, 9, 1, 5, 7, 1, 4, 6,\n",
       "       2, 5, 1, 6, 6, 4, 8, 4, 8, 8, 5, 4, 2, 3, 3, 4, 4, 5, 4, 8, 6, 6,\n",
       "       8, 7, 8, 2, 9, 1, 8, 4, 4, 5, 8, 5, 8, 1, 9, 6, 3, 8, 9, 6, 7, 1,\n",
       "       5, 5, 4, 6, 7, 9, 1, 6, 7, 3, 8, 5, 9, 5, 9, 4, 9, 5, 9, 3])"
      ]
     },
     "execution_count": 17,
     "metadata": {},
     "output_type": "execute_result"
    }
   ],
   "execution_count": 17
  },
  {
   "metadata": {
    "ExecuteTime": {
     "end_time": "2024-10-27T08:22:51.776907Z",
     "start_time": "2024-10-27T08:22:51.772155Z"
    }
   },
   "cell_type": "code",
   "source": "vectors.reshape(5, 6)",
   "id": "f73126f4cde9a9fa",
   "outputs": [
    {
     "data": {
      "text/plain": [
       "array([[7, 4, 8, 5, 7, 3],\n",
       "       [7, 8, 5, 4, 8, 8],\n",
       "       [3, 6, 5, 2, 8, 6],\n",
       "       [2, 5, 1, 6, 9, 1],\n",
       "       [3, 7, 4, 9, 3, 5]])"
      ]
     },
     "execution_count": 18,
     "metadata": {},
     "output_type": "execute_result"
    }
   ],
   "execution_count": 18
  },
  {
   "metadata": {
    "ExecuteTime": {
     "end_time": "2024-10-27T08:22:51.878388Z",
     "start_time": "2024-10-27T08:22:51.874278Z"
    }
   },
   "cell_type": "code",
   "source": "vectors[vectors >= 2]",
   "id": "b48ad5cad76cefd3",
   "outputs": [
    {
     "data": {
      "text/plain": [
       "array([7, 4, 8, 5, 7, 3, 7, 8, 5, 4, 8, 8, 3, 6, 5, 2, 8, 6, 2, 5, 6, 9,\n",
       "       3, 7, 4, 9, 3, 5])"
      ]
     },
     "execution_count": 19,
     "metadata": {},
     "output_type": "execute_result"
    }
   ],
   "execution_count": 19
  },
  {
   "metadata": {},
   "cell_type": "markdown",
   "source": "#### 4. Задания на статистические операции",
   "id": "bafd9e6b79e8954f"
  },
  {
   "metadata": {
    "ExecuteTime": {
     "end_time": "2024-10-27T08:22:51.953411Z",
     "start_time": "2024-10-27T08:22:51.949725Z"
    }
   },
   "cell_type": "code",
   "source": "vectors.mean(), np.median(vectors), vectors.std()",
   "id": "7de111e97bda949e",
   "outputs": [
    {
     "data": {
      "text/plain": [
       "(5.3, 5.0, 2.3259406699226015)"
      ]
     },
     "execution_count": 20,
     "metadata": {},
     "output_type": "execute_result"
    }
   ],
   "execution_count": 20
  },
  {
   "metadata": {
    "ExecuteTime": {
     "end_time": "2024-10-27T08:22:52.064013Z",
     "start_time": "2024-10-27T08:22:52.060188Z"
    }
   },
   "cell_type": "code",
   "source": "matrix.mean(), np.median(matrix), matrix.std()",
   "id": "f969acb9b78f39e6",
   "outputs": [
    {
     "data": {
      "text/plain": [
       "(4.923333333333333, 5.0, 2.5990831716844562)"
      ]
     },
     "execution_count": 21,
     "metadata": {},
     "output_type": "execute_result"
    }
   ],
   "execution_count": 21
  },
  {
   "metadata": {
    "ExecuteTime": {
     "end_time": "2024-10-27T08:22:52.248842Z",
     "start_time": "2024-10-27T08:22:52.116982Z"
    }
   },
   "cell_type": "code",
   "source": "plt.hist(vectors)",
   "id": "f81512d52a75f7e1",
   "outputs": [
    {
     "data": {
      "text/plain": [
       "(array([2., 2., 4., 3., 0., 5., 3., 4., 5., 2.]),\n",
       " array([1. , 1.8, 2.6, 3.4, 4.2, 5. , 5.8, 6.6, 7.4, 8.2, 9. ]),\n",
       " <BarContainer object of 10 artists>)"
      ]
     },
     "execution_count": 22,
     "metadata": {},
     "output_type": "execute_result"
    },
    {
     "data": {
      "text/plain": [
       "<Figure size 640x480 with 1 Axes>"
      ],
      "image/png": "[encoded data removed]"
     },
     "metadata": {},
     "output_type": "display_data"
    }
   ],
   "execution_count": 22
  },
  {
   "metadata": {
    "ExecuteTime": {
     "end_time": "2024-10-27T08:22:52.281573Z",
     "start_time": "2024-10-27T08:22:52.273348Z"
    }
   },
   "cell_type": "code",
   "source": "np.corrcoef(matrix)",
   "id": "d415d1a7d188726b",
   "outputs": [
    {
     "data": {
      "text/plain": [
       "array([[ 1.00000000e+00, -2.18002932e-01,  1.08804989e-01,\n",
       "         5.41596417e-02, -2.11555090e-01,  9.90082834e-03,\n",
       "        -3.89740100e-01,  2.89069628e-02, -1.98251516e-01,\n",
       "         7.97785231e-02,  2.21419664e-01, -1.58708713e-01,\n",
       "         2.24733565e-01,  1.78885660e-01, -1.79223212e-01,\n",
       "         6.08198200e-02, -7.77351030e-02, -1.36780676e-01,\n",
       "         4.67487550e-02, -2.71332283e-01, -1.29560161e-01,\n",
       "         2.05763286e-02,  3.12754491e-02, -1.52004122e-01,\n",
       "        -2.16492401e-01, -3.65689280e-01,  1.06166049e-01,\n",
       "         8.48890466e-02, -1.44567569e-01, -3.33583610e-01],\n",
       "       [-2.18002932e-01,  1.00000000e+00,  2.12437134e-01,\n",
       "         1.60593893e-01,  2.76740161e-02, -5.83533282e-02,\n",
       "         3.76221842e-03, -7.33303414e-02, -9.68741512e-02,\n",
       "        -1.67087954e-01, -2.03419425e-01, -3.65366547e-01,\n",
       "         8.39657877e-02, -3.32166055e-01, -3.57805011e-02,\n",
       "         2.84403565e-01,  7.32182972e-02, -1.69103152e-02,\n",
       "        -3.39110143e-01,  3.78909495e-01,  4.76414787e-02,\n",
       "        -2.76394468e-01, -1.11200312e-01, -2.10460516e-01,\n",
       "        -1.51789422e-01,  1.83028855e-01, -4.41483729e-01,\n",
       "         2.42361629e-01, -1.76714954e-01,  2.20199753e-02],\n",
       "       [ 1.08804989e-01,  2.12437134e-01,  1.00000000e+00,\n",
       "         3.80952551e-01, -2.27046286e-01,  2.54582628e-01,\n",
       "        -1.23938818e-01, -1.18087585e-01, -1.87749885e-01,\n",
       "        -2.13683994e-03,  2.22211642e-02,  2.81905607e-02,\n",
       "         3.14890397e-01, -2.52675996e-02, -4.21646129e-01,\n",
       "         2.55633606e-01, -6.64444023e-02, -2.09243871e-01,\n",
       "        -1.21362145e-01,  3.07145355e-01, -6.17558189e-02,\n",
       "        -1.95354314e-01,  9.82265438e-02, -1.20633406e-03,\n",
       "        -1.11334532e-01, -2.04603741e-01,  9.63792033e-02,\n",
       "         2.92690230e-01,  4.74691735e-02, -9.89274427e-02],\n",
       "       [ 5.41596417e-02,  1.60593893e-01,  3.80952551e-01,\n",
       "         1.00000000e+00, -2.57056360e-02, -9.34353184e-02,\n",
       "         3.08809247e-01,  6.95996214e-02, -3.32574895e-01,\n",
       "         3.50773452e-01,  7.21368551e-03,  1.34367827e-01,\n",
       "        -7.23012927e-02,  1.63104470e-01, -3.28125303e-01,\n",
       "         3.13071284e-02, -1.29716705e-01,  4.45621117e-03,\n",
       "         2.45267881e-01,  1.81052220e-01, -6.57839960e-02,\n",
       "        -1.99612955e-01, -6.89961525e-03, -3.33263342e-01,\n",
       "         3.14057935e-01, -2.17869577e-01,  2.10670557e-01,\n",
       "         2.92967267e-01,  8.83360809e-02,  1.14475237e-02],\n",
       "       [-2.11555090e-01,  2.76740161e-02, -2.27046286e-01,\n",
       "        -2.57056360e-02,  1.00000000e+00,  4.91280194e-02,\n",
       "         2.12358880e-01,  8.69873989e-03,  1.40532315e-02,\n",
       "        -1.04903407e-01,  1.45193549e-01,  2.65268003e-02,\n",
       "        -1.56466738e-01,  1.33582738e-01,  8.06794482e-02,\n",
       "        -3.07360100e-01, -7.61271978e-02,  1.02407470e-01,\n",
       "         8.92183991e-03, -3.37812403e-01, -7.71454737e-02,\n",
       "        -8.79630506e-03, -1.19007888e-01,  5.25178786e-02,\n",
       "        -4.37507711e-02, -4.93961987e-02, -1.45572941e-01,\n",
       "        -2.62688350e-01,  1.01150929e-02,  1.06465394e-01],\n",
       "       [ 9.90082834e-03, -5.83533282e-02,  2.54582628e-01,\n",
       "        -9.34353184e-02,  4.91280194e-02,  1.00000000e+00,\n",
       "        -1.20887013e-01, -3.58229062e-01, -2.87330312e-02,\n",
       "         2.15832924e-01,  3.03305851e-02,  9.03938452e-02,\n",
       "         3.37246942e-01, -1.77957468e-01,  3.99893376e-02,\n",
       "         5.06283147e-02,  7.39532843e-02,  4.21572104e-02,\n",
       "        -1.79982436e-01, -7.41477499e-02,  2.86132435e-02,\n",
       "         2.95464513e-01,  6.76901136e-02,  1.52308206e-01,\n",
       "        -5.85698833e-02,  1.83210420e-02,  2.63103914e-02,\n",
       "         1.35707556e-01, -6.75303533e-02, -1.39583194e-01],\n",
       "       [-3.89740100e-01,  3.76221842e-03, -1.23938818e-01,\n",
       "         3.08809247e-01,  2.12358880e-01, -1.20887013e-01,\n",
       "         1.00000000e+00, -2.97032841e-01,  1.58492252e-01,\n",
       "         3.00340975e-01, -9.78477285e-02,  1.03122674e-01,\n",
       "        -2.77253194e-01,  2.35501418e-01, -6.51720641e-02,\n",
       "        -2.05642273e-01,  2.17407352e-01,  2.69652933e-01,\n",
       "         1.21964183e-01,  6.44486716e-03,  1.58309776e-01,\n",
       "        -1.09082191e-01,  4.89759063e-02, -1.23220031e-01,\n",
       "         3.27879259e-01,  1.12084073e-01,  4.02402854e-01,\n",
       "         1.67511474e-02,  2.48897346e-01,  3.70249430e-01],\n",
       "       [ 2.89069628e-02, -7.33303414e-02, -1.18087585e-01,\n",
       "         6.95996214e-02,  8.69873989e-03, -3.58229062e-01,\n",
       "        -2.97032841e-01,  1.00000000e+00, -5.05146626e-02,\n",
       "        -1.04687339e-01,  9.31252879e-02,  6.04458445e-02,\n",
       "        -8.66092474e-02,  2.03905080e-01,  7.15594594e-02,\n",
       "         1.53538956e-01, -1.80569947e-01, -6.21156809e-02,\n",
       "        -2.38232488e-02,  2.16206212e-01, -2.70025048e-01,\n",
       "         2.60046195e-01,  2.47175992e-01,  4.13128379e-02,\n",
       "         1.80130495e-01,  1.63579075e-01, -2.83314899e-01,\n",
       "         1.79724013e-01,  1.48403809e-03, -1.12604557e-01],\n",
       "       [-1.98251516e-01, -9.68741512e-02, -1.87749885e-01,\n",
       "        -3.32574895e-01,  1.40532315e-02, -2.87330312e-02,\n",
       "         1.58492252e-01, -5.05146626e-02,  1.00000000e+00,\n",
       "        -3.85873235e-02, -1.51832863e-01,  7.07039832e-02,\n",
       "        -1.54556766e-01,  1.24159315e-02,  4.37902340e-01,\n",
       "        -3.51198101e-01, -3.40456525e-01, -4.18722523e-02,\n",
       "        -2.93949053e-01,  2.33312285e-01,  2.30200662e-01,\n",
       "        -3.06226796e-02,  4.11463317e-01,  7.07984276e-02,\n",
       "        -4.95007729e-02,  3.68493351e-01, -7.83976456e-03,\n",
       "        -3.71398988e-01, -1.12684131e-01, -3.61419338e-02],\n",
       "       [ 7.97785231e-02, -1.67087954e-01, -2.13683994e-03,\n",
       "         3.50773452e-01, -1.04903407e-01,  2.15832924e-01,\n",
       "         3.00340975e-01, -1.04687339e-01, -3.85873235e-02,\n",
       "         1.00000000e+00,  9.47037022e-02,  3.61909904e-01,\n",
       "        -2.08593435e-01,  8.65609524e-02, -2.71876993e-01,\n",
       "         9.17889603e-02,  2.19737387e-01,  5.75590558e-02,\n",
       "        -4.89951258e-03, -2.17078934e-01,  2.30558720e-02,\n",
       "         5.52065592e-02, -1.17852025e-01, -3.88633393e-02,\n",
       "         1.29784107e-01, -8.67306304e-02,  1.50168710e-01,\n",
       "         2.13442643e-01, -1.76846653e-01, -3.50992773e-01],\n",
       "       [ 2.21419664e-01, -2.03419425e-01,  2.22211642e-02,\n",
       "         7.21368551e-03,  1.45193549e-01,  3.03305851e-02,\n",
       "        -9.78477285e-02,  9.31252879e-02, -1.51832863e-01,\n",
       "         9.47037022e-02,  1.00000000e+00,  4.68282056e-01,\n",
       "         7.42243350e-02,  3.48954069e-02, -1.13204001e-02,\n",
       "         1.46187826e-01,  2.08827618e-01, -1.30479421e-01,\n",
       "         1.65244576e-01, -6.54892679e-02, -3.72599689e-02,\n",
       "         1.92012268e-01, -7.61008599e-02,  1.82812852e-01,\n",
       "        -3.53310746e-01, -2.67619304e-01,  1.26617518e-01,\n",
       "        -1.06385084e-02, -1.07691651e-01, -5.06868893e-02],\n",
       "       [-1.58708713e-01, -3.65366547e-01,  2.81905607e-02,\n",
       "         1.34367827e-01,  2.65268003e-02,  9.03938452e-02,\n",
       "         1.03122674e-01,  6.04458445e-02,  7.07039832e-02,\n",
       "         3.61909904e-01,  4.68282056e-01,  1.00000000e+00,\n",
       "        -2.19606843e-01,  3.44219804e-02, -1.22300395e-01,\n",
       "        -1.06784721e-02,  1.62220767e-01, -6.48110178e-02,\n",
       "         2.31874232e-01, -9.50861365e-02, -2.67957371e-01,\n",
       "         1.29695922e-01, -1.53377159e-01,  3.45661666e-01,\n",
       "        -1.79687267e-03, -2.12147619e-01,  3.34811429e-01,\n",
       "        -1.19777494e-01, -1.71395974e-01, -8.40583995e-02],\n",
       "       [ 2.24733565e-01,  8.39657877e-02,  3.14890397e-01,\n",
       "        -7.23012927e-02, -1.56466738e-01,  3.37246942e-01,\n",
       "        -2.77253194e-01, -8.66092474e-02, -1.54556766e-01,\n",
       "        -2.08593435e-01,  7.42243350e-02, -2.19606843e-01,\n",
       "         1.00000000e+00,  9.54422098e-03, -1.71965922e-01,\n",
       "         3.14230224e-01, -1.28191926e-01,  3.30264711e-01,\n",
       "        -2.34630111e-01,  3.26088961e-02,  2.50657371e-01,\n",
       "         3.86054143e-01,  3.17581083e-01,  1.36125748e-01,\n",
       "        -2.43983593e-01,  3.70374827e-02, -1.24417789e-01,\n",
       "         9.70014896e-02,  2.37908778e-01,  2.90884888e-01],\n",
       "       [ 1.78885660e-01, -3.32166055e-01, -2.52675996e-02,\n",
       "         1.63104470e-01,  1.33582738e-01, -1.77957468e-01,\n",
       "         2.35501418e-01,  2.03905080e-01,  1.24159315e-02,\n",
       "         8.65609524e-02,  3.48954069e-02,  3.44219804e-02,\n",
       "         9.54422098e-03,  1.00000000e+00, -8.90996581e-02,\n",
       "        -2.12482107e-01, -9.42209011e-02,  2.58980764e-01,\n",
       "         2.68001021e-01, -1.15825488e-01, -5.42477940e-02,\n",
       "         5.05145797e-02,  2.05114318e-01,  1.10568252e-01,\n",
       "         5.97058516e-02, -2.93019452e-01,  4.25629783e-01,\n",
       "        -8.99914891e-02,  1.67607100e-01,  2.29771947e-01],\n",
       "       [-1.79223212e-01, -3.57805011e-02, -4.21646129e-01,\n",
       "        -3.28125303e-01,  8.06794482e-02,  3.99893376e-02,\n",
       "        -6.51720641e-02,  7.15594594e-02,  4.37902340e-01,\n",
       "        -2.71876993e-01, -1.13204001e-02, -1.22300395e-01,\n",
       "        -1.71965922e-01, -8.90996581e-02,  1.00000000e+00,\n",
       "        -3.09897666e-01, -6.55544332e-02, -1.85317404e-01,\n",
       "         3.63110983e-02,  1.21767570e-01,  1.01454586e-01,\n",
       "         2.22152919e-01,  2.88734166e-02,  1.08008489e-01,\n",
       "        -1.11288602e-01,  3.43611131e-01,  1.14565824e-02,\n",
       "        -3.81827971e-01,  5.25096074e-02,  2.58689388e-01],\n",
       "       [ 6.08198200e-02,  2.84403565e-01,  2.55633606e-01,\n",
       "         3.13071284e-02, -3.07360100e-01,  5.06283147e-02,\n",
       "        -2.05642273e-01,  1.53538956e-01, -3.51198101e-01,\n",
       "         9.17889603e-02,  1.46187826e-01, -1.06784721e-02,\n",
       "         3.14230224e-01, -2.12482107e-01, -3.09897666e-01,\n",
       "         1.00000000e+00,  1.84336008e-01,  8.14530633e-02,\n",
       "        -5.33269365e-02, -2.52267161e-02, -2.56892213e-01,\n",
       "         2.36335698e-01, -9.77847711e-02, -7.48491527e-02,\n",
       "        -8.05122381e-02,  7.79153323e-02, -2.17982709e-01,\n",
       "         5.05115716e-01,  1.35086433e-01, -3.00219787e-02],\n",
       "       [-7.77351030e-02,  7.32182972e-02, -6.64444023e-02,\n",
       "        -1.29716705e-01, -7.61271978e-02,  7.39532843e-02,\n",
       "         2.17407352e-01, -1.80569947e-01, -3.40456525e-01,\n",
       "         2.19737387e-01,  2.08827618e-01,  1.62220767e-01,\n",
       "        -1.28191926e-01, -9.42209011e-02, -6.55544332e-02,\n",
       "         1.84336008e-01,  1.00000000e+00, -1.25445568e-01,\n",
       "         3.49185326e-01, -3.01956394e-02, -1.29854526e-01,\n",
       "        -9.81270092e-02, -4.53701966e-01,  3.71101107e-01,\n",
       "        -5.25547475e-02,  6.06995750e-02,  2.00519301e-01,\n",
       "         2.14719350e-01, -1.43524638e-01,  8.92018099e-02],\n",
       "       [-1.36780676e-01, -1.69103152e-02, -2.09243871e-01,\n",
       "         4.45621117e-03,  1.02407470e-01,  4.21572104e-02,\n",
       "         2.69652933e-01, -6.21156809e-02, -4.18722523e-02,\n",
       "         5.75590558e-02, -1.30479421e-01, -6.48110178e-02,\n",
       "         3.30264711e-01,  2.58980764e-01, -1.85317404e-01,\n",
       "         8.14530633e-02, -1.25445568e-01,  1.00000000e+00,\n",
       "        -8.84683374e-02, -3.23644835e-01,  8.10603043e-02,\n",
       "         1.95594002e-01,  2.10703315e-01,  7.24466536e-02,\n",
       "         2.57735287e-01,  2.29718224e-01, -1.22693672e-01,\n",
       "        -1.80361461e-01,  3.33810308e-01,  2.64632875e-01],\n",
       "       [ 4.67487550e-02, -3.39110143e-01, -1.21362145e-01,\n",
       "         2.45267881e-01,  8.92183991e-03, -1.79982436e-01,\n",
       "         1.21964183e-01, -2.38232488e-02, -2.93949053e-01,\n",
       "        -4.89951258e-03,  1.65244576e-01,  2.31874232e-01,\n",
       "        -2.34630111e-01,  2.68001021e-01,  3.63110983e-02,\n",
       "        -5.33269365e-02,  3.49185326e-01, -8.84683374e-02,\n",
       "         1.00000000e+00, -4.30896657e-02, -2.33832448e-01,\n",
       "        -8.24303743e-02, -2.66929124e-01,  3.15321311e-01,\n",
       "         9.47617167e-02, -3.29390095e-01,  3.79060194e-01,\n",
       "        -9.28927730e-02,  2.59583248e-01,  2.56984917e-01],\n",
       "       [-2.71332283e-01,  3.78909495e-01,  3.07145355e-01,\n",
       "         1.81052220e-01, -3.37812403e-01, -7.41477499e-02,\n",
       "         6.44486716e-03,  2.16206212e-01,  2.33312285e-01,\n",
       "        -2.17078934e-01, -6.54892679e-02, -9.50861365e-02,\n",
       "         3.26088961e-02, -1.15825488e-01,  1.21767570e-01,\n",
       "        -2.52267161e-02, -3.01956394e-02, -3.23644835e-01,\n",
       "        -4.30896657e-02,  1.00000000e+00,  2.74055129e-01,\n",
       "        -1.64054093e-01,  2.93916716e-01, -3.82266020e-02,\n",
       "        -4.36282837e-02,  2.05906923e-01, -4.12714492e-02,\n",
       "         2.99374756e-01, -6.23121177e-04,  1.59886253e-03],\n",
       "       [-1.29560161e-01,  4.76414787e-02, -6.17558189e-02,\n",
       "        -6.57839960e-02, -7.71454737e-02,  2.86132435e-02,\n",
       "         1.58309776e-01, -2.70025048e-01,  2.30200662e-01,\n",
       "         2.30558720e-02, -3.72599689e-02, -2.67957371e-01,\n",
       "         2.50657371e-01, -5.42477940e-02,  1.01454586e-01,\n",
       "        -2.56892213e-01, -1.29854526e-01,  8.10603043e-02,\n",
       "        -2.33832448e-01,  2.74055129e-01,  1.00000000e+00,\n",
       "         3.11049142e-02,  2.90783300e-01, -1.93070492e-01,\n",
       "        -2.26375074e-01,  1.57546917e-01, -1.00711341e-01,\n",
       "        -1.58348109e-01,  1.03998659e-01,  4.16470277e-02],\n",
       "       [ 2.05763286e-02, -2.76394468e-01, -1.95354314e-01,\n",
       "        -1.99612955e-01, -8.79630506e-03,  2.95464513e-01,\n",
       "        -1.09082191e-01,  2.60046195e-01, -3.06226796e-02,\n",
       "         5.52065592e-02,  1.92012268e-01,  1.29695922e-01,\n",
       "         3.86054143e-01,  5.05145797e-02,  2.22152919e-01,\n",
       "         2.36335698e-01, -9.81270092e-02,  1.95594002e-01,\n",
       "        -8.24303743e-02, -1.64054093e-01,  3.11049142e-02,\n",
       "         1.00000000e+00,  1.41294873e-01,  2.74653669e-01,\n",
       "         5.03913954e-02, -1.39708089e-01, -8.55241748e-02,\n",
       "        -1.65548539e-01,  9.42827111e-02,  2.93627349e-01],\n",
       "       [ 3.12754491e-02, -1.11200312e-01,  9.82265438e-02,\n",
       "        -6.89961525e-03, -1.19007888e-01,  6.76901136e-02,\n",
       "         4.89759063e-02,  2.47175992e-01,  4.11463317e-01,\n",
       "        -1.17852025e-01, -7.61008599e-02, -1.53377159e-01,\n",
       "         3.17581083e-01,  2.05114318e-01,  2.88734166e-02,\n",
       "        -9.77847711e-02, -4.53701966e-01,  2.10703315e-01,\n",
       "        -2.66929124e-01,  2.93916716e-01,  2.90783300e-01,\n",
       "         1.41294873e-01,  1.00000000e+00, -8.79766164e-03,\n",
       "         2.52965639e-01,  3.38313851e-01,  3.40359979e-02,\n",
       "         7.31116150e-02,  4.26436318e-01, -2.55432668e-02],\n",
       "       [-1.52004122e-01, -2.10460516e-01, -1.20633406e-03,\n",
       "        -3.33263342e-01,  5.25178786e-02,  1.52308206e-01,\n",
       "        -1.23220031e-01,  4.13128379e-02,  7.07984276e-02,\n",
       "        -3.88633393e-02,  1.82812852e-01,  3.45661666e-01,\n",
       "         1.36125748e-01,  1.10568252e-01,  1.08008489e-01,\n",
       "        -7.48491527e-02,  3.71101107e-01,  7.24466536e-02,\n",
       "         3.15321311e-01, -3.82266020e-02, -1.93070492e-01,\n",
       "         2.74653669e-01, -8.79766164e-03,  1.00000000e+00,\n",
       "        -2.32521418e-01, -6.45895010e-02,  2.24408156e-01,\n",
       "        -4.16694587e-01,  6.01583193e-02,  2.83540407e-01],\n",
       "       [-2.16492401e-01, -1.51789422e-01, -1.11334532e-01,\n",
       "         3.14057935e-01, -4.37507711e-02, -5.85698833e-02,\n",
       "         3.27879259e-01,  1.80130495e-01, -4.95007729e-02,\n",
       "         1.29784107e-01, -3.53310746e-01, -1.79687267e-03,\n",
       "        -2.43983593e-01,  5.97058516e-02, -1.11288602e-01,\n",
       "        -8.05122381e-02, -5.25547475e-02,  2.57735287e-01,\n",
       "         9.47617167e-02, -4.36282837e-02, -2.26375074e-01,\n",
       "         5.03913954e-02,  2.52965639e-01, -2.32521418e-01,\n",
       "         1.00000000e+00,  1.30016008e-01, -1.74334963e-02,\n",
       "         2.16225464e-01,  1.40055622e-01,  4.24811774e-02],\n",
       "       [-3.65689280e-01,  1.83028855e-01, -2.04603741e-01,\n",
       "        -2.17869577e-01, -4.93961987e-02,  1.83210420e-02,\n",
       "         1.12084073e-01,  1.63579075e-01,  3.68493351e-01,\n",
       "        -8.67306304e-02, -2.67619304e-01, -2.12147619e-01,\n",
       "         3.70374827e-02, -2.93019452e-01,  3.43611131e-01,\n",
       "         7.79153323e-02,  6.06995750e-02,  2.29718224e-01,\n",
       "        -3.29390095e-01,  2.05906923e-01,  1.57546917e-01,\n",
       "        -1.39708089e-01,  3.38313851e-01, -6.45895010e-02,\n",
       "         1.30016008e-01,  1.00000000e+00, -1.79959280e-01,\n",
       "         6.10483218e-02,  1.97461340e-01, -3.75307223e-02],\n",
       "       [ 1.06166049e-01, -4.41483729e-01,  9.63792033e-02,\n",
       "         2.10670557e-01, -1.45572941e-01,  2.63103914e-02,\n",
       "         4.02402854e-01, -2.83314899e-01, -7.83976456e-03,\n",
       "         1.50168710e-01,  1.26617518e-01,  3.34811429e-01,\n",
       "        -1.24417789e-01,  4.25629783e-01,  1.14565824e-02,\n",
       "        -2.17982709e-01,  2.00519301e-01, -1.22693672e-01,\n",
       "         3.79060194e-01, -4.12714492e-02, -1.00711341e-01,\n",
       "        -8.55241748e-02,  3.40359979e-02,  2.24408156e-01,\n",
       "        -1.74334963e-02, -1.79959280e-01,  1.00000000e+00,\n",
       "        -9.57021136e-02,  2.93887615e-01,  3.14398782e-01],\n",
       "       [ 8.48890466e-02,  2.42361629e-01,  2.92690230e-01,\n",
       "         2.92967267e-01, -2.62688350e-01,  1.35707556e-01,\n",
       "         1.67511474e-02,  1.79724013e-01, -3.71398988e-01,\n",
       "         2.13442643e-01, -1.06385084e-02, -1.19777494e-01,\n",
       "         9.70014896e-02, -8.99914891e-02, -3.81827971e-01,\n",
       "         5.05115716e-01,  2.14719350e-01, -1.80361461e-01,\n",
       "        -9.28927730e-02,  2.99374756e-01, -1.58348109e-01,\n",
       "        -1.65548539e-01,  7.31116150e-02, -4.16694587e-01,\n",
       "         2.16225464e-01,  6.10483218e-02, -9.57021136e-02,\n",
       "         1.00000000e+00,  8.50955689e-02, -2.46483552e-01],\n",
       "       [-1.44567569e-01, -1.76714954e-01,  4.74691735e-02,\n",
       "         8.83360809e-02,  1.01150929e-02, -6.75303533e-02,\n",
       "         2.48897346e-01,  1.48403809e-03, -1.12684131e-01,\n",
       "        -1.76846653e-01, -1.07691651e-01, -1.71395974e-01,\n",
       "         2.37908778e-01,  1.67607100e-01,  5.25096074e-02,\n",
       "         1.35086433e-01, -1.43524638e-01,  3.33810308e-01,\n",
       "         2.59583248e-01, -6.23121177e-04,  1.03998659e-01,\n",
       "         9.42827111e-02,  4.26436318e-01,  6.01583193e-02,\n",
       "         1.40055622e-01,  1.97461340e-01,  2.93887615e-01,\n",
       "         8.50955689e-02,  1.00000000e+00,  4.13188323e-01],\n",
       "       [-3.33583610e-01,  2.20199753e-02, -9.89274427e-02,\n",
       "         1.14475237e-02,  1.06465394e-01, -1.39583194e-01,\n",
       "         3.70249430e-01, -1.12604557e-01, -3.61419338e-02,\n",
       "        -3.50992773e-01, -5.06868893e-02, -8.40583995e-02,\n",
       "         2.90884888e-01,  2.29771947e-01,  2.58689388e-01,\n",
       "        -3.00219787e-02,  8.92018099e-02,  2.64632875e-01,\n",
       "         2.56984917e-01,  1.59886253e-03,  4.16470277e-02,\n",
       "         2.93627349e-01, -2.55432668e-02,  2.83540407e-01,\n",
       "         4.24811774e-02, -3.75307223e-02,  3.14398782e-01,\n",
       "        -2.46483552e-01,  4.13188323e-01,  1.00000000e+00]])"
      ]
     },
     "execution_count": 23,
     "metadata": {},
     "output_type": "execute_result"
    }
   ],
   "execution_count": 23
  },
  {
   "metadata": {
    "ExecuteTime": {
     "end_time": "2024-10-27T08:22:52.368563Z",
     "start_time": "2024-10-27T08:22:52.365995Z"
    }
   },
   "cell_type": "code",
   "source": [
    "vec_1 = np.random.randint(1, 3, 10)\n",
    "vec_2 = np.random.randint(1, 3, 10)"
   ],
   "id": "e7ee81bcd2cde8f6",
   "outputs": [],
   "execution_count": 24
  },
  {
   "metadata": {
    "ExecuteTime": {
     "end_time": "2024-10-27T08:22:52.430548Z",
     "start_time": "2024-10-27T08:22:52.425947Z"
    }
   },
   "cell_type": "code",
   "source": [
    "def chi_square_test(vec_1: np.ndarray, vec_2: np.ndarray) -> Dict[str, float]:\n",
    "    chi2_stat = np.sum((vec_1 - vec_2) ** 2 / vec_2)\n",
    "    p_value = 1 - chi2.cdf(chi2_stat, df=len(vec_1) - 1)\n",
    "    return {'chi2': chi2_stat, 'p-value': p_value}\n",
    "\n",
    "\n",
    "# Dependency not found\n",
    "chi_square_test(vec_1, vec_2)"
   ],
   "id": "bd4d497d4f839825",
   "outputs": [
    {
     "data": {
      "text/plain": [
       "{'chi2': 4.0, 'p-value': 0.9114125268316792}"
      ]
     },
     "execution_count": 25,
     "metadata": {},
     "output_type": "execute_result"
    }
   ],
   "execution_count": 25
  },
  {
   "metadata": {},
   "cell_type": "markdown",
   "source": "#### 5. Задания на векторную и матричную алгебру",
   "id": "1325f7af4e0cbfb2"
  },
  {
   "metadata": {
    "ExecuteTime": {
     "end_time": "2024-10-27T08:22:52.503784Z",
     "start_time": "2024-10-27T08:22:52.500985Z"
    }
   },
   "cell_type": "code",
   "source": "vectors @ matrix",
   "id": "42c7cf13521c72d7",
   "outputs": [
    {
     "data": {
      "text/plain": [
       "array([780, 688, 826, 916, 712, 915, 882, 817, 660, 760, 778, 878, 717,\n",
       "       719, 582, 705, 792, 841, 796, 908, 789, 789, 924, 733, 979, 636,\n",
       "       756, 680, 726, 695])"
      ]
     },
     "execution_count": 26,
     "metadata": {},
     "output_type": "execute_result"
    }
   ],
   "execution_count": 26
  },
  {
   "metadata": {
    "ExecuteTime": {
     "end_time": "2024-10-27T08:22:52.576763Z",
     "start_time": "2024-10-27T08:22:52.571976Z"
    }
   },
   "cell_type": "code",
   "source": "np.linalg.det(matrix)",
   "id": "33911f0597caa944",
   "outputs": [
    {
     "data": {
      "text/plain": [
       "-1.4408957793330925e+28"
      ]
     },
     "execution_count": 27,
     "metadata": {},
     "output_type": "execute_result"
    }
   ],
   "execution_count": 27
  },
  {
   "metadata": {
    "ExecuteTime": {
     "end_time": "2024-10-27T08:22:52.640025Z",
     "start_time": "2024-10-27T08:22:52.636665Z"
    }
   },
   "cell_type": "code",
   "source": "vectors @ vectors.T",
   "id": "4728afde9231ce33",
   "outputs": [
    {
     "data": {
      "text/plain": [
       "1005"
      ]
     },
     "execution_count": 28,
     "metadata": {},
     "output_type": "execute_result"
    }
   ],
   "execution_count": 28
  },
  {
   "metadata": {
    "ExecuteTime": {
     "end_time": "2024-10-27T08:22:52.695710Z",
     "start_time": "2024-10-27T08:22:52.692573Z"
    }
   },
   "cell_type": "code",
   "source": "np.linalg.solve(matrix, vectors)",
   "id": "2146e26dafa17b18",
   "outputs": [
    {
     "data": {
      "text/plain": [
       "array([ 0.12970466,  0.09780314, -1.80846879,  4.42468571,  1.77961868,\n",
       "        3.57670037,  2.26949879,  2.20123547, -2.24177486, -0.4988649 ,\n",
       "        1.71343694, -2.80438738, -2.47984869, -2.25731112, -3.83452359,\n",
       "       -0.26267286, -0.77095354, -0.29652314, -0.58140426,  0.34227803,\n",
       "        1.13024531,  1.01370476,  0.31872882,  1.06720375, -3.00643659,\n",
       "        0.76840423, -0.24605171,  0.92444264,  1.61913146, -3.13175603])"
      ]
     },
     "execution_count": 29,
     "metadata": {},
     "output_type": "execute_result"
    }
   ],
   "execution_count": 29
  },
  {
   "metadata": {
    "ExecuteTime": {
     "end_time": "2024-10-27T08:22:52.759530Z",
     "start_time": "2024-10-27T08:22:52.749487Z"
    }
   },
   "cell_type": "code",
   "source": [
    "eigenvalues, eigenvectors = np.linalg.eig(matrix)\n",
    "eigenvalues, eigenvectors"
   ],
   "id": "17252199a34ee0f4",
   "outputs": [
    {
     "data": {
      "text/plain": [
       "(array([147.52054548 +0.j        ,  17.23919607 +0.j        ,\n",
       "          3.14198866+14.32947391j,   3.14198866-14.32947391j,\n",
       "         -9.39493529 +7.1899501j ,  -9.39493529 -7.1899501j ,\n",
       "        -12.05242528 +0.j        ,  -3.89870782+10.58925149j,\n",
       "         -3.89870782-10.58925149j,   3.85701038+11.43052925j,\n",
       "          3.85701038-11.43052925j,  -7.21590004 +3.57217506j,\n",
       "         -7.21590004 -3.57217506j,  -7.29922142 +2.65710872j,\n",
       "         -7.29922142 -2.65710872j,  -1.53400664 +7.72975435j,\n",
       "         -1.53400664 -7.72975435j,  11.69896923 +1.87614665j,\n",
       "         11.69896923 -1.87614665j,   5.27840291 +7.97343476j,\n",
       "          5.27840291 -7.97343476j,   8.96756651 +4.09382179j,\n",
       "          8.96756651 -4.09382179j,   2.14970627 +4.7033177j ,\n",
       "          2.14970627 -4.7033177j ,   6.1868221  +0.j        ,\n",
       "         -1.25300482 +2.30103578j,  -1.25300482 -2.30103578j,\n",
       "          1.55506288 +0.16985829j,   1.55506288 -0.16985829j]),\n",
       " array([[-1.80664262e-01+0.j        ,  9.94952724e-02+0.j        ,\n",
       "          1.35184867e-02+0.2127201j ,  1.35184867e-02-0.2127201j ,\n",
       "         -1.62870738e-02-0.13335135j, -1.62870738e-02+0.13335135j,\n",
       "          2.31396020e-01+0.j        ,  2.89755965e-02+0.10403819j,\n",
       "          2.89755965e-02-0.10403819j, -1.25455686e-01-0.00472196j,\n",
       "         -1.25455686e-01+0.00472196j,  7.44747473e-03-0.04696628j,\n",
       "          7.44747473e-03+0.04696628j, -3.15036059e-02-0.25889704j,\n",
       "         -3.15036059e-02+0.25889704j,  4.10197351e-01+0.j        ,\n",
       "          4.10197351e-01-0.j        , -9.40592401e-02+0.01320762j,\n",
       "         -9.40592401e-02-0.01320762j,  5.15435249e-02+0.11159295j,\n",
       "          5.15435249e-02-0.11159295j, -5.56160183e-02-0.19801462j,\n",
       "         -5.56160183e-02+0.19801462j, -5.48814719e-02+0.04361339j,\n",
       "         -5.48814719e-02-0.04361339j, -1.52974354e-01+0.j        ,\n",
       "         -1.23318958e-05+0.09372082j, -1.23318958e-05-0.09372082j,\n",
       "          8.58896514e-02+0.00786638j,  8.58896514e-02-0.00786638j],\n",
       "        [-2.18058075e-01+0.j        ,  3.48770050e-01+0.j        ,\n",
       "          4.21532231e-03+0.08833199j,  4.21532231e-03-0.08833199j,\n",
       "          3.77819376e-02+0.19355956j,  3.77819376e-02-0.19355956j,\n",
       "         -2.18289500e-02+0.j        , -3.65065646e-02+0.02487968j,\n",
       "         -3.65065646e-02-0.02487968j, -9.10012172e-02+0.17735081j,\n",
       "         -9.10012172e-02-0.17735081j,  2.41253470e-01-0.0510365j ,\n",
       "          2.41253470e-01+0.0510365j , -3.46820517e-02-0.02935745j,\n",
       "         -3.46820517e-02+0.02935745j, -5.96750828e-02-0.13595931j,\n",
       "         -5.96750828e-02+0.13595931j, -5.96021537e-02-0.00666637j,\n",
       "         -5.96021537e-02+0.00666637j,  4.22537298e-01+0.j        ,\n",
       "          4.22537298e-01-0.j        , -2.91967643e-02-0.12362585j,\n",
       "         -2.91967643e-02+0.12362585j, -2.31110050e-02-0.10097807j,\n",
       "         -2.31110050e-02+0.10097807j, -1.21772771e-01+0.j        ,\n",
       "         -4.73526116e-02-0.09008448j, -4.73526116e-02+0.09008448j,\n",
       "         -4.03067424e-01+0.j        , -4.03067424e-01-0.j        ],\n",
       "        [-1.82100657e-01+0.j        ,  2.49803450e-01+0.j        ,\n",
       "         -1.18533864e-01+0.0538215j , -1.18533864e-01-0.0538215j ,\n",
       "          1.97592682e-01-0.09928641j,  1.97592682e-01+0.09928641j,\n",
       "          2.84303087e-01+0.j        ,  3.95663084e-02-0.06644953j,\n",
       "          3.95663084e-02+0.06644953j, -2.63413075e-02+0.0796161j ,\n",
       "         -2.63413075e-02-0.0796161j , -8.07750719e-02+0.06501641j,\n",
       "         -8.07750719e-02-0.06501641j, -2.03189483e-01+0.03758098j,\n",
       "         -2.03189483e-01-0.03758098j, -9.63238479e-02+0.05907313j,\n",
       "         -9.63238479e-02-0.05907313j, -9.39033565e-02+0.04158857j,\n",
       "         -9.39033565e-02-0.04158857j,  2.38796902e-02-0.12568098j,\n",
       "          2.38796902e-02+0.12568098j, -1.35662270e-02-0.08486082j,\n",
       "         -1.35662270e-02+0.08486082j,  4.95225267e-02+0.19931084j,\n",
       "          4.95225267e-02-0.19931084j,  1.37163445e-02+0.j        ,\n",
       "         -1.49501973e-01-0.07287402j, -1.49501973e-01+0.07287402j,\n",
       "         -1.70165422e-01+0.02771469j, -1.70165422e-01-0.02771469j],\n",
       "        [-2.04163936e-01+0.j        , -6.16219769e-02+0.j        ,\n",
       "         -1.42182616e-01+0.08021318j, -1.42182616e-01-0.08021318j,\n",
       "          3.33714954e-01+0.j        ,  3.33714954e-01-0.j        ,\n",
       "          9.23088760e-02+0.j        ,  1.12752858e-02+0.02540433j,\n",
       "          1.12752858e-02-0.02540433j, -1.88761903e-01-0.02684455j,\n",
       "         -1.88761903e-01+0.02684455j, -1.46279256e-01-0.19326901j,\n",
       "         -1.46279256e-01+0.19326901j, -3.92179629e-02+0.025644j  ,\n",
       "         -3.92179629e-02-0.025644j  , -1.16618748e-01-0.04881447j,\n",
       "         -1.16618748e-01+0.04881447j,  1.90652503e-01+0.03742073j,\n",
       "          1.90652503e-01-0.03742073j,  1.90216677e-02-0.02298199j,\n",
       "          1.90216677e-02+0.02298199j, -4.65084623e-02-0.03191708j,\n",
       "         -4.65084623e-02+0.03191708j, -2.38339548e-01-0.01634739j,\n",
       "         -2.38339548e-01+0.01634739j, -4.60235042e-02+0.j        ,\n",
       "          3.54596973e-01+0.j        ,  3.54596973e-01-0.j        ,\n",
       "          2.08057779e-01-0.02121075j,  2.08057779e-01+0.02121075j],\n",
       "        [-1.47102634e-01+0.j        , -1.51163538e-01+0.j        ,\n",
       "          8.37041944e-02-0.02296393j,  8.37041944e-02+0.02296393j,\n",
       "          3.70951002e-02+0.07650058j,  3.70951002e-02-0.07650058j,\n",
       "         -1.38063956e-01+0.j        , -2.72410524e-01+0.1290438j ,\n",
       "         -2.72410524e-01-0.1290438j ,  1.09362588e-01+0.07063571j,\n",
       "          1.09362588e-01-0.07063571j, -1.58837399e-01+0.07121206j,\n",
       "         -1.58837399e-01-0.07121206j, -9.05304952e-02+0.01441857j,\n",
       "         -9.05304952e-02-0.01441857j,  1.38858936e-01+0.007905j  ,\n",
       "          1.38858936e-01-0.007905j  ,  7.64290617e-02-0.00996779j,\n",
       "          7.64290617e-02+0.00996779j,  8.13777283e-02-0.01023018j,\n",
       "          8.13777283e-02+0.01023018j,  1.98874083e-01-0.06267995j,\n",
       "          1.98874083e-01+0.06267995j, -1.25788332e-01+0.14597162j,\n",
       "         -1.25788332e-01-0.14597162j,  2.65610245e-01+0.j        ,\n",
       "          2.01485746e-01-0.01332087j,  2.01485746e-01+0.01332087j,\n",
       "          1.47744968e-01-0.01580597j,  1.47744968e-01+0.01580597j],\n",
       "        [-1.83842961e-01+0.j        ,  1.03473138e-01+0.j        ,\n",
       "          1.35547585e-01-0.00929952j,  1.35547585e-01+0.00929952j,\n",
       "          8.67505794e-02+0.149844j  ,  8.67505794e-02-0.149844j  ,\n",
       "          3.13026249e-01+0.j        ,  5.13809659e-02+0.06873627j,\n",
       "          5.13809659e-02-0.06873627j, -1.97611366e-02+0.15070826j,\n",
       "         -1.97611366e-02-0.15070826j,  1.65871616e-01+0.13947638j,\n",
       "          1.65871616e-01-0.13947638j, -2.31579163e-01+0.0586468j ,\n",
       "         -2.31579163e-01-0.0586468j ,  6.21306057e-02-0.09563277j,\n",
       "          6.21306057e-02+0.09563277j,  1.03949019e-01-0.13411991j,\n",
       "          1.03949019e-01+0.13411991j,  1.65249759e-01-0.21170426j,\n",
       "          1.65249759e-01+0.21170426j, -1.37442966e-01+0.2385938j ,\n",
       "         -1.37442966e-01-0.2385938j , -1.81939451e-01+0.01594433j,\n",
       "         -1.81939451e-01-0.01594433j,  1.99918849e-02+0.j        ,\n",
       "          2.54243005e-01-0.05786249j,  2.54243005e-01+0.05786249j,\n",
       "          6.97460323e-02-0.0389015j ,  6.97460323e-02+0.0389015j ],\n",
       "        [-1.77505590e-01+0.j        , -3.43970081e-01+0.j        ,\n",
       "         -8.35404331e-02-0.10521866j, -8.35404331e-02+0.10521866j,\n",
       "         -2.62647499e-02+0.03558418j, -2.62647499e-02-0.03558418j,\n",
       "         -7.78180479e-02+0.j        ,  5.69652834e-02+0.15186462j,\n",
       "          5.69652834e-02-0.15186462j, -6.07084037e-02-0.02471597j,\n",
       "         -6.07084037e-02+0.02471597j,  1.55991494e-01-0.16837653j,\n",
       "          1.55991494e-01+0.16837653j,  4.18077844e-01+0.j        ,\n",
       "          4.18077844e-01-0.j        ,  3.28507870e-02+0.0518201j ,\n",
       "          3.28507870e-02-0.0518201j ,  2.17519739e-01+0.0848459j ,\n",
       "          2.17519739e-01-0.0848459j , -6.47445569e-02+0.10984169j,\n",
       "         -6.47445569e-02-0.10984169j,  6.68602662e-03+0.05430406j,\n",
       "          6.68602662e-03-0.05430406j,  7.69971195e-02+0.08314656j,\n",
       "          7.69971195e-02-0.08314656j,  3.20129840e-01+0.j        ,\n",
       "          1.74003061e-01-0.17902072j,  1.74003061e-01+0.17902072j,\n",
       "          3.20695305e-01-0.02307995j,  3.20695305e-01+0.02307995j],\n",
       "        [-1.64569302e-01+0.j        ,  1.09732093e-01+0.j        ,\n",
       "         -9.67004871e-02-0.05252219j, -9.67004871e-02+0.05252219j,\n",
       "         -2.11662402e-01-0.08247751j, -2.11662402e-01+0.08247751j,\n",
       "         -3.85113904e-01+0.j        , -2.11557813e-01+0.05909356j,\n",
       "         -2.11557813e-01-0.05909356j,  7.28136998e-02-0.27742729j,\n",
       "          7.28136998e-02+0.27742729j, -2.89523035e-02+0.18259449j,\n",
       "         -2.89523035e-02-0.18259449j,  1.31535345e-01+0.0778351j ,\n",
       "          1.31535345e-01-0.0778351j ,  6.68647877e-02+0.22308515j,\n",
       "          6.68647877e-02-0.22308515j, -3.13958976e-03-0.01866638j,\n",
       "         -3.13958976e-03+0.01866638j, -2.60226755e-01+0.09102507j,\n",
       "         -2.60226755e-01-0.09102507j,  2.39516496e-02-0.16811864j,\n",
       "          2.39516496e-02+0.16811864j, -9.87049185e-02+0.16537672j,\n",
       "         -9.87049185e-02-0.16537672j,  4.18249001e-02+0.j        ,\n",
       "          1.71646433e-01-0.09561659j,  1.71646433e-01+0.09561659j,\n",
       "          3.73927807e-01-0.01283881j,  3.73927807e-01+0.01283881j],\n",
       "        [-1.58595551e-01+0.j        , -1.74280472e-02+0.j        ,\n",
       "         -1.64396432e-01-0.10378194j, -1.64396432e-01+0.10378194j,\n",
       "          7.79093764e-02+0.14775359j,  7.79093764e-02-0.14775359j,\n",
       "          2.26918254e-01+0.j        ,  1.39106745e-01+0.28594072j,\n",
       "          1.39106745e-01-0.28594072j,  5.11862954e-03-0.1351008j ,\n",
       "          5.11862954e-03+0.1351008j ,  1.61216453e-02-0.14380783j,\n",
       "          1.61216453e-02+0.14380783j, -5.41867293e-02+0.01448727j,\n",
       "         -5.41867293e-02-0.01448727j,  1.05873247e-01-0.06997936j,\n",
       "          1.05873247e-01+0.06997936j, -1.86176216e-01+0.03768825j,\n",
       "         -1.86176216e-01-0.03768825j, -9.81664256e-02+0.33993081j,\n",
       "         -9.81664256e-02-0.33993081j, -2.23096981e-01-0.01175396j,\n",
       "         -2.23096981e-01+0.01175396j,  2.88127604e-01+0.08415449j,\n",
       "          2.88127604e-01-0.08415449j, -3.74449236e-01+0.j        ,\n",
       "         -1.36162080e-01-0.05743057j, -1.36162080e-01+0.05743057j,\n",
       "         -1.33718572e-01+0.02803558j, -1.33718572e-01-0.02803558j],\n",
       "        [-1.92965127e-01+0.j        , -2.08256962e-01+0.j        ,\n",
       "         -9.44590308e-02-0.11133111j, -9.44590308e-02+0.11133111j,\n",
       "          7.14929433e-02-0.06996994j,  7.14929433e-02+0.06996994j,\n",
       "          7.48416689e-02+0.j        , -1.31541769e-02+0.12999678j,\n",
       "         -1.31541769e-02-0.12999678j,  3.76116166e-02+0.02858235j,\n",
       "          3.76116166e-02-0.02858235j,  3.56637878e-02+0.01957165j,\n",
       "          3.56637878e-02-0.01957165j, -6.68503352e-03+0.05610358j,\n",
       "         -6.68503352e-03-0.05610358j,  2.18928736e-02+0.18812293j,\n",
       "          2.18928736e-02-0.18812293j,  1.90977620e-01+0.02162604j,\n",
       "          1.90977620e-01-0.02162604j, -2.01038756e-01+0.00601373j,\n",
       "         -2.01038756e-01-0.00601373j, -8.03308920e-02+0.03131598j,\n",
       "         -8.03308920e-02-0.03131598j,  1.13986090e-02-0.14446731j,\n",
       "          1.13986090e-02+0.14446731j,  9.82790012e-02+0.j        ,\n",
       "         -8.23258208e-02+0.07693044j, -8.23258208e-02-0.07693044j,\n",
       "          7.58668264e-03-0.01299418j,  7.58668264e-03+0.01299418j],\n",
       "        [-1.82106318e-01+0.j        , -8.40696114e-02+0.j        ,\n",
       "          1.87466869e-01-0.09866965j,  1.87466869e-01+0.09866965j,\n",
       "          1.06616180e-01-0.3106485j ,  1.06616180e-01+0.3106485j ,\n",
       "          1.13848982e-02+0.j        , -1.70580892e-01-0.13286338j,\n",
       "         -1.70580892e-01+0.13286338j,  2.42653054e-01-0.14704458j,\n",
       "          2.42653054e-01+0.14704458j, -3.77507827e-01+0.j        ,\n",
       "         -3.77507827e-01-0.j        ,  2.50362328e-01-0.00487632j,\n",
       "          2.50362328e-01+0.00487632j, -1.64406701e-01+0.04562413j,\n",
       "         -1.64406701e-01-0.04562413j,  1.80238863e-01-0.02501342j,\n",
       "          1.80238863e-01+0.02501342j,  2.49925886e-03-0.01335784j,\n",
       "          2.49925886e-03+0.01335784j,  1.28396610e-01+0.00137487j,\n",
       "          1.28396610e-01-0.00137487j, -1.69674228e-02-0.04048459j,\n",
       "         -1.69674228e-02+0.04048459j,  1.26256738e-01+0.j        ,\n",
       "          1.82699867e-01-0.11054674j,  1.82699867e-01+0.11054674j,\n",
       "          4.58620554e-03-0.02462681j,  4.58620554e-03+0.02462681j],\n",
       "        [-1.77195548e-01+0.j        , -1.49772607e-01+0.j        ,\n",
       "          5.09649196e-02-0.26255713j,  5.09649196e-02+0.26255713j,\n",
       "          2.31621239e-02-0.08018621j,  2.31621239e-02+0.08018621j,\n",
       "         -4.81770606e-02+0.j        ,  9.00520570e-03+0.03081241j,\n",
       "          9.00520570e-03-0.03081241j,  1.49320188e-01-0.15677072j,\n",
       "          1.49320188e-01+0.15677072j, -1.53001104e-01+0.02874898j,\n",
       "         -1.53001104e-01-0.02874898j, -1.24577837e-01+0.0876943j ,\n",
       "         -1.24577837e-01-0.0876943j , -2.03231190e-01-0.12930053j,\n",
       "         -2.03231190e-01+0.12930053j,  1.33607569e-01+0.08382107j,\n",
       "          1.33607569e-01-0.08382107j, -7.92193635e-02-0.00467877j,\n",
       "         -7.92193635e-02+0.00467877j, -1.28459328e-01-0.24126019j,\n",
       "         -1.28459328e-01+0.24126019j,  2.11933845e-01+0.23080356j,\n",
       "          2.11933845e-01-0.23080356j, -1.92147667e-01+0.j        ,\n",
       "         -2.12832072e-01-0.03686419j, -2.12832072e-01+0.03686419j,\n",
       "          2.18977305e-02+0.07219922j,  2.18977305e-02-0.07219922j],\n",
       "        [-1.46074147e-01+0.j        ,  1.63333875e-01+0.j        ,\n",
       "          2.40918456e-01+0.27195367j,  2.40918456e-01-0.27195367j,\n",
       "          4.44926354e-02+0.15975041j,  4.44926354e-02-0.15975041j,\n",
       "          2.99154203e-01+0.j        ,  7.11404409e-02-0.21362958j,\n",
       "          7.11404409e-02+0.21362958j,  1.99387200e-02+0.24083213j,\n",
       "          1.99387200e-02-0.24083213j,  9.15841020e-02-0.04195523j,\n",
       "          9.15841020e-02+0.04195523j, -2.09850009e-01-0.03141414j,\n",
       "         -2.09850009e-01+0.03141414j,  9.28206441e-02-0.10750969j,\n",
       "          9.28206441e-02+0.10750969j,  8.56093407e-02-0.0762252j ,\n",
       "          8.56093407e-02+0.0762252j ,  3.44686242e-02-0.04874725j,\n",
       "          3.44686242e-02+0.04874725j,  1.47928789e-01+0.09290626j,\n",
       "          1.47928789e-01-0.09290626j,  2.24487870e-02-0.01690549j,\n",
       "          2.24487870e-02+0.01690549j,  1.83803102e-01+0.j        ,\n",
       "         -1.31189424e-01+0.18819461j, -1.31189424e-01-0.18819461j,\n",
       "         -1.71769036e-01-0.01395292j, -1.71769036e-01+0.01395292j],\n",
       "        [-1.84341772e-01+0.j        , -3.53920424e-01+0.j        ,\n",
       "         -2.10233746e-01+0.2114949j , -2.10233746e-01-0.2114949j ,\n",
       "         -1.93313877e-01-0.04825141j, -1.93313877e-01+0.04825141j,\n",
       "         -1.60991689e-01+0.j        ,  9.62847242e-02-0.08891592j,\n",
       "          9.62847242e-02+0.08891592j, -1.75784970e-01-0.06024086j,\n",
       "         -1.75784970e-01+0.06024086j,  1.52565521e-01+0.26664279j,\n",
       "          1.52565521e-01-0.26664279j, -7.22310939e-02+0.24510051j,\n",
       "         -7.22310939e-02-0.24510051j,  2.14706188e-01+0.03858915j,\n",
       "          2.14706188e-01-0.03858915j,  1.62172763e-01+0.06992496j,\n",
       "          1.62172763e-01-0.06992496j,  1.02927853e-02+0.21281157j,\n",
       "          1.02927853e-02-0.21281157j, -7.93228368e-02+0.08765305j,\n",
       "         -7.93228368e-02-0.08765305j,  9.51245360e-02-0.17775533j,\n",
       "          9.51245360e-02+0.17775533j, -2.21158358e-02+0.j        ,\n",
       "         -2.07725028e-01+0.13475245j, -2.07725028e-01-0.13475245j,\n",
       "         -7.98882595e-02+0.00341963j, -7.98882595e-02-0.00341963j],\n",
       "        [-1.95771027e-01+0.j        ,  2.05319806e-01+0.j        ,\n",
       "         -1.07454939e-02-0.14449186j, -1.07454939e-02+0.14449186j,\n",
       "          3.22759726e-02-0.00383525j,  3.22759726e-02+0.00383525j,\n",
       "         -8.73503590e-02+0.j        ,  1.00565333e-02+0.09303105j,\n",
       "          1.00565333e-02-0.09303105j,  1.83232898e-02-0.18609474j,\n",
       "          1.83232898e-02+0.18609474j, -8.00743504e-02-0.06980001j,\n",
       "         -8.00743504e-02+0.06980001j,  1.47810410e-01+0.03528869j,\n",
       "          1.47810410e-01-0.03528869j,  1.41055094e-02-0.01721088j,\n",
       "          1.41055094e-02+0.01721088j, -4.99628407e-01+0.j        ,\n",
       "         -4.99628407e-01-0.j        , -3.69445362e-02-0.07591986j,\n",
       "         -3.69445362e-02+0.07591986j, -1.85796034e-01-0.21874091j,\n",
       "         -1.85796034e-01+0.21874091j,  1.85837094e-01+0.18482352j,\n",
       "          1.85837094e-01-0.18482352j, -3.51063063e-01+0.j        ,\n",
       "         -2.05827466e-01-0.01039555j, -2.05827466e-01+0.01039555j,\n",
       "         -2.30706812e-01+0.03170448j, -2.30706812e-01-0.03170448j],\n",
       "        [-1.92815244e-01+0.j        ,  2.63508717e-01+0.j        ,\n",
       "          1.81988243e-01-0.01444362j,  1.81988243e-01+0.01444362j,\n",
       "         -7.03545560e-02+0.04099823j, -7.03545560e-02-0.04099823j,\n",
       "          6.80576570e-02+0.j        , -1.45342418e-01+0.10650514j,\n",
       "         -1.45342418e-01-0.10650514j,  1.06513462e-01+0.07432235j,\n",
       "          1.06513462e-01-0.07432235j,  1.28717690e-02+0.06360794j,\n",
       "          1.28717690e-02-0.06360794j, -1.23676551e-01+0.03185076j,\n",
       "         -1.23676551e-01-0.03185076j,  1.02269426e-01+0.01789163j,\n",
       "          1.02269426e-01-0.01789163j, -1.59518128e-01+0.0404568j ,\n",
       "         -1.59518128e-01-0.0404568j ,  5.27868253e-02-0.04608968j,\n",
       "          5.27868253e-02+0.04608968j,  2.10072261e-01-0.09332072j,\n",
       "          2.10072261e-01+0.09332072j, -1.90589644e-01-0.1815625j ,\n",
       "         -1.90589644e-01+0.1815625j ,  3.99577822e-04+0.j        ,\n",
       "         -1.00364994e-03+0.20338639j, -1.00364994e-03-0.20338639j,\n",
       "         -6.87987360e-02-0.02027764j, -6.87987360e-02+0.02027764j],\n",
       "        [-1.83428139e-01+0.j        , -2.34366575e-02+0.j        ,\n",
       "         -1.15850226e-02-0.11606879j, -1.15850226e-02+0.11606879j,\n",
       "         -1.47233120e-01-0.07605364j, -1.47233120e-01+0.07605364j,\n",
       "         -1.17457303e-01+0.j        , -6.27572824e-02-0.21764845j,\n",
       "         -6.27572824e-02+0.21764845j, -1.23585068e-01+0.02618751j,\n",
       "         -1.23585068e-01-0.02618751j,  7.27395500e-02+0.02204572j,\n",
       "          7.27395500e-02-0.02204572j,  1.34521568e-01-0.05569998j,\n",
       "          1.34521568e-01+0.05569998j,  9.32742807e-02-0.06869993j,\n",
       "          9.32742807e-02+0.06869993j, -9.76300666e-02+0.03957675j,\n",
       "         -9.76300666e-02-0.03957675j, -5.39010354e-02+0.04636217j,\n",
       "         -5.39010354e-02-0.04636217j, -1.09261306e-01+0.01294562j,\n",
       "         -1.09261306e-01-0.01294562j,  7.34044757e-02-0.03727746j,\n",
       "          7.34044757e-02+0.03727746j, -4.74144751e-02+0.j        ,\n",
       "         -5.25680111e-02+0.02474319j, -5.25680111e-02-0.02474319j,\n",
       "          2.65447353e-01+0.00442895j,  2.65447353e-01-0.00442895j],\n",
       "        [-1.89703360e-01+0.j        , -1.65798998e-01+0.j        ,\n",
       "          2.78933198e-02+0.15898975j,  2.78933198e-02-0.15898975j,\n",
       "         -8.82013647e-02+0.21808952j, -8.82013647e-02-0.21808952j,\n",
       "          3.37743159e-02+0.j        ,  3.82611186e-01+0.j        ,\n",
       "          3.82611186e-01-0.j        ,  7.82303322e-02+0.1477071j ,\n",
       "          7.82303322e-02-0.1477071j ,  1.82011377e-01-0.03986467j,\n",
       "          1.82011377e-01+0.03986467j,  2.53250832e-02-0.06298966j,\n",
       "          2.53250832e-02+0.06298966j,  1.53451698e-01-0.24150984j,\n",
       "          1.53451698e-01+0.24150984j,  2.42889500e-01+0.01236538j,\n",
       "          2.42889500e-01-0.01236538j,  9.41064081e-02-0.03498797j,\n",
       "          9.41064081e-02+0.03498797j,  8.70486898e-02+0.06208812j,\n",
       "          8.70486898e-02-0.06208812j, -1.06478309e-01-0.16115803j,\n",
       "         -1.06478309e-01+0.16115803j,  2.61245749e-01+0.j        ,\n",
       "         -1.72070694e-02+0.11184444j, -1.72070694e-02-0.11184444j,\n",
       "         -1.82143443e-02-0.02526841j, -1.82143443e-02+0.02526841j],\n",
       "        [-1.61811326e-01+0.j        , -2.10081043e-02+0.j        ,\n",
       "          4.64953647e-03-0.20808786j,  4.64953647e-03+0.20808786j,\n",
       "          1.06292285e-01+0.05574464j,  1.06292285e-01-0.05574464j,\n",
       "          3.52288225e-02+0.j        , -1.85062328e-02+0.01937851j,\n",
       "         -1.85062328e-02-0.01937851j,  2.74308161e-02-0.22936594j,\n",
       "          2.74308161e-02+0.22936594j,  1.04454733e-01-0.16710124j,\n",
       "          1.04454733e-01+0.16710124j, -1.03771240e-01-0.03718539j,\n",
       "         -1.03771240e-01+0.03718539j,  1.24289072e-01-0.12189683j,\n",
       "          1.24289072e-01+0.12189683j, -2.32267479e-01-0.00441409j,\n",
       "         -2.32267479e-01+0.00441409j, -1.84833031e-01-0.14635832j,\n",
       "         -1.84833031e-01+0.14635832j,  1.65955090e-01-0.01950885j,\n",
       "          1.65955090e-01+0.01950885j, -7.89199751e-02-0.00396495j,\n",
       "         -7.89199751e-02+0.00396495j, -3.77933198e-02+0.j        ,\n",
       "          1.52316684e-02+0.12943543j,  1.52316684e-02-0.12943543j,\n",
       "         -2.46141003e-01-0.01989782j, -2.46141003e-01+0.01989782j],\n",
       "        [-1.48677044e-01+0.j        ,  1.80675398e-01+0.j        ,\n",
       "         -8.99754803e-02-0.07315742j, -8.99754803e-02+0.07315742j,\n",
       "          1.67959399e-01-0.02251785j,  1.67959399e-01+0.02251785j,\n",
       "         -3.21263162e-02+0.j        ,  4.08269515e-02-0.12855527j,\n",
       "          4.08269515e-02+0.12855527j, -3.74522059e-02-0.18128997j,\n",
       "         -3.74522059e-02+0.18128997j, -1.62227200e-02-0.10214481j,\n",
       "         -1.62227200e-02+0.10214481j, -6.04476375e-02+0.00585915j,\n",
       "         -6.04476375e-02-0.00585915j, -1.83952024e-01+0.0834659j ,\n",
       "         -1.83952024e-01-0.0834659j ,  8.03201183e-02-0.11252023j,\n",
       "          8.03201183e-02+0.11252023j,  1.48288384e-01+0.12000845j,\n",
       "          1.48288384e-01-0.12000845j, -6.33212607e-02+0.17805462j,\n",
       "         -6.33212607e-02-0.17805462j,  5.12317878e-02-0.14911821j,\n",
       "          5.12317878e-02+0.14911821j,  1.27187620e-01+0.j        ,\n",
       "         -5.33280064e-02+0.05135434j, -5.33280064e-02-0.05135434j,\n",
       "          7.31711223e-02+0.00648108j,  7.31711223e-02-0.00648108j],\n",
       "        [-1.70562845e-01+0.j        , -1.49057286e-01+0.j        ,\n",
       "          2.96661604e-02+0.12015064j,  2.96661604e-02-0.12015064j,\n",
       "          3.06974067e-01+0.02319674j,  3.06974067e-01-0.02319674j,\n",
       "          2.89029802e-01+0.j        ,  5.90424154e-02-0.16572778j,\n",
       "          5.90424154e-02+0.16572778j, -1.21553450e-02+0.09336401j,\n",
       "         -1.21553450e-02-0.09336401j,  1.35864837e-01-0.29016764j,\n",
       "          1.35864837e-01+0.29016764j,  2.58139524e-01-0.01004651j,\n",
       "          2.58139524e-01+0.01004651j, -2.55562370e-01-0.1905945j ,\n",
       "         -2.55562370e-01+0.1905945j , -5.49329811e-02+0.009012j  ,\n",
       "         -5.49329811e-02-0.009012j  ,  6.66833133e-02+0.17240781j,\n",
       "          6.66833133e-02-0.17240781j,  9.45049314e-02-0.04533132j,\n",
       "          9.45049314e-02+0.04533132j,  9.62981756e-02+0.03025058j,\n",
       "          9.62981756e-02-0.03025058j,  6.93044796e-02+0.j        ,\n",
       "          8.24400377e-02-0.14282545j,  8.24400377e-02+0.14282545j,\n",
       "         -1.28781505e-02+0.0140038j , -1.28781505e-02-0.0140038j ],\n",
       "        [-1.81984129e-01+0.j        , -8.18799560e-02+0.j        ,\n",
       "          3.66042716e-01+0.j        ,  3.66042716e-01-0.j        ,\n",
       "         -1.35291375e-01-0.02469267j, -1.35291375e-01+0.02469267j,\n",
       "         -2.38410968e-01+0.j        , -2.17200036e-01-0.02775172j,\n",
       "         -2.17200036e-01+0.02775172j,  3.31286685e-01+0.j        ,\n",
       "          3.31286685e-01-0.j        ,  1.32464834e-02+0.16600238j,\n",
       "          1.32464834e-02-0.16600238j, -1.71851149e-02+0.11093364j,\n",
       "         -1.71851149e-02-0.11093364j, -3.03123137e-02+0.19369752j,\n",
       "         -3.03123137e-02-0.19369752j,  4.99643592e-02+0.01981309j,\n",
       "          4.99643592e-02-0.01981309j, -1.33971678e-01-0.13913955j,\n",
       "         -1.33971678e-01+0.13913955j, -8.83833040e-03-0.05538143j,\n",
       "         -8.83833040e-03+0.05538143j, -1.33219730e-01+0.0810879j ,\n",
       "         -1.33219730e-01-0.0810879j ,  2.88800138e-01+0.j        ,\n",
       "          2.49556580e-02-0.04957894j,  2.49556580e-02+0.04957894j,\n",
       "         -1.40625898e-02-0.00480681j, -1.40625898e-02+0.00480681j],\n",
       "        [-1.96885244e-01+0.j        ,  3.02907351e-03+0.j        ,\n",
       "         -5.89744361e-02+0.17154196j, -5.89744361e-02-0.17154196j,\n",
       "         -1.57759058e-01+0.01507565j, -1.57759058e-01-0.01507565j,\n",
       "          9.90457179e-02+0.j        , -9.64659194e-02+0.06106534j,\n",
       "         -9.64659194e-02-0.06106534j, -5.47509374e-03+0.11662175j,\n",
       "         -5.47509374e-03-0.11662175j,  2.02360331e-02-0.0440592j ,\n",
       "          2.02360331e-02+0.0440592j ,  1.16252726e-01-0.04393794j,\n",
       "          1.16252726e-01+0.04393794j, -1.59004384e-01+0.20032768j,\n",
       "         -1.59004384e-01-0.20032768j,  1.58216802e-01-0.10101421j,\n",
       "          1.58216802e-01+0.10101421j,  6.15529568e-02-0.01046675j,\n",
       "          6.15529568e-02+0.01046675j, -1.55781970e-02+0.27221973j,\n",
       "         -1.55781970e-02-0.27221973j,  6.34613079e-02-0.10972781j,\n",
       "          6.34613079e-02+0.10972781j, -7.70563023e-02+0.j        ,\n",
       "         -7.35384888e-02-0.06255523j, -7.35384888e-02+0.06255523j,\n",
       "          1.83683097e-01+0.01412452j,  1.83683097e-01-0.01412452j],\n",
       "        [-2.10240320e-01+0.j        , -1.74445137e-02+0.j        ,\n",
       "          5.64328167e-02-0.09672003j,  5.64328167e-02+0.09672003j,\n",
       "         -7.08859186e-02+0.08226438j, -7.08859186e-02-0.08226438j,\n",
       "         -1.00094883e-01+0.j        , -9.99683440e-02-0.26416204j,\n",
       "         -9.99683440e-02+0.26416204j,  2.35143036e-01+0.08274829j,\n",
       "          2.35143036e-01-0.08274829j,  4.85027633e-02+0.07491426j,\n",
       "          4.85027633e-02-0.07491426j, -2.14944346e-01+0.0487751j ,\n",
       "         -2.14944346e-01-0.0487751j , -2.33421898e-02+0.04660685j,\n",
       "         -2.33421898e-02-0.04660685j, -8.02102294e-02+0.0241763j ,\n",
       "         -8.02102294e-02-0.0241763j , -1.43383849e-01-0.18442219j,\n",
       "         -1.43383849e-01+0.18442219j, -1.62462701e-02+0.01769228j,\n",
       "         -1.62462701e-02-0.01769228j, -2.03141153e-01-0.03108473j,\n",
       "         -2.03141153e-01+0.03108473j, -1.17512356e-01+0.j        ,\n",
       "          9.08112266e-02+0.11516764j,  9.08112266e-02-0.11516764j,\n",
       "         -1.30263786e-01-0.02712549j, -1.30263786e-01+0.02712549j],\n",
       "        [-1.64666010e-01+0.j        , -8.30731385e-02+0.j        ,\n",
       "         -1.86771703e-01-0.00412226j, -1.86771703e-01+0.00412226j,\n",
       "         -1.31420450e-01-0.01965576j, -1.31420450e-01+0.01965576j,\n",
       "         -1.76057196e-01+0.j        ,  6.74150696e-02+0.14521717j,\n",
       "          6.74150696e-02-0.14521717j, -1.42465407e-01-0.06898576j,\n",
       "         -1.42465407e-01+0.06898576j, -1.28508193e-01-0.01300541j,\n",
       "         -1.28508193e-01+0.01300541j, -4.62082022e-02-0.26958826j,\n",
       "         -4.62082022e-02+0.26958826j, -5.54886707e-02-0.09121017j,\n",
       "         -5.54886707e-02+0.09121017j, -3.02625987e-02+0.02555183j,\n",
       "         -3.02625987e-02-0.02555183j, -9.97230618e-02+0.0996162j ,\n",
       "         -9.97230618e-02-0.0996162j , -2.07223945e-01+0.12827033j,\n",
       "         -2.07223945e-01-0.12827033j,  3.42681122e-01+0.j        ,\n",
       "          3.42681122e-01-0.j        , -1.31084686e-01+0.j        ,\n",
       "         -2.36020042e-01+0.05237834j, -2.36020042e-01-0.05237834j,\n",
       "         -1.02440908e-01+0.04255928j, -1.02440908e-01-0.04255928j],\n",
       "        [-1.75231297e-01+0.j        ,  1.89177849e-01+0.j        ,\n",
       "         -1.79810057e-01-0.08226498j, -1.79810057e-01+0.08226498j,\n",
       "         -1.64669078e-01+0.21562284j, -1.64669078e-01-0.21562284j,\n",
       "          2.12004586e-01+0.j        ,  5.45519443e-02+0.15719474j,\n",
       "          5.45519443e-02-0.15719474j, -1.70378488e-01-0.05873897j,\n",
       "         -1.70378488e-01+0.05873897j,  3.76095034e-02-0.07843066j,\n",
       "          3.76095034e-02+0.07843066j,  1.36776759e-01-0.13744747j,\n",
       "          1.36776759e-01+0.13744747j,  6.65515419e-02+0.06431398j,\n",
       "          6.65515419e-02-0.06431398j, -1.95046287e-01-0.03704977j,\n",
       "         -1.95046287e-01+0.03704977j, -8.33757231e-02+0.08554047j,\n",
       "         -8.33757231e-02-0.08554047j,  2.31252003e-03-0.07519787j,\n",
       "          2.31252003e-03+0.07519787j, -4.16132273e-02+0.00912748j,\n",
       "         -4.16132273e-02-0.00912748j, -5.22658416e-02+0.j        ,\n",
       "          2.41836311e-02+0.02433709j,  2.41836311e-02-0.02433709j,\n",
       "          1.22471591e-01+0.0143889j ,  1.22471591e-01-0.0143889j ],\n",
       "        [-1.90856675e-01+0.j        , -2.47854481e-01+0.j        ,\n",
       "         -8.46610886e-02-0.00818773j, -8.46610886e-02+0.00818773j,\n",
       "         -1.01006760e-01-0.19904547j, -1.01006760e-01+0.19904547j,\n",
       "         -3.32089624e-02+0.j        ,  6.37541476e-02-0.16403207j,\n",
       "          6.37541476e-02+0.16403207j, -2.01055476e-01+0.00604496j,\n",
       "         -2.01055476e-01-0.00604496j, -1.92647779e-01+0.17964775j,\n",
       "         -1.92647779e-01-0.17964775j, -1.56998660e-01-0.03249063j,\n",
       "         -1.56998660e-01+0.03249063j, -1.34319639e-01+0.12121273j,\n",
       "         -1.34319639e-01-0.12121273j, -2.78560182e-02+0.10498893j,\n",
       "         -2.78560182e-02-0.10498893j,  1.18685332e-01+0.00581739j,\n",
       "          1.18685332e-01-0.00581739j, -6.29839788e-02-0.09050678j,\n",
       "         -6.29839788e-02+0.09050678j, -1.13082741e-01-0.10623022j,\n",
       "         -1.13082741e-01+0.10623022j, -2.38863774e-01+0.j        ,\n",
       "         -6.29191856e-02-0.03170909j, -6.29191856e-02+0.03170909j,\n",
       "         -9.77125019e-02+0.00645902j, -9.77125019e-02-0.00645902j],\n",
       "        [-1.72707931e-01+0.j        ,  2.79192285e-01+0.j        ,\n",
       "          4.10361367e-02+0.02042414j,  4.10361367e-02-0.02042414j,\n",
       "         -3.85113932e-02-0.16163778j, -3.85113932e-02+0.16163778j,\n",
       "         -2.24851128e-01+0.j        , -5.89203990e-02+0.06434031j,\n",
       "         -5.89203990e-02-0.06434031j, -8.94354716e-02+0.06506137j,\n",
       "         -8.94354716e-02-0.06506137j, -7.51289435e-02+0.00068217j,\n",
       "         -7.51289435e-02-0.00068217j,  1.88566611e-01+0.04185151j,\n",
       "          1.88566611e-01-0.04185151j,  8.08075330e-02-0.04129195j,\n",
       "          8.08075330e-02+0.04129195j,  8.54624329e-02-0.14078955j,\n",
       "          8.54624329e-02+0.14078955j,  9.54787341e-02-0.01114325j,\n",
       "          9.54787341e-02+0.01114325j,  6.92589110e-02+0.23882982j,\n",
       "          6.92589110e-02-0.23882982j, -7.28892160e-02+0.00406191j,\n",
       "         -7.28892160e-02-0.00406191j,  1.65547622e-02+0.j        ,\n",
       "          1.13159778e-01-0.0160269j ,  1.13159778e-01+0.0160269j ,\n",
       "         -2.66442413e-01-0.02895816j, -2.66442413e-01+0.02895816j],\n",
       "        [-1.96558042e-01+0.j        ,  1.70216469e-01+0.j        ,\n",
       "          1.10568626e-01+0.0305987j ,  1.10568626e-01-0.0305987j ,\n",
       "         -3.32639955e-02-0.09206589j, -3.32639955e-02+0.09206589j,\n",
       "         -1.82775796e-01+0.j        ,  3.94973858e-02-0.04198379j,\n",
       "          3.94973858e-02+0.04198379j,  1.12151297e-01+0.17894464j,\n",
       "          1.12151297e-01-0.17894464j, -1.48232759e-01+0.05326194j,\n",
       "         -1.48232759e-01-0.05326194j,  1.48176331e-02+0.13115057j,\n",
       "          1.48176331e-02-0.13115057j, -1.89191621e-01+0.00885951j,\n",
       "         -1.89191621e-01-0.00885951j, -1.99857418e-01-0.0638373j ,\n",
       "         -1.99857418e-01+0.0638373j ,  5.10643435e-02-0.2857167j ,\n",
       "          5.10643435e-02+0.2857167j ,  3.49024538e-01+0.j        ,\n",
       "          3.49024538e-01-0.j        , -1.00326796e-01-0.0544272j ,\n",
       "         -1.00326796e-01+0.0544272j ,  2.52831906e-01+0.j        ,\n",
       "          1.64594554e-01-0.05210589j,  1.64594554e-01+0.05210589j,\n",
       "          1.65720721e-01-0.02509849j,  1.65720721e-01+0.02509849j],\n",
       "        [-2.17624052e-01+0.j        ,  1.54886360e-02+0.j        ,\n",
       "          7.21949762e-02+0.05771283j,  7.21949762e-02-0.05771283j,\n",
       "         -6.06006502e-02+0.076971j  , -6.06006502e-02-0.076971j  ,\n",
       "         -2.44070395e-01+0.j        ,  1.32741470e-01-0.17498907j,\n",
       "          1.32741470e-01+0.17498907j, -1.40675717e-02+0.03030679j,\n",
       "         -1.40675717e-02-0.03030679j,  1.37824696e-01+0.14184967j,\n",
       "          1.37824696e-01-0.14184967j, -1.80897306e-02+0.0352668j ,\n",
       "         -1.80897306e-02-0.0352668j ,  2.05997473e-02+0.02455083j,\n",
       "          2.05997473e-02-0.02455083j, -2.74803565e-01+0.08010046j,\n",
       "         -2.74803565e-01-0.08010046j, -7.76668086e-02-0.00549606j,\n",
       "         -7.76668086e-02+0.00549606j,  7.33117415e-02-0.09570291j,\n",
       "          7.33117415e-02+0.09570291j,  1.88633663e-01+0.09375339j,\n",
       "          1.88633663e-01-0.09375339j, -2.94627920e-01+0.j        ,\n",
       "         -2.82432561e-01-0.07885394j, -2.82432561e-01+0.07885394j,\n",
       "         -1.87864924e-01+0.04194513j, -1.87864924e-01-0.04194513j]]))"
      ]
     },
     "execution_count": 30,
     "metadata": {},
     "output_type": "execute_result"
    }
   ],
   "execution_count": 30
  },
  {
   "metadata": {},
   "cell_type": "markdown",
   "source": "#### 6. Скачайте два изображения товаров с Wildberries из одной категории (мужские костюмы), преобразуйте их в многомерные массивы Numpy и определите расстояние Евклида между ними.",
   "id": "4dce81f540159330"
  },
  {
   "metadata": {
    "ExecuteTime": {
     "end_time": "2024-10-27T08:22:53.843631Z",
     "start_time": "2024-10-27T08:22:52.775247Z"
    }
   },
   "cell_type": "code",
   "source": [
    "img_1 = np.array(Image.open('data/wildberries_1.png').getdata()).reshape(900, 1200, 4)\n",
    "img_2 = np.array(Image.open('data/wildberries_2.png').getdata()).reshape(900, 1200, 4)"
   ],
   "id": "5945d2d5db6fc688",
   "outputs": [],
   "execution_count": 31
  },
  {
   "metadata": {
    "ExecuteTime": {
     "end_time": "2024-10-27T08:22:53.862033Z",
     "start_time": "2024-10-27T08:22:53.858941Z"
    }
   },
   "cell_type": "code",
   "source": "img_1",
   "id": "e313ad06b05c766a",
   "outputs": [
    {
     "data": {
      "text/plain": [
       "array([[[255, 255, 255, 255],\n",
       "        [255, 255, 255, 255],\n",
       "        [255, 255, 255, 255],\n",
       "        ...,\n",
       "        [ 91,  62,  52, 255],\n",
       "        [ 92,  63,  53, 255],\n",
       "        [ 87,  58,  47, 255]],\n",
       "\n",
       "       [[ 86,  57,  47, 255],\n",
       "        [ 85,  57,  47, 255],\n",
       "        [ 81,  54,  44, 255],\n",
       "        ...,\n",
       "        [255, 255, 255, 255],\n",
       "        [255, 255, 255, 255],\n",
       "        [255, 255, 255, 255]],\n",
       "\n",
       "       [[255, 255, 255, 255],\n",
       "        [255, 255, 255, 255],\n",
       "        [255, 255, 255, 255],\n",
       "        ...,\n",
       "        [255, 255, 255, 255],\n",
       "        [255, 255, 255, 255],\n",
       "        [255, 255, 255, 255]],\n",
       "\n",
       "       ...,\n",
       "\n",
       "       [[255, 255, 255, 255],\n",
       "        [255, 255, 255, 255],\n",
       "        [255, 255, 255, 255],\n",
       "        ...,\n",
       "        [ 53,  52,  54, 255],\n",
       "        [ 48,  46,  49, 255],\n",
       "        [ 40,  39,  41, 255]],\n",
       "\n",
       "       [[ 38,  37,  39, 255],\n",
       "        [ 36,  35,  39, 255],\n",
       "        [ 36,  35,  39, 255],\n",
       "        ...,\n",
       "        [255, 255, 255, 255],\n",
       "        [255, 255, 255, 255],\n",
       "        [255, 255, 255, 255]],\n",
       "\n",
       "       [[255, 255, 255, 255],\n",
       "        [255, 255, 255, 255],\n",
       "        [255, 255, 255, 255],\n",
       "        ...,\n",
       "        [255, 255, 255, 255],\n",
       "        [255, 255, 255, 255],\n",
       "        [255, 255, 255, 255]]])"
      ]
     },
     "execution_count": 32,
     "metadata": {},
     "output_type": "execute_result"
    }
   ],
   "execution_count": 32
  },
  {
   "metadata": {
    "ExecuteTime": {
     "end_time": "2024-10-27T08:22:53.934827Z",
     "start_time": "2024-10-27T08:22:53.928179Z"
    }
   },
   "cell_type": "code",
   "source": "img_2",
   "id": "134b6d76e40d776f",
   "outputs": [
    {
     "data": {
      "text/plain": [
       "array([[[199, 199, 197, 255],\n",
       "        [199, 199, 197, 255],\n",
       "        [198, 198, 196, 255],\n",
       "        ...,\n",
       "        [190, 190, 188, 255],\n",
       "        [190, 190, 188, 255],\n",
       "        [190, 190, 188, 255]],\n",
       "\n",
       "       [[190, 190, 188, 255],\n",
       "        [190, 190, 188, 255],\n",
       "        [190, 190, 188, 255],\n",
       "        ...,\n",
       "        [ 42,  20,  11, 255],\n",
       "        [ 42,  20,  11, 255],\n",
       "        [ 42,  20,  13, 255]],\n",
       "\n",
       "       [[ 42,  20,  14, 255],\n",
       "        [ 43,  19,  14, 255],\n",
       "        [ 42,  18,  13, 255],\n",
       "        ...,\n",
       "        [173, 174, 171, 255],\n",
       "        [173, 174, 171, 255],\n",
       "        [173, 174, 171, 255]],\n",
       "\n",
       "       ...,\n",
       "\n",
       "       [[180, 169, 154, 255],\n",
       "        [180, 169, 154, 255],\n",
       "        [179, 168, 152, 255],\n",
       "        ...,\n",
       "        [184, 174, 154, 255],\n",
       "        [176, 166, 147, 255],\n",
       "        [173, 163, 143, 255]],\n",
       "\n",
       "       [[176, 166, 146, 255],\n",
       "        [176, 165, 146, 255],\n",
       "        [176, 163, 145, 255],\n",
       "        ...,\n",
       "        [ 12,   9,  12, 255],\n",
       "        [ 12,   9,  12, 255],\n",
       "        [ 12,   9,  12, 255]],\n",
       "\n",
       "       [[ 12,   9,  13, 255],\n",
       "        [ 13,  10,  14, 255],\n",
       "        [ 13,  10,  14, 255],\n",
       "        ...,\n",
       "        [169, 158, 139, 255],\n",
       "        [168, 158, 138, 255],\n",
       "        [168, 158, 138, 255]]])"
      ]
     },
     "execution_count": 33,
     "metadata": {},
     "output_type": "execute_result"
    }
   ],
   "execution_count": 33
  },
  {
   "metadata": {
    "ExecuteTime": {
     "end_time": "2024-10-27T08:22:54.021684Z",
     "start_time": "2024-10-27T08:22:54.000648Z"
    }
   },
   "cell_type": "code",
   "source": "np.linalg.norm(img_1 - img_2)",
   "id": "cd8bdc11baed3709",
   "outputs": [
    {
     "data": {
      "text/plain": [
       "279120.37035479874"
      ]
     },
     "execution_count": 34,
     "metadata": {},
     "output_type": "execute_result"
    }
   ],
   "execution_count": 34
  },
  {
   "metadata": {},
   "cell_type": "markdown",
   "source": "#### 7. Реализуйте метод главных компонент с помощью модуля Numpy и нахождения собственных векторов. Преобразуйте одну из картинок из п.6 в матрицу новых компонент, меньшей размерности и визуализируйте ее.",
   "id": "53c557253be25c99"
  },
  {
   "metadata": {
    "ExecuteTime": {
     "end_time": "2024-10-27T08:22:54.062769Z",
     "start_time": "2024-10-27T08:22:54.058499Z"
    }
   },
   "cell_type": "code",
   "source": [
    "def pca(img: np.ndarray, n_components: int) -> np.ndarray:\n",
    "    img = img - img.mean(axis=0)\n",
    "    cov_matrix = np.cov(img.T)\n",
    "    eigenvalues, eigenvectors = np.linalg.eig(cov_matrix)\n",
    "    idx = np.argsort(eigenvalues)[::-1]\n",
    "    eigenvectors = eigenvectors[:, idx]\n",
    "    return img @ eigenvectors[:, :n_components]"
   ],
   "id": "ee9eed2c237555ad",
   "outputs": [],
   "execution_count": 35
  },
  {
   "metadata": {
    "ExecuteTime": {
     "end_time": "2024-10-27T08:22:54.188222Z",
     "start_time": "2024-10-27T08:22:54.113477Z"
    }
   },
   "cell_type": "code",
   "source": [
    "img_pca = pca(img_1.reshape(900 * 1200, 4), 2).reshape(900, 1200, 2)\n",
    "img_pca"
   ],
   "id": "172f4c5d06e97768",
   "outputs": [
    {
     "data": {
      "text/plain": [
       "array([[[-191.14616329,    1.22029356],\n",
       "        [-191.14616329,    1.22029356],\n",
       "        [-191.14616329,    1.22029356],\n",
       "        ...,\n",
       "        [ 132.2460463 ,  -26.44951937],\n",
       "        [ 130.51405698,  -26.45475369],\n",
       "        [ 139.74848619,  -26.99948956]],\n",
       "\n",
       "       [[ 140.90599291,  -26.42334777],\n",
       "        [ 141.47932241,  -25.63124564],\n",
       "        [ 147.24861988,  -24.82344055],\n",
       "        ...,\n",
       "        [-191.14616329,    1.22029356],\n",
       "        [-191.14616329,    1.22029356],\n",
       "        [-191.14616329,    1.22029356]],\n",
       "\n",
       "       [[-191.14616329,    1.22029356],\n",
       "        [-191.14616329,    1.22029356],\n",
       "        [-191.14616329,    1.22029356],\n",
       "        ...,\n",
       "        [-191.14616329,    1.22029356],\n",
       "        [-191.14616329,    1.22029356],\n",
       "        [-191.14616329,    1.22029356]],\n",
       "\n",
       "       ...,\n",
       "\n",
       "       [[-191.14616329,    1.22029356],\n",
       "        [-191.14616329,    1.22029356],\n",
       "        [-191.14616329,    1.22029356],\n",
       "        ...,\n",
       "        [ 158.72537437,    2.63257322],\n",
       "        [ 167.96949821,    2.44278448],\n",
       "        [ 181.24123556,    2.70061937]],\n",
       "\n",
       "       [[ 184.7052142 ,    2.71108801],\n",
       "        [ 187.02022765,    3.8633716 ],\n",
       "        [ 187.02022765,    3.8633716 ],\n",
       "        ...,\n",
       "        [-191.14616329,    1.22029356],\n",
       "        [-191.14616329,    1.22029356],\n",
       "        [-191.14616329,    1.22029356]],\n",
       "\n",
       "       [[-191.14616329,    1.22029356],\n",
       "        [-191.14616329,    1.22029356],\n",
       "        [-191.14616329,    1.22029356],\n",
       "        ...,\n",
       "        [-191.14616329,    1.22029356],\n",
       "        [-191.14616329,    1.22029356],\n",
       "        [-191.14616329,    1.22029356]]])"
      ]
     },
     "execution_count": 36,
     "metadata": {},
     "output_type": "execute_result"
    }
   ],
   "execution_count": 36
  },
  {
   "metadata": {
    "ExecuteTime": {
     "end_time": "2024-10-27T08:22:54.283347Z",
     "start_time": "2024-10-27T08:22:54.205152Z"
    }
   },
   "cell_type": "code",
   "source": "plt.scatter(img_pca[:, 0], img_pca[:, 1])",
   "id": "c35d9723b69daee1",
   "outputs": [
    {
     "data": {
      "text/plain": [
       "<matplotlib.collections.PathCollection at 0x7b72f9465660>"
      ]
     },
     "execution_count": 37,
     "metadata": {},
     "output_type": "execute_result"
    },
    {
     "data": {
      "text/plain": [
       "<Figure size 640x480 with 1 Axes>"
      ],
      "image/png": "[encoded data removed]"
     },
     "metadata": {},
     "output_type": "display_data"
    }
   ],
   "execution_count": 37
  },
  {
   "metadata": {},
   "cell_type": "markdown",
   "source": "#### 8. Кластеризуйте одну из картинок из п.6 – выделите отдельно брюки и отдельно пиджак на изображении. Можете использовать метод K-means.",
   "id": "15765d254a77267a"
  },
  {
   "metadata": {
    "ExecuteTime": {
     "end_time": "2024-10-27T08:22:54.304217Z",
     "start_time": "2024-10-27T08:22:54.300675Z"
    }
   },
   "cell_type": "code",
   "source": "img_2.shape",
   "id": "4b16b47984ff3d51",
   "outputs": [
    {
     "data": {
      "text/plain": [
       "(900, 1200, 4)"
      ]
     },
     "execution_count": 38,
     "metadata": {},
     "output_type": "execute_result"
    }
   ],
   "execution_count": 38
  },
  {
   "metadata": {
    "ExecuteTime": {
     "end_time": "2024-10-27T08:22:54.703151Z",
     "start_time": "2024-10-27T08:22:54.354727Z"
    }
   },
   "cell_type": "code",
   "source": [
    "from sklearn.cluster import KMeans\n",
    "\n",
    "kmeans = KMeans(n_clusters=2)\n",
    "kmeans.fit(img_2.reshape(900 * 1200, 4))"
   ],
   "id": "502d8c336be8f3a2",
   "outputs": [
    {
     "data": {
      "text/plain": [
       "KMeans(n_clusters=2)"
      ],
      "text/html": [
       "<style>#sk-container-id-1 {\n",
       "  /* Definition of color scheme common for light and dark mode */\n",
       "  --sklearn-color-text: black;\n",
       "  --sklearn-color-line: gray;\n",
       "  /* Definition of color scheme for unfitted estimators */\n",
       "  --sklearn-color-unfitted-level-0: #fff5e6;\n",
       "  --sklearn-color-unfitted-level-1: #f6e4d2;\n",
       "  --sklearn-color-unfitted-level-2: #ffe0b3;\n",
       "  --sklearn-color-unfitted-level-3: chocolate;\n",
       "  /* Definition of color scheme for fitted estimators */\n",
       "  --sklearn-color-fitted-level-0: #f0f8ff;\n",
       "  --sklearn-color-fitted-level-1: #d4ebff;\n",
       "  --sklearn-color-fitted-level-2: #b3dbfd;\n",
       "  --sklearn-color-fitted-level-3: cornflowerblue;\n",
       "\n",
       "  /* Specific color for light theme */\n",
       "  --sklearn-color-text-on-default-background: var(--sg-text-color, var(--theme-code-foreground, var(--jp-content-font-color1, black)));\n",
       "  --sklearn-color-background: var(--sg-background-color, var(--theme-background, var(--jp-layout-color0, white)));\n",
       "  --sklearn-color-border-box: var(--sg-text-color, var(--theme-code-foreground, var(--jp-content-font-color1, black)));\n",
       "  --sklearn-color-icon: #696969;\n",
       "\n",
       "  @media (prefers-color-scheme: dark) {\n",
       "    /* Redefinition of color scheme for dark theme */\n",
       "    --sklearn-color-text-on-default-background: var(--sg-text-color, var(--theme-code-foreground, var(--jp-content-font-color1, white)));\n",
       "    --sklearn-color-background: var(--sg-background-color, var(--theme-background, var(--jp-layout-color0, #111)));\n",
       "    --sklearn-color-border-box: var(--sg-text-color, var(--theme-code-foreground, var(--jp-content-font-color1, white)));\n",
       "    --sklearn-color-icon: #878787;\n",
       "  }\n",
       "}\n",
       "\n",
       "#sk-container-id-1 {\n",
       "  color: var(--sklearn-color-text);\n",
       "}\n",
       "\n",
       "#sk-container-id-1 pre {\n",
       "  padding: 0;\n",
       "}\n",
       "\n",
       "#sk-container-id-1 input.sk-hidden--visually {\n",
       "  border: 0;\n",
       "  clip: rect(1px 1px 1px 1px);\n",
       "  clip: rect(1px, 1px, 1px, 1px);\n",
       "  height: 1px;\n",
       "  margin: -1px;\n",
       "  overflow: hidden;\n",
       "  padding: 0;\n",
       "  position: absolute;\n",
       "  width: 1px;\n",
       "}\n",
       "\n",
       "#sk-container-id-1 div.sk-dashed-wrapped {\n",
       "  border: 1px dashed var(--sklearn-color-line);\n",
       "  margin: 0 0.4em 0.5em 0.4em;\n",
       "  box-sizing: border-box;\n",
       "  padding-bottom: 0.4em;\n",
       "  background-color: var(--sklearn-color-background);\n",
       "}\n",
       "\n",
       "#sk-container-id-1 div.sk-container {\n",
       "  /* jupyter's `normalize.less` sets `[hidden] { display: none; }`\n",
       "     but bootstrap.min.css set `[hidden] { display: none !important; }`\n",
       "     so we also need the `!important` here to be able to override the\n",
       "     default hidden behavior on the sphinx rendered scikit-learn.org.\n",
       "     See: https://github.com/scikit-learn/scikit-learn/issues/21755 */\n",
       "  display: inline-block !important;\n",
       "  position: relative;\n",
       "}\n",
       "\n",
       "#sk-container-id-1 div.sk-text-repr-fallback {\n",
       "  display: none;\n",
       "}\n",
       "\n",
       "div.sk-parallel-item,\n",
       "div.sk-serial,\n",
       "div.sk-item {\n",
       "  /* draw centered vertical line to link estimators */\n",
       "  background-image: linear-gradient(var(--sklearn-color-text-on-default-background), var(--sklearn-color-text-on-default-background));\n",
       "  background-size: 2px 100%;\n",
       "  background-repeat: no-repeat;\n",
       "  background-position: center center;\n",
       "}\n",
       "\n",
       "/* Parallel-specific style estimator block */\n",
       "\n",
       "#sk-container-id-1 div.sk-parallel-item::after {\n",
       "  content: \"\";\n",
       "  width: 100%;\n",
       "  border-bottom: 2px solid var(--sklearn-color-text-on-default-background);\n",
       "  flex-grow: 1;\n",
       "}\n",
       "\n",
       "#sk-container-id-1 div.sk-parallel {\n",
       "  display: flex;\n",
       "  align-items: stretch;\n",
       "  justify-content: center;\n",
       "  background-color: var(--sklearn-color-background);\n",
       "  position: relative;\n",
       "}\n",
       "\n",
       "#sk-container-id-1 div.sk-parallel-item {\n",
       "  display: flex;\n",
       "  flex-direction: column;\n",
       "}\n",
       "\n",
       "#sk-container-id-1 div.sk-parallel-item:first-child::after {\n",
       "  align-self: flex-end;\n",
       "  width: 50%;\n",
       "}\n",
       "\n",
       "#sk-container-id-1 div.sk-parallel-item:last-child::after {\n",
       "  align-self: flex-start;\n",
       "  width: 50%;\n",
       "}\n",
       "\n",
       "#sk-container-id-1 div.sk-parallel-item:only-child::after {\n",
       "  width: 0;\n",
       "}\n",
       "\n",
       "/* Serial-specific style estimator block */\n",
       "\n",
       "#sk-container-id-1 div.sk-serial {\n",
       "  display: flex;\n",
       "  flex-direction: column;\n",
       "  align-items: center;\n",
       "  background-color: var(--sklearn-color-background);\n",
       "  padding-right: 1em;\n",
       "  padding-left: 1em;\n",
       "}\n",
       "\n",
       "\n",
       "/* Toggleable style: style used for estimator/Pipeline/ColumnTransformer box that is\n",
       "clickable and can be expanded/collapsed.\n",
       "- Pipeline and ColumnTransformer use this feature and define the default style\n",
       "- Estimators will overwrite some part of the style using the `sk-estimator` class\n",
       "*/\n",
       "\n",
       "/* Pipeline and ColumnTransformer style (default) */\n",
       "\n",
       "#sk-container-id-1 div.sk-toggleable {\n",
       "  /* Default theme specific background. It is overwritten whether we have a\n",
       "  specific estimator or a Pipeline/ColumnTransformer */\n",
       "  background-color: var(--sklearn-color-background);\n",
       "}\n",
       "\n",
       "/* Toggleable label */\n",
       "#sk-container-id-1 label.sk-toggleable__label {\n",
       "  cursor: pointer;\n",
       "  display: block;\n",
       "  width: 100%;\n",
       "  margin-bottom: 0;\n",
       "  padding: 0.5em;\n",
       "  box-sizing: border-box;\n",
       "  text-align: center;\n",
       "}\n",
       "\n",
       "#sk-container-id-1 label.sk-toggleable__label-arrow:before {\n",
       "  /* Arrow on the left of the label */\n",
       "  content: \"▸\";\n",
       "  float: left;\n",
       "  margin-right: 0.25em;\n",
       "  color: var(--sklearn-color-icon);\n",
       "}\n",
       "\n",
       "#sk-container-id-1 label.sk-toggleable__label-arrow:hover:before {\n",
       "  color: var(--sklearn-color-text);\n",
       "}\n",
       "\n",
       "/* Toggleable content - dropdown */\n",
       "\n",
       "#sk-container-id-1 div.sk-toggleable__content {\n",
       "  max-height: 0;\n",
       "  max-width: 0;\n",
       "  overflow: hidden;\n",
       "  text-align: left;\n",
       "  /* unfitted */\n",
       "  background-color: var(--sklearn-color-unfitted-level-0);\n",
       "}\n",
       "\n",
       "#sk-container-id-1 div.sk-toggleable__content.fitted {\n",
       "  /* fitted */\n",
       "  background-color: var(--sklearn-color-fitted-level-0);\n",
       "}\n",
       "\n",
       "#sk-container-id-1 div.sk-toggleable__content pre {\n",
       "  margin: 0.2em;\n",
       "  border-radius: 0.25em;\n",
       "  color: var(--sklearn-color-text);\n",
       "  /* unfitted */\n",
       "  background-color: var(--sklearn-color-unfitted-level-0);\n",
       "}\n",
       "\n",
       "#sk-container-id-1 div.sk-toggleable__content.fitted pre {\n",
       "  /* unfitted */\n",
       "  background-color: var(--sklearn-color-fitted-level-0);\n",
       "}\n",
       "\n",
       "#sk-container-id-1 input.sk-toggleable__control:checked~div.sk-toggleable__content {\n",
       "  /* Expand drop-down */\n",
       "  max-height: 200px;\n",
       "  max-width: 100%;\n",
       "  overflow: auto;\n",
       "}\n",
       "\n",
       "#sk-container-id-1 input.sk-toggleable__control:checked~label.sk-toggleable__label-arrow:before {\n",
       "  content: \"▾\";\n",
       "}\n",
       "\n",
       "/* Pipeline/ColumnTransformer-specific style */\n",
       "\n",
       "#sk-container-id-1 div.sk-label input.sk-toggleable__control:checked~label.sk-toggleable__label {\n",
       "  color: var(--sklearn-color-text);\n",
       "  background-color: var(--sklearn-color-unfitted-level-2);\n",
       "}\n",
       "\n",
       "#sk-container-id-1 div.sk-label.fitted input.sk-toggleable__control:checked~label.sk-toggleable__label {\n",
       "  background-color: var(--sklearn-color-fitted-level-2);\n",
       "}\n",
       "\n",
       "/* Estimator-specific style */\n",
       "\n",
       "/* Colorize estimator box */\n",
       "#sk-container-id-1 div.sk-estimator input.sk-toggleable__control:checked~label.sk-toggleable__label {\n",
       "  /* unfitted */\n",
       "  background-color: var(--sklearn-color-unfitted-level-2);\n",
       "}\n",
       "\n",
       "#sk-container-id-1 div.sk-estimator.fitted input.sk-toggleable__control:checked~label.sk-toggleable__label {\n",
       "  /* fitted */\n",
       "  background-color: var(--sklearn-color-fitted-level-2);\n",
       "}\n",
       "\n",
       "#sk-container-id-1 div.sk-label label.sk-toggleable__label,\n",
       "#sk-container-id-1 div.sk-label label {\n",
       "  /* The background is the default theme color */\n",
       "  color: var(--sklearn-color-text-on-default-background);\n",
       "}\n",
       "\n",
       "/* On hover, darken the color of the background */\n",
       "#sk-container-id-1 div.sk-label:hover label.sk-toggleable__label {\n",
       "  color: var(--sklearn-color-text);\n",
       "  background-color: var(--sklearn-color-unfitted-level-2);\n",
       "}\n",
       "\n",
       "/* Label box, darken color on hover, fitted */\n",
       "#sk-container-id-1 div.sk-label.fitted:hover label.sk-toggleable__label.fitted {\n",
       "  color: var(--sklearn-color-text);\n",
       "  background-color: var(--sklearn-color-fitted-level-2);\n",
       "}\n",
       "\n",
       "/* Estimator label */\n",
       "\n",
       "#sk-container-id-1 div.sk-label label {\n",
       "  font-family: monospace;\n",
       "  font-weight: bold;\n",
       "  display: inline-block;\n",
       "  line-height: 1.2em;\n",
       "}\n",
       "\n",
       "#sk-container-id-1 div.sk-label-container {\n",
       "  text-align: center;\n",
       "}\n",
       "\n",
       "/* Estimator-specific */\n",
       "#sk-container-id-1 div.sk-estimator {\n",
       "  font-family: monospace;\n",
       "  border: 1px dotted var(--sklearn-color-border-box);\n",
       "  border-radius: 0.25em;\n",
       "  box-sizing: border-box;\n",
       "  margin-bottom: 0.5em;\n",
       "  /* unfitted */\n",
       "  background-color: var(--sklearn-color-unfitted-level-0);\n",
       "}\n",
       "\n",
       "#sk-container-id-1 div.sk-estimator.fitted {\n",
       "  /* fitted */\n",
       "  background-color: var(--sklearn-color-fitted-level-0);\n",
       "}\n",
       "\n",
       "/* on hover */\n",
       "#sk-container-id-1 div.sk-estimator:hover {\n",
       "  /* unfitted */\n",
       "  background-color: var(--sklearn-color-unfitted-level-2);\n",
       "}\n",
       "\n",
       "#sk-container-id-1 div.sk-estimator.fitted:hover {\n",
       "  /* fitted */\n",
       "  background-color: var(--sklearn-color-fitted-level-2);\n",
       "}\n",
       "\n",
       "/* Specification for estimator info (e.g. \"i\" and \"?\") */\n",
       "\n",
       "/* Common style for \"i\" and \"?\" */\n",
       "\n",
       ".sk-estimator-doc-link,\n",
       "a:link.sk-estimator-doc-link,\n",
       "a:visited.sk-estimator-doc-link {\n",
       "  float: right;\n",
       "  font-size: smaller;\n",
       "  line-height: 1em;\n",
       "  font-family: monospace;\n",
       "  background-color: var(--sklearn-color-background);\n",
       "  border-radius: 1em;\n",
       "  height: 1em;\n",
       "  width: 1em;\n",
       "  text-decoration: none !important;\n",
       "  margin-left: 1ex;\n",
       "  /* unfitted */\n",
       "  border: var(--sklearn-color-unfitted-level-1) 1pt solid;\n",
       "  color: var(--sklearn-color-unfitted-level-1);\n",
       "}\n",
       "\n",
       ".sk-estimator-doc-link.fitted,\n",
       "a:link.sk-estimator-doc-link.fitted,\n",
       "a:visited.sk-estimator-doc-link.fitted {\n",
       "  /* fitted */\n",
       "  border: var(--sklearn-color-fitted-level-1) 1pt solid;\n",
       "  color: var(--sklearn-color-fitted-level-1);\n",
       "}\n",
       "\n",
       "/* On hover */\n",
       "div.sk-estimator:hover .sk-estimator-doc-link:hover,\n",
       ".sk-estimator-doc-link:hover,\n",
       "div.sk-label-container:hover .sk-estimator-doc-link:hover,\n",
       ".sk-estimator-doc-link:hover {\n",
       "  /* unfitted */\n",
       "  background-color: var(--sklearn-color-unfitted-level-3);\n",
       "  color: var(--sklearn-color-background);\n",
       "  text-decoration: none;\n",
       "}\n",
       "\n",
       "div.sk-estimator.fitted:hover .sk-estimator-doc-link.fitted:hover,\n",
       ".sk-estimator-doc-link.fitted:hover,\n",
       "div.sk-label-container:hover .sk-estimator-doc-link.fitted:hover,\n",
       ".sk-estimator-doc-link.fitted:hover {\n",
       "  /* fitted */\n",
       "  background-color: var(--sklearn-color-fitted-level-3);\n",
       "  color: var(--sklearn-color-background);\n",
       "  text-decoration: none;\n",
       "}\n",
       "\n",
       "/* Span, style for the box shown on hovering the info icon */\n",
       ".sk-estimator-doc-link span {\n",
       "  display: none;\n",
       "  z-index: 9999;\n",
       "  position: relative;\n",
       "  font-weight: normal;\n",
       "  right: .2ex;\n",
       "  padding: .5ex;\n",
       "  margin: .5ex;\n",
       "  width: min-content;\n",
       "  min-width: 20ex;\n",
       "  max-width: 50ex;\n",
       "  color: var(--sklearn-color-text);\n",
       "  box-shadow: 2pt 2pt 4pt #999;\n",
       "  /* unfitted */\n",
       "  background: var(--sklearn-color-unfitted-level-0);\n",
       "  border: .5pt solid var(--sklearn-color-unfitted-level-3);\n",
       "}\n",
       "\n",
       ".sk-estimator-doc-link.fitted span {\n",
       "  /* fitted */\n",
       "  background: var(--sklearn-color-fitted-level-0);\n",
       "  border: var(--sklearn-color-fitted-level-3);\n",
       "}\n",
       "\n",
       ".sk-estimator-doc-link:hover span {\n",
       "  display: block;\n",
       "}\n",
       "\n",
       "/* \"?\"-specific style due to the `<a>` HTML tag */\n",
       "\n",
       "#sk-container-id-1 a.estimator_doc_link {\n",
       "  float: right;\n",
       "  font-size: 1rem;\n",
       "  line-height: 1em;\n",
       "  font-family: monospace;\n",
       "  background-color: var(--sklearn-color-background);\n",
       "  border-radius: 1rem;\n",
       "  height: 1rem;\n",
       "  width: 1rem;\n",
       "  text-decoration: none;\n",
       "  /* unfitted */\n",
       "  color: var(--sklearn-color-unfitted-level-1);\n",
       "  border: var(--sklearn-color-unfitted-level-1) 1pt solid;\n",
       "}\n",
       "\n",
       "#sk-container-id-1 a.estimator_doc_link.fitted {\n",
       "  /* fitted */\n",
       "  border: var(--sklearn-color-fitted-level-1) 1pt solid;\n",
       "  color: var(--sklearn-color-fitted-level-1);\n",
       "}\n",
       "\n",
       "/* On hover */\n",
       "#sk-container-id-1 a.estimator_doc_link:hover {\n",
       "  /* unfitted */\n",
       "  background-color: var(--sklearn-color-unfitted-level-3);\n",
       "  color: var(--sklearn-color-background);\n",
       "  text-decoration: none;\n",
       "}\n",
       "\n",
       "#sk-container-id-1 a.estimator_doc_link.fitted:hover {\n",
       "  /* fitted */\n",
       "  background-color: var(--sklearn-color-fitted-level-3);\n",
       "}\n",
       "</style><div id=\"sk-container-id-1\" class=\"sk-top-container\"><div class=\"sk-text-repr-fallback\"><pre>KMeans(n_clusters=2)</pre><b>In a Jupyter environment, please rerun this cell to show the HTML representation or trust the notebook. <br />On GitHub, the HTML representation is unable to render, please try loading this page with nbviewer.org.</b></div><div class=\"sk-container\" hidden><div class=\"sk-item\"><div class=\"sk-estimator fitted sk-toggleable\"><input class=\"sk-toggleable__control sk-hidden--visually\" id=\"sk-estimator-id-1\" type=\"checkbox\" checked><label for=\"sk-estimator-id-1\" class=\"sk-toggleable__label fitted sk-toggleable__label-arrow fitted\">&nbsp;&nbsp;KMeans<a class=\"sk-estimator-doc-link fitted\" rel=\"noreferrer\" target=\"_blank\" href=\"https://scikit-learn.org/1.4/modules/generated/sklearn.cluster.KMeans.html\">?<span>Documentation for KMeans</span></a><span class=\"sk-estimator-doc-link fitted\">i<span>Fitted</span></span></label><div class=\"sk-toggleable__content fitted\"><pre>KMeans(n_clusters=2)</pre></div> </div></div></div></div>"
      ]
     },
     "execution_count": 39,
     "metadata": {},
     "output_type": "execute_result"
    }
   ],
   "execution_count": 39
  },
  {
   "metadata": {
    "ExecuteTime": {
     "end_time": "2024-10-27T08:22:54.904965Z",
     "start_time": "2024-10-27T08:22:54.757442Z"
    }
   },
   "cell_type": "code",
   "source": "plt.imshow(kmeans.labels_.reshape(1200, 900))",
   "id": "2ff2f9bb1377017c",
   "outputs": [
    {
     "data": {
      "text/plain": [
       "<matplotlib.image.AxesImage at 0x7b72e156f310>"
      ]
     },
     "execution_count": 40,
     "metadata": {},
     "output_type": "execute_result"
    },
    {
     "data": {
      "text/plain": [
       "<Figure size 640x480 with 1 Axes>"
      ],
      "image/png": "[encoded data removed]"
     },
     "metadata": {},
     "output_type": "display_data"
    }
   ],
   "execution_count": 40
  },
  {
   "metadata": {},
   "cell_type": "markdown",
   "source": "#### 9. Определите цвет фона картинки из п.8 – найдите наиболее частый цвет в матрице, и по вектору (R,G,B) в matplotlib, выведите полученный цвет.",
   "id": "a89e87790293c5e5"
  },
  {
   "metadata": {
    "ExecuteTime": {
     "end_time": "2024-10-27T08:22:54.945760Z",
     "start_time": "2024-10-27T08:22:54.916711Z"
    }
   },
   "cell_type": "code",
   "source": [
    "background_color = np.bincount(kmeans.labels_).argmax()\n",
    "img_2[kmeans.labels_.reshape(1200, 900).T == background_color].mean(axis=0)\n",
    "# Background color - gray"
   ],
   "id": "69a52ad87aa06ecf",
   "outputs": [
    {
     "data": {
      "text/plain": [
       "array([110.01396371, 108.15303408, 105.72584403, 255.        ])"
      ]
     },
     "execution_count": 41,
     "metadata": {},
     "output_type": "execute_result"
    }
   ],
   "execution_count": 41
  },
  {
   "metadata": {},
   "cell_type": "markdown",
   "source": "#### 10. Выберите картинку из п.6 и примените к ней фильтр Калмана.",
   "id": "4ac01a7f6871b626"
  },
  {
   "metadata": {
    "ExecuteTime": {
     "end_time": "2024-10-27T08:22:54.971821Z",
     "start_time": "2024-10-27T08:22:54.966333Z"
    }
   },
   "cell_type": "code",
   "source": [
    "def kalman_filter(img: np.ndarray) -> np.ndarray:\n",
    "    # Kalman filter params\n",
    "    A = np.eye(2)  # State transition matrix\n",
    "    H = np.eye(2)  # Observation matrix\n",
    "    Q = np.eye(2) * 0.01  # Process noise covariance\n",
    "    R = np.eye(2) * 0.1  # Measurement noise covariance\n",
    "    \n",
    "    # Init state\n",
    "    x = np.zeros((2, img.shape[0], img.shape[1]))  # State vector\n",
    "    P = np.eye(2)  # Covariance matrix\n",
    "\n",
    "    filtered_img = np.zeros_like(img)\n",
    "    for i in range(img.shape[0]):\n",
    "        for j in range(img.shape[1]):\n",
    "            x[:, i, j] = A @ x[:, i, j]\n",
    "            P = A @ P @ A.T + Q\n",
    "\n",
    "            z = np.array([img[i, j], img[i, j]])\n",
    "            y = z - H @ x[:, i, j]\n",
    "            S = H @ P @ H.T + R\n",
    "            K = P @ H.T @ np.linalg.inv(S)\n",
    "            x[:, i, j] = x[:, i, j] + K @ y\n",
    "            P = (np.eye(2) - K @ H) @ P\n",
    "\n",
    "            filtered_img[i, j] = x[0, i, j]\n",
    "\n",
    "    return filtered_img"
   ],
   "id": "271617746c5c615e",
   "outputs": [],
   "execution_count": 42
  },
  {
   "metadata": {
    "ExecuteTime": {
     "end_time": "2024-10-27T08:23:16.049225Z",
     "start_time": "2024-10-27T08:22:55.018370Z"
    }
   },
   "cell_type": "code",
   "source": [
    "img = np.array(Image.open('data/wildberries_1.png').convert('L'))\n",
    "\n",
    "filtered_img = kalman_filter(img)"
   ],
   "id": "969142c8d5f582ab",
   "outputs": [],
   "execution_count": 43
  },
  {
   "metadata": {
    "ExecuteTime": {
     "end_time": "2024-10-27T08:23:16.208146Z",
     "start_time": "2024-10-27T08:23:16.064181Z"
    }
   },
   "cell_type": "code",
   "source": "plt.imshow(img, cmap='gray')",
   "id": "bda9da4aafb571da",
   "outputs": [
    {
     "data": {
      "text/plain": [
       "<matplotlib.image.AxesImage at 0x7b72e1088bb0>"
      ]
     },
     "execution_count": 44,
     "metadata": {},
     "output_type": "execute_result"
    },
    {
     "data": {
      "text/plain": [
       "<Figure size 640x480 with 1 Axes>"
      ],
      "image/png": "[encoded data removed]"
     },
     "metadata": {},
     "output_type": "display_data"
    }
   ],
   "execution_count": 44
  },
  {
   "metadata": {
    "ExecuteTime": {
     "end_time": "2024-10-27T08:23:16.345699Z",
     "start_time": "2024-10-27T08:23:16.223893Z"
    }
   },
   "cell_type": "code",
   "source": "plt.imshow(filtered_img, cmap='gray')",
   "id": "98d231d668970605",
   "outputs": [
    {
     "data": {
      "text/plain": [
       "<matplotlib.image.AxesImage at 0x7b72e0ed1810>"
      ]
     },
     "execution_count": 45,
     "metadata": {},
     "output_type": "execute_result"
    },
    {
     "data": {
      "text/plain": [
       "<Figure size 640x480 with 1 Axes>"
      ],
      "image/png": "[encoded data removed]"
     },
     "metadata": {},
     "output_type": "display_data"
    }
   ],
   "execution_count": 45
  },
  {
   "metadata": {
    "ExecuteTime": {
     "end_time": "2024-10-27T08:23:16.362622Z",
     "start_time": "2024-10-27T08:23:16.361043Z"
    }
   },
   "cell_type": "code",
   "source": "",
   "id": "8d7409d2a16f7e1d",
   "outputs": [],
   "execution_count": null
  }
 ],
 "metadata": {
  "kernelspec": {
   "display_name": "Python 3",
   "language": "python",
   "name": "python3"
  },
  "language_info": {
   "codemirror_mode": {
    "name": "ipython",
    "version": 2
   },
   "file_extension": ".py",
   "mimetype": "text/x-python",
   "name": "python",
   "nbconvert_exporter": "python",
   "pygments_lexer": "ipython2",
   "version": "2.7.6"
  }
 },
 "nbformat": 4,
 "nbformat_minor": 5
}
