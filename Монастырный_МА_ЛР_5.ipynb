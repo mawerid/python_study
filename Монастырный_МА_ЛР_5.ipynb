{
 "cells": [
  {
   "metadata": {},
   "cell_type": "markdown",
   "source": [
    "## Практикум 5. Задание.\n",
    "\n",
    "1. Определить число стихов в представленном датасете.\n",
    "2. Определить топ 20 наиболее часто употребляющихся слов в стихах.\n",
    "3. Визуализировать стишки в двухмерном пространстве, с помощью диаграммы рассеяния.\n",
    "Векторизовать каждый стишок, ограничив вектор 20 словами:\n",
    "\n",
    "- 3.1. Для векторизации использовать re.\n",
    "- 3.2. Для векторизации использовать CountVectorizer.\n",
    "- 3.3. Для сокращения размерности использовать PCA"
   ],
   "id": "a24cba0785c7554d"
  },
  {
   "cell_type": "code",
   "id": "initial_id",
   "metadata": {
    "collapsed": true,
    "ExecuteTime": {
     "end_time": "2024-11-26T11:31:57.593295Z",
     "start_time": "2024-11-26T11:31:56.990723Z"
    }
   },
   "source": [
    "import re\n",
    "from collections import Counter\n",
    "from sklearn.feature_extraction.text import CountVectorizer\n",
    "from sklearn.decomposition import PCA\n",
    "import matplotlib.pyplot as plt"
   ],
   "outputs": [],
   "execution_count": 1
  },
  {
   "metadata": {},
   "cell_type": "markdown",
   "source": "#### 1. Определить число стихов в представленном датасете.",
   "id": "a3fb539b00a1369"
  },
  {
   "metadata": {
    "ExecuteTime": {
     "end_time": "2024-11-26T11:31:57.651156Z",
     "start_time": "2024-11-26T11:31:57.624168Z"
    }
   },
   "cell_type": "code",
   "source": [
    "with open('data/perazki1.txt', 'r') as f:\n",
    "    data = f.readlines()"
   ],
   "id": "85b5796d2acc3ea3",
   "outputs": [],
   "execution_count": 2
  },
  {
   "metadata": {
    "ExecuteTime": {
     "end_time": "2024-11-26T11:31:57.689540Z",
     "start_time": "2024-11-26T11:31:57.666922Z"
    }
   },
   "cell_type": "code",
   "source": [
    "data = data[:110484] + data[110484 + 1:]\n",
    "data = data[:110489] + data[110489 + 1:]\n",
    "data = data[:110494] + data[110494 + 1:]\n",
    "data[182232] = 'никчёмной болтовней и водкой,\\n'\n",
    "data = data[:182233] + ['презервативом от жены\\n'] + data[182233:]"
   ],
   "id": "8bd3795d4d4f217f",
   "outputs": [],
   "execution_count": 3
  },
  {
   "metadata": {
    "ExecuteTime": {
     "end_time": "2024-11-26T11:31:57.747883Z",
     "start_time": "2024-11-26T11:31:57.738990Z"
    }
   },
   "cell_type": "code",
   "source": "data[:10]",
   "id": "78bc40dba02d2ac6",
   "outputs": [
    {
     "data": {
      "text/plain": [
       "['а где тут руль спросил гагарин\\n',\n",
       " 'деревня буркнул королёв\\n',\n",
       " 'ещё спроси а где тут вожжи\\n',\n",
       " 'ещё поехали скажи\\n',\n",
       " '\\n',\n",
       " 'вот позитивный анатолий\\n',\n",
       " 'был послан нахуй но сумел\\n',\n",
       " 'вернуться бодрым отдохнувшим\\n',\n",
       " 'и два магнитика привез\\n',\n",
       " '\\n']"
      ]
     },
     "execution_count": 4,
     "metadata": {},
     "output_type": "execute_result"
    }
   ],
   "execution_count": 4
  },
  {
   "metadata": {
    "ExecuteTime": {
     "end_time": "2024-11-26T11:31:57.842797Z",
     "start_time": "2024-11-26T11:31:57.797750Z"
    }
   },
   "cell_type": "code",
   "source": [
    "data = ''.join(data).split('\\n\\n')\n",
    "data = [re.sub(r'\\n', ' ', i) for i in data]\n",
    "data[:10]"
   ],
   "id": "efe9171eb71c27ea",
   "outputs": [
    {
     "data": {
      "text/plain": [
       "['а где тут руль спросил гагарин деревня буркнул королёв ещё спроси а где тут вожжи ещё поехали скажи',\n",
       " 'вот позитивный анатолий был послан нахуй но сумел вернуться бодрым отдохнувшим и два магнитика привез',\n",
       " 'перед оксаной в тёмном парке олег распахивает плащ под ним второй а дальше третий оксана терпеливо ждёт',\n",
       " 'сегодня ольгой овладели сперва тоска потом олег потом опять олег еще раз и окончательно тоска',\n",
       " 'а кто не смыл говно ребята негромко произнес олег и сразу стало всем понятно волшебный вечер не вернуть',\n",
       " 'а любишь ролевые игры тебе кого изобразить изобрази мне человека который только что ушел',\n",
       " 'сперва жена моя сбежала потом собака и коты сейчас смотрю как трудно рыбкам аквариум толкать к дверям',\n",
       " 'искусствоведов группа тихо восторженно глядит на холст и вдруг один седой и строгий отчетливо сказал говно',\n",
       " 'любимый взял меня за локоть подвёл к окну и показал всё то чего я не увижу вовеки если не заткнусь',\n",
       " 'на покосившемся заборе семен напишет слово жук и детям почитать не стыдно и взрослым пища для ума']"
      ]
     },
     "execution_count": 5,
     "metadata": {},
     "output_type": "execute_result"
    }
   ],
   "execution_count": 5
  },
  {
   "metadata": {
    "ExecuteTime": {
     "end_time": "2024-11-26T11:31:57.897109Z",
     "start_time": "2024-11-26T11:31:57.892759Z"
    }
   },
   "cell_type": "code",
   "source": [
    "# Количество стихов\n",
    "len(data)"
   ],
   "id": "a3166b0be02a7cb",
   "outputs": [
    {
     "data": {
      "text/plain": [
       "38071"
      ]
     },
     "execution_count": 6,
     "metadata": {},
     "output_type": "execute_result"
    }
   ],
   "execution_count": 6
  },
  {
   "metadata": {},
   "cell_type": "markdown",
   "source": "#### 2. Определить топ 20 наиболее часто употребляющихся слов в стихах.",
   "id": "d0157a878fe952b3"
  },
  {
   "metadata": {
    "ExecuteTime": {
     "end_time": "2024-11-26T11:31:58.055463Z",
     "start_time": "2024-11-26T11:31:57.950161Z"
    }
   },
   "cell_type": "code",
   "source": [
    "words = ' '.join(data).split()\n",
    "Counter(words).most_common(20)"
   ],
   "id": "a6926037333dc4ef",
   "outputs": [
    {
     "data": {
      "text/plain": [
       "[('и', 29939),\n",
       " ('в', 22026),\n",
       " ('не', 13506),\n",
       " ('на', 12651),\n",
       " ('я', 11020),\n",
       " ('а', 10740),\n",
       " ('с', 7208),\n",
       " ('что', 6028),\n",
       " ('как', 5432),\n",
       " ('но', 4005),\n",
       " ('у', 3600),\n",
       " ('олег', 3591),\n",
       " ('он', 3490),\n",
       " ('ты', 3467),\n",
       " ('по', 3436),\n",
       " ('мне', 3332),\n",
       " ('за', 3316),\n",
       " ('из', 3186),\n",
       " ('то', 3070),\n",
       " ('к', 2999)]"
      ]
     },
     "execution_count": 7,
     "metadata": {},
     "output_type": "execute_result"
    }
   ],
   "execution_count": 7
  },
  {
   "metadata": {},
   "cell_type": "markdown",
   "source": [
    "#### 3. Визуализировать стишки в двухмерном пространстве, с помощью диаграммы рассеяния.\n",
    "Векторизовать каждый стишок, ограничив вектор 20 словами:\n",
    "\n",
    "- 3.1. Для векторизации использовать re.\n",
    "- 3.2. Для векторизации использовать CountVectorizer.\n",
    "- 3.3. Для сокращения размерности использовать PCA"
   ],
   "id": "e1ad3f8fb4f7bc17"
  },
  {
   "metadata": {
    "ExecuteTime": {
     "end_time": "2024-11-26T11:31:58.425344Z",
     "start_time": "2024-11-26T11:31:58.062331Z"
    }
   },
   "cell_type": "code",
   "source": [
    "data = [re.sub(r'[^\\w\\s]', '', i.lower()) for i in data]\n",
    "data = [re.sub(r'\\s+', ' ', i) for i in data]\n",
    "data = [re.split(r'\\s', i) for i in data]\n",
    "data = [' '.join(i[:20]) for i in data]\n",
    "data[:10]"
   ],
   "id": "ddfdca1ecef25007",
   "outputs": [
    {
     "data": {
      "text/plain": [
       "['а где тут руль спросил гагарин деревня буркнул королёв ещё спроси а где тут вожжи ещё поехали скажи',\n",
       " 'вот позитивный анатолий был послан нахуй но сумел вернуться бодрым отдохнувшим и два магнитика привез',\n",
       " 'перед оксаной в тёмном парке олег распахивает плащ под ним второй а дальше третий оксана терпеливо ждёт',\n",
       " 'сегодня ольгой овладели сперва тоска потом олег потом опять олег еще раз и окончательно тоска',\n",
       " 'а кто не смыл говно ребята негромко произнес олег и сразу стало всем понятно волшебный вечер не вернуть',\n",
       " 'а любишь ролевые игры тебе кого изобразить изобрази мне человека который только что ушел',\n",
       " 'сперва жена моя сбежала потом собака и коты сейчас смотрю как трудно рыбкам аквариум толкать к дверям',\n",
       " 'искусствоведов группа тихо восторженно глядит на холст и вдруг один седой и строгий отчетливо сказал говно',\n",
       " 'любимый взял меня за локоть подвёл к окну и показал всё то чего я не увижу вовеки если не заткнусь',\n",
       " 'на покосившемся заборе семен напишет слово жук и детям почитать не стыдно и взрослым пища для ума']"
      ]
     },
     "execution_count": 8,
     "metadata": {},
     "output_type": "execute_result"
    }
   ],
   "execution_count": 8
  },
  {
   "metadata": {
    "ExecuteTime": {
     "end_time": "2024-11-26T11:31:58.985196Z",
     "start_time": "2024-11-26T11:31:58.510410Z"
    }
   },
   "cell_type": "code",
   "source": [
    "vectorizer = CountVectorizer()\n",
    "X = vectorizer.fit_transform(data)\n",
    "X"
   ],
   "id": "eb7d66164d79928d",
   "outputs": [
    {
     "data": {
      "text/plain": [
       "<38071x83877 sparse matrix of type '<class 'numpy.int64'>'\n",
       "\twith 538084 stored elements in Compressed Sparse Row format>"
      ]
     },
     "execution_count": 9,
     "metadata": {},
     "output_type": "execute_result"
    }
   ],
   "execution_count": 9
  },
  {
   "metadata": {
    "ExecuteTime": {
     "end_time": "2024-11-26T11:32:49.347640Z",
     "start_time": "2024-11-26T11:32:49.246748Z"
    }
   },
   "cell_type": "code",
   "source": [
    "pca = PCA(n_components=2, svd_solver=\"arpack\")\n",
    "X_r = pca.fit_transform(X)"
   ],
   "id": "8fc90feea3566168",
   "outputs": [],
   "execution_count": 11
  },
  {
   "metadata": {
    "ExecuteTime": {
     "end_time": "2024-11-26T11:32:51.017879Z",
     "start_time": "2024-11-26T11:32:50.905169Z"
    }
   },
   "cell_type": "code",
   "source": [
    "plt.figure()\n",
    "plt.scatter(X_r[:, 0], X_r[:, 1])\n",
    "plt.show()"
   ],
   "id": "6da9c0eaffed9293",
   "outputs": [
    {
     "data": {
      "text/plain": [
       "<Figure size 640x480 with 1 Axes>"
      ],
      "image/png": "[encoded data removed]"
     },
     "metadata": {},
     "output_type": "display_data"
    }
   ],
   "execution_count": 12
  },
  {
   "metadata": {
    "ExecuteTime": {
     "end_time": "2024-11-26T11:32:59.076457Z",
     "start_time": "2024-11-26T11:32:59.072979Z"
    }
   },
   "cell_type": "code",
   "source": "",
   "id": "d85034d88a880dcd",
   "outputs": [],
   "execution_count": null
  }
 ],
 "metadata": {
  "kernelspec": {
   "display_name": "Python 3",
   "language": "python",
   "name": "python3"
  },
  "language_info": {
   "codemirror_mode": {
    "name": "ipython",
    "version": 2
   },
   "file_extension": ".py",
   "mimetype": "text/x-python",
   "name": "python",
   "nbconvert_exporter": "python",
   "pygments_lexer": "ipython2",
   "version": "2.7.6"
  }
 },
 "nbformat": 4,
 "nbformat_minor": 5
}
