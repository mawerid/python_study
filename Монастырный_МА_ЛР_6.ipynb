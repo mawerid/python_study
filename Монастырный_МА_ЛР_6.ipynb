{
 "cells": [
  {
   "metadata": {},
   "cell_type": "markdown",
   "source": [
    "## Практикум 6. Задание.\n",
    "\n",
    "1. В разделе https://www.chipdip.ru/catalog-show/glass-fuses скачайте данные по первым 20\n",
    "страницам, используя библиотеки requests и BeautifulSoup.\n",
    "2. Распарсите полученные страницы в датафрейм df вида (используйте регулярные\n",
    "выражения):\n",
    "\n",
    "Бренд, Название, Артикул, ТОК, Номинальное напряжение, Размеры корпуса, Тип, Цена, Кол-во, Срок поставки\n",
    "\n",
    "3. Выделите из названий предохранителей тип – (быстродействующий, медленного\n",
    "срабатывания и обычный) и добавьте соответствующую новую колонку в датафрейм df.\n",
    "4. Постройте группировку по переменной тип, в качестве агрегации используя - среднюю\n",
    "цену, максимальное количество на складе, минимальное число артикулов в группе.\n",
    "5. Проведите анализ качества предохранителей:\n",
    "\n",
    "- 5.1. выявите самый лучший предохранитель внутри каждой категории, по техническим\n",
    "характеристикам.\n",
    "- 5.2. Определите индекс качества каждого предохранителя относительно лучшего в\n",
    "категории – разделите значения характеристик на лучшие, и суммируйте\n",
    "полученные числа.\n",
    "- 5.3. Постройте три линейных графика – зависимость цены от индекса качества.\n",
    "\n",
    "6. Определите ценовой сегмент для каждого предохранителя. Используйте полученные\n",
    "ранее индексы качества.\n",
    "7. Определите самый дефицитный предохранитель – с самым долгим сроком поставки, и\n",
    "минимальным числом в наличии на складе.\n",
    "8. Проверьте гипотезу о связи тока и номинального напряжения в предохранителях:\n",
    "\n",
    "- 8.1. Разбейте ток и номинальное напряжение по две группы соответственно\n",
    "- 8.2. Постройте таблицу сопряженности – группированный ток vs группированное\n",
    "напряжение, с частотой предохранителей в ячейках.\n",
    "- 8.3. Проведите по построенной таблице тест хи-квадрат (scipy.stats.chi_contingency)\n",
    "\n",
    "9. Визуализируйте с помощью тепловой карты зависимость цены от группированного тока\n",
    "и группированного напряжения\n",
    "10. Постройте линейную регрессию и определите наиболее значимые характеристики\n",
    "товара, влияющие на рост цены."
   ],
   "id": "a24cba0785c7554d"
  },
  {
   "cell_type": "code",
   "id": "initial_id",
   "metadata": {
    "collapsed": true,
    "ExecuteTime": {
     "end_time": "2024-11-26T13:24:07.372969Z",
     "start_time": "2024-11-26T13:24:06.691337Z"
    }
   },
   "source": [
    "from selenium import webdriver\n",
    "import pandas as pd\n",
    "import matplotlib.pyplot as plt\n",
    "from scipy.stats import chi2_contingency\n",
    "from sklearn.linear_model import LinearRegression\n",
    "from sklearn.model_selection import train_test_split\n",
    "from sklearn.metrics import mean_squared_error\n",
    "from bs4 import BeautifulSoup\n",
    "import time\n",
    "import random\n",
    "import re"
   ],
   "outputs": [],
   "execution_count": 1
  },
  {
   "metadata": {},
   "cell_type": "markdown",
   "source": "#### 1. В разделе https://www.chipdip.ru/catalog-show/glass-fuses скачайте данные по первым 20 страницам, используя библиотеки requests и BeautifulSoup.",
   "id": "a3fb539b00a1369"
  },
  {
   "metadata": {
    "ExecuteTime": {
     "end_time": "2024-11-26T11:17:14.289244Z",
     "start_time": "2024-11-26T11:17:12.709439Z"
    }
   },
   "cell_type": "code",
   "source": [
    "options = webdriver.ChromeOptions()\n",
    "options.add_argument('--headless')\n",
    "options.add_argument('--no-sandbox')\n",
    "options.add_argument('--disable-dev-shm-usage')\n",
    "dr = webdriver.Chrome(options=options)"
   ],
   "id": "be69338bff39baee",
   "outputs": [],
   "execution_count": 2
  },
  {
   "metadata": {
    "ExecuteTime": {
     "end_time": "2024-11-26T11:17:14.296561Z",
     "start_time": "2024-11-26T11:17:14.292448Z"
    }
   },
   "cell_type": "code",
   "source": [
    "def extract(product_card):\n",
    "    try:\n",
    "        name = product_card.find('div', class_='item__name'). \\\n",
    "            find('a', class_='link').text\n",
    "        print(name)\n",
    "        price = product_card. \\\n",
    "            find('span', class_='price__value').text\n",
    "        try:\n",
    "            supply = product_card. \\\n",
    "                find('span', class_='item__avail item__avail_available nw').text\n",
    "        except:\n",
    "            supply = product_card. \\\n",
    "                find('span', class_='item__avail item__avail_delivery').text\n",
    "        link = product_card.find('div', class_='item__name'). \\\n",
    "            find('a', class_='link')['href']\n",
    "\n",
    "    except:\n",
    "        name, price, supply, link = '', '', '', ''\n",
    "    return pd.Series([name, price, supply, link], index=['name', 'price', 'supply', 'link'])"
   ],
   "id": "58de72c3c9d63904",
   "outputs": [],
   "execution_count": 3
  },
  {
   "metadata": {
    "ExecuteTime": {
     "end_time": "2024-11-26T11:20:18.487649Z",
     "start_time": "2024-11-26T11:20:18.484968Z"
    }
   },
   "cell_type": "code",
   "source": "df = pd.DataFrame()",
   "id": "d6e92e78039f8555",
   "outputs": [],
   "execution_count": 2
  },
  {
   "metadata": {
    "ExecuteTime": {
     "end_time": "2024-11-26T11:19:17.144755Z",
     "start_time": "2024-11-26T11:19:01.449251Z"
    }
   },
   "cell_type": "code",
   "source": [
    "for i in range(1, 8):\n",
    "    url = 'https://www.chipdip.ru/catalog-show/glass-fuses?ps=x3&page={}'.format(i)\n",
    "    dr = webdriver.Chrome(options=options)\n",
    "    dr.get(url)\n",
    "    soup = BeautifulSoup(dr.page_source)\n",
    "    print(i)\n",
    "    tmp = pd.concat([extract(x) for x in soup.find('div', class_='items-column'). \\\n",
    "                    find_all('div', class_=\"item\")], axis=1).transpose()\n",
    "    df = pd.concat([df, tmp])\n",
    "    time.sleep(random.randint(5, 15))"
   ],
   "id": "f916d54f278cbde3",
   "outputs": [
    {
     "name": "stdout",
     "output_type": "stream",
     "text": [
      "7\n",
      " Предохранитель 5x20, ток 3,0А, стекло, KF-0360B[ВПБ6]\n",
      " Предохранитель 5x20, ток 3,15 А, стекло, KF-0360B[ВПБ6-11]\n",
      " Предохранитель 5x20, ток 30 А, стекло, KF-0360B[ВПБ6]\n",
      " Предохранитель 5x20, ток 4,0 А, стекло\n",
      " Предохранитель 5x20, ток 4,0А, стекло, KF-0360B[ВПБ6-12]\n",
      " Предохранитель 5x20, ток 4,0А, стекло, ВПБ6-12, быстродействующий\n",
      " Предохранитель 5x20, ток 5,0 А, стекло\n",
      " Предохранитель 5x20, ток 5,0А, стекло, KF-0360B[ВПБ6-13]\n",
      " Предохранитель 5x20, ток 6,0 А, стекло\n",
      " Предохранитель 5x20, ток 6,3 А, стекло, KF-0360B[ВПБ6]\n",
      " Предохранитель 5x20, ток 8,0 А, стекло\n",
      " Предохранитель 5x20, ток 8,0 А, стекло, KF-0360B[ВПБ6]\n",
      " Предохранитель 6,0x30, ток 0,5 А, стекло, KF-0360D\n",
      " Предохранитель 6,0x30, ток 1,0 А, стекло, KF-0360D\n",
      " Предохранитель 6,0x30, ток 10 А, стекло, KF-0360D\n",
      " Предохранитель 6,0x30, ток 12 А, стекло, KF-0360D\n",
      " Предохранитель 6,0x30, ток 13 А, стекло, KF-0360D\n",
      " Предохранитель 6,0x30, ток 15 А, стекло, KF-0360D\n",
      " Предохранитель 6,0x30, ток 16 А, стекло, KF-0360D\n",
      " Предохранитель 6,0x30, ток 2,0 А, стекло, ПЦ-30\n",
      " Предохранитель 6,0x30, ток 2,0А, стекло, KF-0360D\n",
      " Предохранитель 6,0x30, ток 20 А, стекло, KF-0360D\n",
      " Предохранитель 6,0x30, ток 25 А, керамика, KF-0460D\n",
      " Предохранитель 6,0x30, ток 25 А, стекло, KF-0360D\n",
      " Предохранитель 6,0x30, ток 3,0 А, стекло, KF-0360D\n",
      " Предохранитель 6,0x30, ток 3,0 А, стекло, ПЦ-30\n",
      " Предохранитель 6,0x30, ток 4,0 А, стекло, KF-0360D\n",
      " Предохранитель 6,0x30, ток 6,0 А, стекло\n",
      " Предохранитель 6,3x32, ток 0,16А, стекло, ВПТ6-14\n",
      " Предохранитель 6,3x32, ток 0,25 А, стекло, ВПТ6-15\n",
      " Предохранитель 6,3x32, ток 0,5 А, стекло, ВПТ6-18\n",
      " Предохранитель 6,5x40, ток 0,6 А, стекло, [СВЧ печь]\n",
      " Предохранитель 6,5x40, ток 0,75 А, стекло, [СВЧ печь]\n",
      " Предохранитель 6,5x40, ток 0,7А, напряжение 5кВ, стекло, [СВЧ печь]\n",
      " Предохранитель 6,5x40, ток 0,8 А, стекло, [СВЧ печь]\n",
      " Предохранитель 6,5x40, ток 0,9 А, стекло, номинальное напряжение 5к В, [СВЧ печь]\n",
      " Предохранитель 7x30, ток 0,25 А, стекло, ПК-30\n",
      " Предохранитель 7x30, ток 0,5 А, стекло, ПК-30\n",
      " Предохранитель 7x30, ток 1,0 А, стекло, ПК-30\n",
      " Предохранитель 7x45, ток 0,25 А, стекло, ПК-45\n",
      " Предохранитель 7x45, ток 1,0 А, стекло, ПК-45\n",
      " Предохранитель 7x45, ток 2,0 А, стекло, ПК-45\n",
      " Предохранитель 7x45, ток 4,0 А, стекло, ПК-45\n",
      " Предохранитель 7x50, ток 0,5 А, контакты 2CL, стекло, ПН-50\n",
      " Предохранитель 7x50, ток 1,0 А, контакты 2CL, стекло, ПН-50\n",
      " Предохранитель 8x50, ток 1,0 А, стекло, номинальное напряжение 250 В, ВПТ6-33\n",
      " Предохранитель, размер 10x38, 100А, 2C[Au], стекло\n",
      " Предохранитель, размер 10x38, 20А, 2C[Au], стекло\n",
      " Предохранитель, размер 10x38, 80А, 2C[Au], стекло\n",
      " Предохранитель, размер 3.6x10, 0.10А, стекло\n",
      " Предохранитель, размер 5x20, 0.05А, стекло KF-0360B[ВПБ6]\n",
      " Предохранитель, размер 5x20, 1.6А, стекло KF-0360B\n",
      " Предохранитель, размер 5x20, 15.0А, стекло\n",
      " Предохранитель, размер 5x20, 25А, стекло KF-0360B[ВПБ6]\n",
      " Предохранитель, размер 5x20, 7.0А, стекло KF-0360B[ВПБ6]\n",
      " Предохранитель, размер 6.0x30, 1.0А, AXI, стекло\n",
      " Предохранитель, размер 6.0x30, 10.0А, AXI, стекло\n",
      " Предохранитель, размер 6.0x30, 12.0А, AXI, стекло\n",
      " Предохранитель, размер 6.0x30, 15.0А, AXI, стекло\n",
      " Предохранитель, размер 6.0x30, 2.0А, AXI, стекло\n"
     ]
    }
   ],
   "execution_count": 9
  },
  {
   "metadata": {
    "ExecuteTime": {
     "end_time": "2024-11-26T11:22:57.934094Z",
     "start_time": "2024-11-26T11:22:57.923472Z"
    }
   },
   "cell_type": "code",
   "source": "df",
   "id": "2e42366182b57d6a",
   "outputs": [
    {
     "data": {
      "text/plain": [
       "     Unnamed: 0                                               name price  \\\n",
       "0             0   AGU (AUE), 10 A , 250 В, 10x38 мм, Предохрани...    84   \n",
       "1             1   AGU (AUE), 20 A , 250 В, 10x38 мм, Предохрани...    58   \n",
       "2             2   AGU (AUE), 30 A , 250 В, 10x38 мм, Предохрани...    98   \n",
       "3             3   AGU (AUE), 40 А, 250 В, 10x38 мм, Предохранитель    98   \n",
       "4             4   AGU (AUE), 50 A , 250 В, 10x38 мм, Предохрани...    98   \n",
       "..          ...                                                ...   ...   \n",
       "415         415   Предохранитель, размер 6.0x30, 1.0А, AXI, стекло    40   \n",
       "416         416   Предохранитель, размер 6.0x30, 10.0А, AXI, ст...    48   \n",
       "417         417   Предохранитель, размер 6.0x30, 12.0А, AXI, ст...    48   \n",
       "418         418   Предохранитель, размер 6.0x30, 15.0А, AXI, ст...    48   \n",
       "419         419   Предохранитель, размер 6.0x30, 2.0А, AXI, стекло    40   \n",
       "\n",
       "       supply                        link  \n",
       "0    1808 шт.  /product/agu-aue-10a-10x38  \n",
       "1    4458 шт.  /product/agu-aue-20a-10x38  \n",
       "2     867 шт.  /product/agu-aue-30a-10x38  \n",
       "3     815 шт.  /product/agu-aue-40a-10x38  \n",
       "4     654 шт.  /product/agu-aue-50a-10x38  \n",
       "..        ...                         ...  \n",
       "415    66 шт.        /product0/8031325132  \n",
       "416    51 шт.        /product0/8031325140  \n",
       "417    63 шт.        /product0/8031325141  \n",
       "418    61 шт.        /product0/8031325142  \n",
       "419    66 шт.        /product0/8031325133  \n",
       "\n",
       "[420 rows x 5 columns]"
      ],
      "text/html": [
       "<div>\n",
       "<style scoped>\n",
       "    .dataframe tbody tr th:only-of-type {\n",
       "        vertical-align: middle;\n",
       "    }\n",
       "\n",
       "    .dataframe tbody tr th {\n",
       "        vertical-align: top;\n",
       "    }\n",
       "\n",
       "    .dataframe thead th {\n",
       "        text-align: right;\n",
       "    }\n",
       "</style>\n",
       "<table border=\"1\" class=\"dataframe\">\n",
       "  <thead>\n",
       "    <tr style=\"text-align: right;\">\n",
       "      <th></th>\n",
       "      <th>Unnamed: 0</th>\n",
       "      <th>name</th>\n",
       "      <th>price</th>\n",
       "      <th>supply</th>\n",
       "      <th>link</th>\n",
       "    </tr>\n",
       "  </thead>\n",
       "  <tbody>\n",
       "    <tr>\n",
       "      <th>0</th>\n",
       "      <td>0</td>\n",
       "      <td>AGU (AUE), 10 A , 250 В, 10x38 мм, Предохрани...</td>\n",
       "      <td>84</td>\n",
       "      <td>1808 шт.</td>\n",
       "      <td>/product/agu-aue-10a-10x38</td>\n",
       "    </tr>\n",
       "    <tr>\n",
       "      <th>1</th>\n",
       "      <td>1</td>\n",
       "      <td>AGU (AUE), 20 A , 250 В, 10x38 мм, Предохрани...</td>\n",
       "      <td>58</td>\n",
       "      <td>4458 шт.</td>\n",
       "      <td>/product/agu-aue-20a-10x38</td>\n",
       "    </tr>\n",
       "    <tr>\n",
       "      <th>2</th>\n",
       "      <td>2</td>\n",
       "      <td>AGU (AUE), 30 A , 250 В, 10x38 мм, Предохрани...</td>\n",
       "      <td>98</td>\n",
       "      <td>867 шт.</td>\n",
       "      <td>/product/agu-aue-30a-10x38</td>\n",
       "    </tr>\n",
       "    <tr>\n",
       "      <th>3</th>\n",
       "      <td>3</td>\n",
       "      <td>AGU (AUE), 40 А, 250 В, 10x38 мм, Предохранитель</td>\n",
       "      <td>98</td>\n",
       "      <td>815 шт.</td>\n",
       "      <td>/product/agu-aue-40a-10x38</td>\n",
       "    </tr>\n",
       "    <tr>\n",
       "      <th>4</th>\n",
       "      <td>4</td>\n",
       "      <td>AGU (AUE), 50 A , 250 В, 10x38 мм, Предохрани...</td>\n",
       "      <td>98</td>\n",
       "      <td>654 шт.</td>\n",
       "      <td>/product/agu-aue-50a-10x38</td>\n",
       "    </tr>\n",
       "    <tr>\n",
       "      <th>...</th>\n",
       "      <td>...</td>\n",
       "      <td>...</td>\n",
       "      <td>...</td>\n",
       "      <td>...</td>\n",
       "      <td>...</td>\n",
       "    </tr>\n",
       "    <tr>\n",
       "      <th>415</th>\n",
       "      <td>415</td>\n",
       "      <td>Предохранитель, размер 6.0x30, 1.0А, AXI, стекло</td>\n",
       "      <td>40</td>\n",
       "      <td>66 шт.</td>\n",
       "      <td>/product0/8031325132</td>\n",
       "    </tr>\n",
       "    <tr>\n",
       "      <th>416</th>\n",
       "      <td>416</td>\n",
       "      <td>Предохранитель, размер 6.0x30, 10.0А, AXI, ст...</td>\n",
       "      <td>48</td>\n",
       "      <td>51 шт.</td>\n",
       "      <td>/product0/8031325140</td>\n",
       "    </tr>\n",
       "    <tr>\n",
       "      <th>417</th>\n",
       "      <td>417</td>\n",
       "      <td>Предохранитель, размер 6.0x30, 12.0А, AXI, ст...</td>\n",
       "      <td>48</td>\n",
       "      <td>63 шт.</td>\n",
       "      <td>/product0/8031325141</td>\n",
       "    </tr>\n",
       "    <tr>\n",
       "      <th>418</th>\n",
       "      <td>418</td>\n",
       "      <td>Предохранитель, размер 6.0x30, 15.0А, AXI, ст...</td>\n",
       "      <td>48</td>\n",
       "      <td>61 шт.</td>\n",
       "      <td>/product0/8031325142</td>\n",
       "    </tr>\n",
       "    <tr>\n",
       "      <th>419</th>\n",
       "      <td>419</td>\n",
       "      <td>Предохранитель, размер 6.0x30, 2.0А, AXI, стекло</td>\n",
       "      <td>40</td>\n",
       "      <td>66 шт.</td>\n",
       "      <td>/product0/8031325133</td>\n",
       "    </tr>\n",
       "  </tbody>\n",
       "</table>\n",
       "<p>420 rows × 5 columns</p>\n",
       "</div>"
      ]
     },
     "execution_count": 13,
     "metadata": {},
     "output_type": "execute_result"
    }
   ],
   "execution_count": 13
  },
  {
   "metadata": {
    "ExecuteTime": {
     "end_time": "2024-11-26T11:22:14.681832Z",
     "start_time": "2024-11-26T11:22:14.677048Z"
    }
   },
   "cell_type": "code",
   "source": "# df.to_csv('data/chipdip.csv')",
   "id": "dcb07a2db722ec81",
   "outputs": [],
   "execution_count": 11
  },
  {
   "metadata": {},
   "cell_type": "markdown",
   "source": [
    "#### 2. Распарсите полученные страницы в датафрейм df вида (используйте регулярные выражения):\n",
    "\n",
    "Бренд, Название, Артикул, ТОК, Номинальное напряжение, Размеры корпуса, Тип, Цена, Кол-во, Срок поставки\n"
   ],
   "id": "d0157a878fe952b3"
  },
  {
   "metadata": {
    "ExecuteTime": {
     "end_time": "2024-11-26T13:24:13.100766Z",
     "start_time": "2024-11-26T13:24:13.095020Z"
    }
   },
   "cell_type": "code",
   "source": "df = pd.read_csv('data/chipdip.csv', index_col=0)",
   "id": "68a82b1eec36db91",
   "outputs": [],
   "execution_count": 2
  },
  {
   "metadata": {
    "ExecuteTime": {
     "end_time": "2024-11-26T13:24:13.418442Z",
     "start_time": "2024-11-26T13:24:13.405950Z"
    }
   },
   "cell_type": "code",
   "source": "df",
   "id": "21cbed813846bae2",
   "outputs": [
    {
     "data": {
      "text/plain": [
       "                                                  name price    supply  \\\n",
       "0     AGU (AUE), 10 A , 250 В, 10x38 мм, Предохрани...    84  1808 шт.   \n",
       "1     AGU (AUE), 20 A , 250 В, 10x38 мм, Предохрани...    58  4458 шт.   \n",
       "2     AGU (AUE), 30 A , 250 В, 10x38 мм, Предохрани...    98   867 шт.   \n",
       "3     AGU (AUE), 40 А, 250 В, 10x38 мм, Предохранитель    98   815 шт.   \n",
       "4     AGU (AUE), 50 A , 250 В, 10x38 мм, Предохрани...    98   654 шт.   \n",
       "..                                                 ...   ...       ...   \n",
       "415   Предохранитель, размер 6.0x30, 1.0А, AXI, стекло    40    66 шт.   \n",
       "416   Предохранитель, размер 6.0x30, 10.0А, AXI, ст...    48    51 шт.   \n",
       "417   Предохранитель, размер 6.0x30, 12.0А, AXI, ст...    48    63 шт.   \n",
       "418   Предохранитель, размер 6.0x30, 15.0А, AXI, ст...    48    61 шт.   \n",
       "419   Предохранитель, размер 6.0x30, 2.0А, AXI, стекло    40    66 шт.   \n",
       "\n",
       "                           link  \n",
       "0    /product/agu-aue-10a-10x38  \n",
       "1    /product/agu-aue-20a-10x38  \n",
       "2    /product/agu-aue-30a-10x38  \n",
       "3    /product/agu-aue-40a-10x38  \n",
       "4    /product/agu-aue-50a-10x38  \n",
       "..                          ...  \n",
       "415        /product0/8031325132  \n",
       "416        /product0/8031325140  \n",
       "417        /product0/8031325141  \n",
       "418        /product0/8031325142  \n",
       "419        /product0/8031325133  \n",
       "\n",
       "[420 rows x 4 columns]"
      ],
      "text/html": [
       "<div>\n",
       "<style scoped>\n",
       "    .dataframe tbody tr th:only-of-type {\n",
       "        vertical-align: middle;\n",
       "    }\n",
       "\n",
       "    .dataframe tbody tr th {\n",
       "        vertical-align: top;\n",
       "    }\n",
       "\n",
       "    .dataframe thead th {\n",
       "        text-align: right;\n",
       "    }\n",
       "</style>\n",
       "<table border=\"1\" class=\"dataframe\">\n",
       "  <thead>\n",
       "    <tr style=\"text-align: right;\">\n",
       "      <th></th>\n",
       "      <th>name</th>\n",
       "      <th>price</th>\n",
       "      <th>supply</th>\n",
       "      <th>link</th>\n",
       "    </tr>\n",
       "  </thead>\n",
       "  <tbody>\n",
       "    <tr>\n",
       "      <th>0</th>\n",
       "      <td>AGU (AUE), 10 A , 250 В, 10x38 мм, Предохрани...</td>\n",
       "      <td>84</td>\n",
       "      <td>1808 шт.</td>\n",
       "      <td>/product/agu-aue-10a-10x38</td>\n",
       "    </tr>\n",
       "    <tr>\n",
       "      <th>1</th>\n",
       "      <td>AGU (AUE), 20 A , 250 В, 10x38 мм, Предохрани...</td>\n",
       "      <td>58</td>\n",
       "      <td>4458 шт.</td>\n",
       "      <td>/product/agu-aue-20a-10x38</td>\n",
       "    </tr>\n",
       "    <tr>\n",
       "      <th>2</th>\n",
       "      <td>AGU (AUE), 30 A , 250 В, 10x38 мм, Предохрани...</td>\n",
       "      <td>98</td>\n",
       "      <td>867 шт.</td>\n",
       "      <td>/product/agu-aue-30a-10x38</td>\n",
       "    </tr>\n",
       "    <tr>\n",
       "      <th>3</th>\n",
       "      <td>AGU (AUE), 40 А, 250 В, 10x38 мм, Предохранитель</td>\n",
       "      <td>98</td>\n",
       "      <td>815 шт.</td>\n",
       "      <td>/product/agu-aue-40a-10x38</td>\n",
       "    </tr>\n",
       "    <tr>\n",
       "      <th>4</th>\n",
       "      <td>AGU (AUE), 50 A , 250 В, 10x38 мм, Предохрани...</td>\n",
       "      <td>98</td>\n",
       "      <td>654 шт.</td>\n",
       "      <td>/product/agu-aue-50a-10x38</td>\n",
       "    </tr>\n",
       "    <tr>\n",
       "      <th>...</th>\n",
       "      <td>...</td>\n",
       "      <td>...</td>\n",
       "      <td>...</td>\n",
       "      <td>...</td>\n",
       "    </tr>\n",
       "    <tr>\n",
       "      <th>415</th>\n",
       "      <td>Предохранитель, размер 6.0x30, 1.0А, AXI, стекло</td>\n",
       "      <td>40</td>\n",
       "      <td>66 шт.</td>\n",
       "      <td>/product0/8031325132</td>\n",
       "    </tr>\n",
       "    <tr>\n",
       "      <th>416</th>\n",
       "      <td>Предохранитель, размер 6.0x30, 10.0А, AXI, ст...</td>\n",
       "      <td>48</td>\n",
       "      <td>51 шт.</td>\n",
       "      <td>/product0/8031325140</td>\n",
       "    </tr>\n",
       "    <tr>\n",
       "      <th>417</th>\n",
       "      <td>Предохранитель, размер 6.0x30, 12.0А, AXI, ст...</td>\n",
       "      <td>48</td>\n",
       "      <td>63 шт.</td>\n",
       "      <td>/product0/8031325141</td>\n",
       "    </tr>\n",
       "    <tr>\n",
       "      <th>418</th>\n",
       "      <td>Предохранитель, размер 6.0x30, 15.0А, AXI, ст...</td>\n",
       "      <td>48</td>\n",
       "      <td>61 шт.</td>\n",
       "      <td>/product0/8031325142</td>\n",
       "    </tr>\n",
       "    <tr>\n",
       "      <th>419</th>\n",
       "      <td>Предохранитель, размер 6.0x30, 2.0А, AXI, стекло</td>\n",
       "      <td>40</td>\n",
       "      <td>66 шт.</td>\n",
       "      <td>/product0/8031325133</td>\n",
       "    </tr>\n",
       "  </tbody>\n",
       "</table>\n",
       "<p>420 rows × 4 columns</p>\n",
       "</div>"
      ]
     },
     "execution_count": 3,
     "metadata": {},
     "output_type": "execute_result"
    }
   ],
   "execution_count": 3
  },
  {
   "metadata": {
    "ExecuteTime": {
     "end_time": "2024-11-26T13:24:13.661801Z",
     "start_time": "2024-11-26T13:24:13.658695Z"
    }
   },
   "cell_type": "code",
   "source": [
    "def apply_regex(pattern: str, x: str) -> str:\n",
    "    extracted = re.findall(pattern, x, re.IGNORECASE)\n",
    "    return extracted[0] if extracted else ''\n",
    "\n",
    "def find_type(x: str) -> str:\n",
    "    if 'быстр' in x.lower():\n",
    "        return 'быстродействующий'\n",
    "    if 'медл' in x.lower():\n",
    "        return 'медленного срабатывания'\n",
    "    return 'обычный'"
   ],
   "id": "8813f17e43dcae20",
   "outputs": [],
   "execution_count": 4
  },
  {
   "metadata": {
    "ExecuteTime": {
     "end_time": "2024-11-26T13:24:13.933479Z",
     "start_time": "2024-11-26T13:24:13.912129Z"
    }
   },
   "cell_type": "code",
   "source": [
    "df['full_name'] = df['name']\n",
    "df['name'] = df['full_name'].apply(lambda x: apply_regex(\n",
    "    r'(?:(?:предохранител|плавкая вставка|cartridge fuses|plugin fuses)[^,;]*)(?=\\s*(?:[^0-9\\s,;-]*[^\\d\\s,;]+)(?:[,;]$|$))',\n",
    "    x))\n",
    "df['article'] = df['link'].apply(lambda x: x.split('/')[-1])\n",
    "df['current'] = df['full_name'].apply(lambda x: apply_regex(r'\\d+[.,]?\\d*\\s*[АAмA]', x))\n",
    "df['voltage'] = df['full_name'].apply(lambda x: apply_regex(r'\\d+[.,]?\\d*\\s*[ВBкВ]', x))\n",
    "df['size'] = df['full_name'].apply(lambda x: apply_regex(r'\\d+[.,]?\\d*[xх]\\d+[.,]?\\d*', x))\n",
    "df['type'] = df['full_name'].apply(lambda x: re.findall(\n",
    "    r'быстродействующий|средне медленные|замедленного действия|медленного срабатывания|обычный|стеклянный|свч|выводной|замедленного|быстр|цилиндрический|высоковольтный|быстрый|сверхбыстрый|сверхбыстродействующий|миниатюрный|медленный|некрашеный|стекло',\n",
    "    x, re.IGNORECASE))\n",
    "# Срок поставки отсутствует в данных"
   ],
   "id": "d8e3fa637818e35e",
   "outputs": [],
   "execution_count": 5
  },
  {
   "metadata": {
    "ExecuteTime": {
     "end_time": "2024-11-26T13:24:14.256514Z",
     "start_time": "2024-11-26T13:24:14.247279Z"
    }
   },
   "cell_type": "code",
   "source": [
    "# rewrite name column using founding name in full_name and add one more char in the end\n",
    "df['name'] = df.apply(lambda row: row['name'] + row['full_name'][row['full_name'].find(row[\"name\"]) + len(row['name'])], axis=1)"
   ],
   "id": "7e58bde3d411f04e",
   "outputs": [],
   "execution_count": 6
  },
  {
   "metadata": {
    "ExecuteTime": {
     "end_time": "2024-11-26T13:24:14.834664Z",
     "start_time": "2024-11-26T13:24:14.824323Z"
    }
   },
   "cell_type": "code",
   "source": [
    "def extract_brand(full_name, name, current, voltage, size, type_list):\n",
    "    brand = full_name\n",
    "    for part in [name, current, voltage, size] + type_list:\n",
    "        brand = brand.replace(part, '')\n",
    "\n",
    "    brand = re.sub(r'[^\\w\\s]', '', brand).strip()\n",
    "\n",
    "    return brand.split()[0] if brand else ''\n",
    "\n",
    "\n",
    "df['brand'] = df.apply(\n",
    "    lambda row: extract_brand(row['full_name'], row['name'], row['current'], row['voltage'], row['size'], row['type']),\n",
    "    axis=1)"
   ],
   "id": "baae1f98809080ec",
   "outputs": [],
   "execution_count": 7
  },
  {
   "metadata": {
    "ExecuteTime": {
     "end_time": "2024-11-26T13:24:15.271262Z",
     "start_time": "2024-11-26T13:24:15.265472Z"
    }
   },
   "cell_type": "code",
   "source": "df['type'] = df['full_name'].apply(find_type)",
   "id": "40e683cdb0a39874",
   "outputs": [],
   "execution_count": 8
  },
  {
   "metadata": {
    "ExecuteTime": {
     "end_time": "2024-11-26T13:24:15.636419Z",
     "start_time": "2024-11-26T13:24:15.630374Z"
    }
   },
   "cell_type": "code",
   "source": [
    "# convert price, quantity, current, voltage to numeric\n",
    "df['price'] = df['price'].apply(lambda x: float(re.sub(r'[^\\d.]', '', x)))\n",
    "df['supply'] = df['supply'].apply(lambda x: int(re.sub(r'[^\\d]', '', x)))\n",
    "df['current'] = df['current'].apply(lambda x: float(re.sub(r'[^\\d.]', '', x) if x else 0))\n",
    "df['voltage'] = df['voltage'].apply(lambda x: float(re.sub(r'[^\\d.]', '', x) if x else 0))"
   ],
   "id": "94115b3f051d01f7",
   "outputs": [],
   "execution_count": 9
  },
  {
   "metadata": {
    "ExecuteTime": {
     "end_time": "2024-11-26T13:24:16.024420Z",
     "start_time": "2024-11-26T13:24:16.017842Z"
    }
   },
   "cell_type": "code",
   "source": "df = df[['brand', 'name', 'article', 'current', 'voltage', 'size', 'type', 'price', 'supply']]",
   "id": "8eeb8654ceff571c",
   "outputs": [],
   "execution_count": 10
  },
  {
   "metadata": {
    "ExecuteTime": {
     "end_time": "2024-11-26T13:24:16.567331Z",
     "start_time": "2024-11-26T13:24:16.556125Z"
    }
   },
   "cell_type": "code",
   "source": "df",
   "id": "353a4165f141c5b3",
   "outputs": [
    {
     "data": {
      "text/plain": [
       "                       brand            name            article  current  \\\n",
       "0                        AGU  Предохранитель  agu-aue-10a-10x38     10.0   \n",
       "1                        AGU  Предохранитель  agu-aue-20a-10x38     20.0   \n",
       "2                        AGU  Предохранитель  agu-aue-30a-10x38     30.0   \n",
       "3                        AGU  Предохранитель  agu-aue-40a-10x38     40.0   \n",
       "4                        AGU  Предохранитель  agu-aue-50a-10x38     50.0   \n",
       "..                       ...             ...                ...      ...   \n",
       "415  ПредохранительразмерAXI                         8031325132      1.0   \n",
       "416  ПредохранительразмерAXI                         8031325140     10.0   \n",
       "417  ПредохранительразмерAXI                         8031325141     12.0   \n",
       "418  ПредохранительразмерAXI                         8031325142     15.0   \n",
       "419  ПредохранительразмерAXI                         8031325133      2.0   \n",
       "\n",
       "     voltage     size     type  price  supply  \n",
       "0      250.0    10x38  обычный   84.0    1808  \n",
       "1      250.0    10x38  обычный   58.0    4458  \n",
       "2      250.0    10x38  обычный   98.0     867  \n",
       "3      250.0    10x38  обычный   98.0     815  \n",
       "4      250.0    10x38  обычный   98.0     654  \n",
       "..       ...      ...      ...    ...     ...  \n",
       "415      0.0  6.0x30,  обычный   40.0      66  \n",
       "416      0.0  6.0x30,  обычный   48.0      51  \n",
       "417      0.0  6.0x30,  обычный   48.0      63  \n",
       "418      0.0  6.0x30,  обычный   48.0      61  \n",
       "419      0.0  6.0x30,  обычный   40.0      66  \n",
       "\n",
       "[420 rows x 9 columns]"
      ],
      "text/html": [
       "<div>\n",
       "<style scoped>\n",
       "    .dataframe tbody tr th:only-of-type {\n",
       "        vertical-align: middle;\n",
       "    }\n",
       "\n",
       "    .dataframe tbody tr th {\n",
       "        vertical-align: top;\n",
       "    }\n",
       "\n",
       "    .dataframe thead th {\n",
       "        text-align: right;\n",
       "    }\n",
       "</style>\n",
       "<table border=\"1\" class=\"dataframe\">\n",
       "  <thead>\n",
       "    <tr style=\"text-align: right;\">\n",
       "      <th></th>\n",
       "      <th>brand</th>\n",
       "      <th>name</th>\n",
       "      <th>article</th>\n",
       "      <th>current</th>\n",
       "      <th>voltage</th>\n",
       "      <th>size</th>\n",
       "      <th>type</th>\n",
       "      <th>price</th>\n",
       "      <th>supply</th>\n",
       "    </tr>\n",
       "  </thead>\n",
       "  <tbody>\n",
       "    <tr>\n",
       "      <th>0</th>\n",
       "      <td>AGU</td>\n",
       "      <td>Предохранитель</td>\n",
       "      <td>agu-aue-10a-10x38</td>\n",
       "      <td>10.0</td>\n",
       "      <td>250.0</td>\n",
       "      <td>10x38</td>\n",
       "      <td>обычный</td>\n",
       "      <td>84.0</td>\n",
       "      <td>1808</td>\n",
       "    </tr>\n",
       "    <tr>\n",
       "      <th>1</th>\n",
       "      <td>AGU</td>\n",
       "      <td>Предохранитель</td>\n",
       "      <td>agu-aue-20a-10x38</td>\n",
       "      <td>20.0</td>\n",
       "      <td>250.0</td>\n",
       "      <td>10x38</td>\n",
       "      <td>обычный</td>\n",
       "      <td>58.0</td>\n",
       "      <td>4458</td>\n",
       "    </tr>\n",
       "    <tr>\n",
       "      <th>2</th>\n",
       "      <td>AGU</td>\n",
       "      <td>Предохранитель</td>\n",
       "      <td>agu-aue-30a-10x38</td>\n",
       "      <td>30.0</td>\n",
       "      <td>250.0</td>\n",
       "      <td>10x38</td>\n",
       "      <td>обычный</td>\n",
       "      <td>98.0</td>\n",
       "      <td>867</td>\n",
       "    </tr>\n",
       "    <tr>\n",
       "      <th>3</th>\n",
       "      <td>AGU</td>\n",
       "      <td>Предохранитель</td>\n",
       "      <td>agu-aue-40a-10x38</td>\n",
       "      <td>40.0</td>\n",
       "      <td>250.0</td>\n",
       "      <td>10x38</td>\n",
       "      <td>обычный</td>\n",
       "      <td>98.0</td>\n",
       "      <td>815</td>\n",
       "    </tr>\n",
       "    <tr>\n",
       "      <th>4</th>\n",
       "      <td>AGU</td>\n",
       "      <td>Предохранитель</td>\n",
       "      <td>agu-aue-50a-10x38</td>\n",
       "      <td>50.0</td>\n",
       "      <td>250.0</td>\n",
       "      <td>10x38</td>\n",
       "      <td>обычный</td>\n",
       "      <td>98.0</td>\n",
       "      <td>654</td>\n",
       "    </tr>\n",
       "    <tr>\n",
       "      <th>...</th>\n",
       "      <td>...</td>\n",
       "      <td>...</td>\n",
       "      <td>...</td>\n",
       "      <td>...</td>\n",
       "      <td>...</td>\n",
       "      <td>...</td>\n",
       "      <td>...</td>\n",
       "      <td>...</td>\n",
       "      <td>...</td>\n",
       "    </tr>\n",
       "    <tr>\n",
       "      <th>415</th>\n",
       "      <td>ПредохранительразмерAXI</td>\n",
       "      <td></td>\n",
       "      <td>8031325132</td>\n",
       "      <td>1.0</td>\n",
       "      <td>0.0</td>\n",
       "      <td>6.0x30,</td>\n",
       "      <td>обычный</td>\n",
       "      <td>40.0</td>\n",
       "      <td>66</td>\n",
       "    </tr>\n",
       "    <tr>\n",
       "      <th>416</th>\n",
       "      <td>ПредохранительразмерAXI</td>\n",
       "      <td></td>\n",
       "      <td>8031325140</td>\n",
       "      <td>10.0</td>\n",
       "      <td>0.0</td>\n",
       "      <td>6.0x30,</td>\n",
       "      <td>обычный</td>\n",
       "      <td>48.0</td>\n",
       "      <td>51</td>\n",
       "    </tr>\n",
       "    <tr>\n",
       "      <th>417</th>\n",
       "      <td>ПредохранительразмерAXI</td>\n",
       "      <td></td>\n",
       "      <td>8031325141</td>\n",
       "      <td>12.0</td>\n",
       "      <td>0.0</td>\n",
       "      <td>6.0x30,</td>\n",
       "      <td>обычный</td>\n",
       "      <td>48.0</td>\n",
       "      <td>63</td>\n",
       "    </tr>\n",
       "    <tr>\n",
       "      <th>418</th>\n",
       "      <td>ПредохранительразмерAXI</td>\n",
       "      <td></td>\n",
       "      <td>8031325142</td>\n",
       "      <td>15.0</td>\n",
       "      <td>0.0</td>\n",
       "      <td>6.0x30,</td>\n",
       "      <td>обычный</td>\n",
       "      <td>48.0</td>\n",
       "      <td>61</td>\n",
       "    </tr>\n",
       "    <tr>\n",
       "      <th>419</th>\n",
       "      <td>ПредохранительразмерAXI</td>\n",
       "      <td></td>\n",
       "      <td>8031325133</td>\n",
       "      <td>2.0</td>\n",
       "      <td>0.0</td>\n",
       "      <td>6.0x30,</td>\n",
       "      <td>обычный</td>\n",
       "      <td>40.0</td>\n",
       "      <td>66</td>\n",
       "    </tr>\n",
       "  </tbody>\n",
       "</table>\n",
       "<p>420 rows × 9 columns</p>\n",
       "</div>"
      ]
     },
     "execution_count": 11,
     "metadata": {},
     "output_type": "execute_result"
    }
   ],
   "execution_count": 11
  },
  {
   "metadata": {},
   "cell_type": "markdown",
   "source": "#### 3. Выделите из названий предохранителей тип – (быстродействующий, медленного срабатывания и обычный) и добавьте соответствующую новую колонку в датафрейм df.",
   "id": "e1ad3f8fb4f7bc17"
  },
  {
   "metadata": {
    "ExecuteTime": {
     "end_time": "2024-11-26T13:24:17.804626Z",
     "start_time": "2024-11-26T13:24:17.802753Z"
    }
   },
   "cell_type": "code",
   "source": "# Уже сделано",
   "id": "7abe3f3b73551d63",
   "outputs": [],
   "execution_count": 12
  },
  {
   "metadata": {},
   "cell_type": "markdown",
   "source": "#### 4. Постройте группировку по переменной тип, в качестве агрегации используя - среднюю цену, максимальное количество на складе, минимальное число артикулов в группе.",
   "id": "8edb1b2c46827514"
  },
  {
   "metadata": {
    "ExecuteTime": {
     "end_time": "2024-11-26T13:24:18.979998Z",
     "start_time": "2024-11-26T13:24:18.972151Z"
    }
   },
   "cell_type": "code",
   "source": "df.groupby('type').agg({'price': 'mean', 'supply': 'max', 'article': 'min'})",
   "id": "f5aefd3d18f5e08e",
   "outputs": [
    {
     "data": {
      "text/plain": [
       "                              price  supply                     article\n",
       "type                                                                   \n",
       "быстродействующий        337.436364  511980  520.622-3.15a-bystr.steklo\n",
       "медленного срабатывания  116.375000   56000  522.0250-0.25-a-250-v-5-20\n",
       "обычный                  169.951852   51600    0251.250mat1l-250ma-125v"
      ],
      "text/html": [
       "<div>\n",
       "<style scoped>\n",
       "    .dataframe tbody tr th:only-of-type {\n",
       "        vertical-align: middle;\n",
       "    }\n",
       "\n",
       "    .dataframe tbody tr th {\n",
       "        vertical-align: top;\n",
       "    }\n",
       "\n",
       "    .dataframe thead th {\n",
       "        text-align: right;\n",
       "    }\n",
       "</style>\n",
       "<table border=\"1\" class=\"dataframe\">\n",
       "  <thead>\n",
       "    <tr style=\"text-align: right;\">\n",
       "      <th></th>\n",
       "      <th>price</th>\n",
       "      <th>supply</th>\n",
       "      <th>article</th>\n",
       "    </tr>\n",
       "    <tr>\n",
       "      <th>type</th>\n",
       "      <th></th>\n",
       "      <th></th>\n",
       "      <th></th>\n",
       "    </tr>\n",
       "  </thead>\n",
       "  <tbody>\n",
       "    <tr>\n",
       "      <th>быстродействующий</th>\n",
       "      <td>337.436364</td>\n",
       "      <td>511980</td>\n",
       "      <td>520.622-3.15a-bystr.steklo</td>\n",
       "    </tr>\n",
       "    <tr>\n",
       "      <th>медленного срабатывания</th>\n",
       "      <td>116.375000</td>\n",
       "      <td>56000</td>\n",
       "      <td>522.0250-0.25-a-250-v-5-20</td>\n",
       "    </tr>\n",
       "    <tr>\n",
       "      <th>обычный</th>\n",
       "      <td>169.951852</td>\n",
       "      <td>51600</td>\n",
       "      <td>0251.250mat1l-250ma-125v</td>\n",
       "    </tr>\n",
       "  </tbody>\n",
       "</table>\n",
       "</div>"
      ]
     },
     "execution_count": 13,
     "metadata": {},
     "output_type": "execute_result"
    }
   ],
   "execution_count": 13
  },
  {
   "metadata": {},
   "cell_type": "markdown",
   "source": [
    "#### 5. Проведите анализ качества предохранителей:\n",
    "\n",
    "- 5.1. выявите самый лучший предохранитель внутри каждой категории, по техническим\n",
    "характеристикам.\n",
    "- 5.2. Определите индекс качества каждого предохранителя относительно лучшего в\n",
    "категории – разделите значения характеристик на лучшие, и суммируйте\n",
    "полученные числа.\n",
    "- 5.3. Постройте три линейных графика – зависимость цены от индекса качества.\n"
   ],
   "id": "ed57db0629edee75"
  },
  {
   "metadata": {
    "ExecuteTime": {
     "end_time": "2024-11-26T13:24:20.260045Z",
     "start_time": "2024-11-26T13:24:20.249570Z"
    }
   },
   "cell_type": "code",
   "source": [
    "df['quality_index'] = df['price'] / df['price'].max() + df['supply'] / df['supply'].max()\n",
    "\n",
    "best = df.groupby('type')['quality_index'].idxmax()\n",
    "df.loc[best]"
   ],
   "id": "8d34e824779521e1",
   "outputs": [
    {
     "name": "stderr",
     "output_type": "stream",
     "text": [
      "/tmp/ipykernel_66250/4058953947.py:1: SettingWithCopyWarning: \n",
      "A value is trying to be set on a copy of a slice from a DataFrame.\n",
      "Try using .loc[row_indexer,col_indexer] = value instead\n",
      "\n",
      "See the caveats in the documentation: https://pandas.pydata.org/pandas-docs/stable/user_guide/indexing.html#returning-a-view-versus-a-copy\n",
      "  df['quality_index'] = df['price'] / df['price'].max() + df['supply'] / df['supply'].max()\n"
     ]
    },
    {
     "data": {
      "text/plain": [
       "        brand                                               name  \\\n",
       "174   5210500        Предохранитель стеклянный быстродействующий   \n",
       "187   5220500  Предохранитель стеклянный медленного срабатывания   \n",
       "240  170M1308              Предохранитель 10A 690V 000U/80 GR UC   \n",
       "\n",
       "                       article  current  voltage size  \\\n",
       "174  521.0500-0.5-a-250-v-5-20      0.5    250.0        \n",
       "187  522.0500-0.5-a-250-v-5-20      0.5    250.0        \n",
       "240                 8010349837     10.0      0.0        \n",
       "\n",
       "                        type   price  supply  quality_index  \n",
       "174        быстродействующий    16.0  511980       1.002627  \n",
       "187  медленного срабатывания    16.0   56000       0.112007  \n",
       "240                  обычный  4980.0       1       0.817736  "
      ],
      "text/html": [
       "<div>\n",
       "<style scoped>\n",
       "    .dataframe tbody tr th:only-of-type {\n",
       "        vertical-align: middle;\n",
       "    }\n",
       "\n",
       "    .dataframe tbody tr th {\n",
       "        vertical-align: top;\n",
       "    }\n",
       "\n",
       "    .dataframe thead th {\n",
       "        text-align: right;\n",
       "    }\n",
       "</style>\n",
       "<table border=\"1\" class=\"dataframe\">\n",
       "  <thead>\n",
       "    <tr style=\"text-align: right;\">\n",
       "      <th></th>\n",
       "      <th>brand</th>\n",
       "      <th>name</th>\n",
       "      <th>article</th>\n",
       "      <th>current</th>\n",
       "      <th>voltage</th>\n",
       "      <th>size</th>\n",
       "      <th>type</th>\n",
       "      <th>price</th>\n",
       "      <th>supply</th>\n",
       "      <th>quality_index</th>\n",
       "    </tr>\n",
       "  </thead>\n",
       "  <tbody>\n",
       "    <tr>\n",
       "      <th>174</th>\n",
       "      <td>5210500</td>\n",
       "      <td>Предохранитель стеклянный быстродействующий</td>\n",
       "      <td>521.0500-0.5-a-250-v-5-20</td>\n",
       "      <td>0.5</td>\n",
       "      <td>250.0</td>\n",
       "      <td></td>\n",
       "      <td>быстродействующий</td>\n",
       "      <td>16.0</td>\n",
       "      <td>511980</td>\n",
       "      <td>1.002627</td>\n",
       "    </tr>\n",
       "    <tr>\n",
       "      <th>187</th>\n",
       "      <td>5220500</td>\n",
       "      <td>Предохранитель стеклянный медленного срабатывания</td>\n",
       "      <td>522.0500-0.5-a-250-v-5-20</td>\n",
       "      <td>0.5</td>\n",
       "      <td>250.0</td>\n",
       "      <td></td>\n",
       "      <td>медленного срабатывания</td>\n",
       "      <td>16.0</td>\n",
       "      <td>56000</td>\n",
       "      <td>0.112007</td>\n",
       "    </tr>\n",
       "    <tr>\n",
       "      <th>240</th>\n",
       "      <td>170M1308</td>\n",
       "      <td>Предохранитель 10A 690V 000U/80 GR UC</td>\n",
       "      <td>8010349837</td>\n",
       "      <td>10.0</td>\n",
       "      <td>0.0</td>\n",
       "      <td></td>\n",
       "      <td>обычный</td>\n",
       "      <td>4980.0</td>\n",
       "      <td>1</td>\n",
       "      <td>0.817736</td>\n",
       "    </tr>\n",
       "  </tbody>\n",
       "</table>\n",
       "</div>"
      ]
     },
     "execution_count": 14,
     "metadata": {},
     "output_type": "execute_result"
    }
   ],
   "execution_count": 14
  },
  {
   "metadata": {},
   "cell_type": "markdown",
   "source": "#### 6. Определите ценовой сегмент для каждого предохранителя. Используйте полученные ранее индексы качества.",
   "id": "713ca3cc0e8a0ed0"
  },
  {
   "metadata": {
    "ExecuteTime": {
     "end_time": "2024-11-26T13:24:21.838931Z",
     "start_time": "2024-11-26T13:24:21.828697Z"
    }
   },
   "cell_type": "code",
   "source": [
    "df['price_segment'] = pd.cut(df['quality_index'], bins=3, labels=['низкий', 'средний', 'высокий'])\n",
    "df"
   ],
   "id": "5e98cab599f566d2",
   "outputs": [
    {
     "data": {
      "text/plain": [
       "                       brand            name            article  current  \\\n",
       "0                        AGU  Предохранитель  agu-aue-10a-10x38     10.0   \n",
       "1                        AGU  Предохранитель  agu-aue-20a-10x38     20.0   \n",
       "2                        AGU  Предохранитель  agu-aue-30a-10x38     30.0   \n",
       "3                        AGU  Предохранитель  agu-aue-40a-10x38     40.0   \n",
       "4                        AGU  Предохранитель  agu-aue-50a-10x38     50.0   \n",
       "..                       ...             ...                ...      ...   \n",
       "415  ПредохранительразмерAXI                         8031325132      1.0   \n",
       "416  ПредохранительразмерAXI                         8031325140     10.0   \n",
       "417  ПредохранительразмерAXI                         8031325141     12.0   \n",
       "418  ПредохранительразмерAXI                         8031325142     15.0   \n",
       "419  ПредохранительразмерAXI                         8031325133      2.0   \n",
       "\n",
       "     voltage     size     type  price  supply  quality_index price_segment  \n",
       "0      250.0    10x38  обычный   84.0    1808       0.017324        низкий  \n",
       "1      250.0    10x38  обычный   58.0    4458       0.018231        низкий  \n",
       "2      250.0    10x38  обычный   98.0     867       0.017785        низкий  \n",
       "3      250.0    10x38  обычный   98.0     815       0.017684        низкий  \n",
       "4      250.0    10x38  обычный   98.0     654       0.017369        низкий  \n",
       "..       ...      ...      ...    ...     ...            ...           ...  \n",
       "415      0.0  6.0x30,  обычный   40.0      66       0.006697        низкий  \n",
       "416      0.0  6.0x30,  обычный   48.0      51       0.007981        низкий  \n",
       "417      0.0  6.0x30,  обычный   48.0      63       0.008005        низкий  \n",
       "418      0.0  6.0x30,  обычный   48.0      61       0.008001        низкий  \n",
       "419      0.0  6.0x30,  обычный   40.0      66       0.006697        низкий  \n",
       "\n",
       "[420 rows x 11 columns]"
      ],
      "text/html": [
       "<div>\n",
       "<style scoped>\n",
       "    .dataframe tbody tr th:only-of-type {\n",
       "        vertical-align: middle;\n",
       "    }\n",
       "\n",
       "    .dataframe tbody tr th {\n",
       "        vertical-align: top;\n",
       "    }\n",
       "\n",
       "    .dataframe thead th {\n",
       "        text-align: right;\n",
       "    }\n",
       "</style>\n",
       "<table border=\"1\" class=\"dataframe\">\n",
       "  <thead>\n",
       "    <tr style=\"text-align: right;\">\n",
       "      <th></th>\n",
       "      <th>brand</th>\n",
       "      <th>name</th>\n",
       "      <th>article</th>\n",
       "      <th>current</th>\n",
       "      <th>voltage</th>\n",
       "      <th>size</th>\n",
       "      <th>type</th>\n",
       "      <th>price</th>\n",
       "      <th>supply</th>\n",
       "      <th>quality_index</th>\n",
       "      <th>price_segment</th>\n",
       "    </tr>\n",
       "  </thead>\n",
       "  <tbody>\n",
       "    <tr>\n",
       "      <th>0</th>\n",
       "      <td>AGU</td>\n",
       "      <td>Предохранитель</td>\n",
       "      <td>agu-aue-10a-10x38</td>\n",
       "      <td>10.0</td>\n",
       "      <td>250.0</td>\n",
       "      <td>10x38</td>\n",
       "      <td>обычный</td>\n",
       "      <td>84.0</td>\n",
       "      <td>1808</td>\n",
       "      <td>0.017324</td>\n",
       "      <td>низкий</td>\n",
       "    </tr>\n",
       "    <tr>\n",
       "      <th>1</th>\n",
       "      <td>AGU</td>\n",
       "      <td>Предохранитель</td>\n",
       "      <td>agu-aue-20a-10x38</td>\n",
       "      <td>20.0</td>\n",
       "      <td>250.0</td>\n",
       "      <td>10x38</td>\n",
       "      <td>обычный</td>\n",
       "      <td>58.0</td>\n",
       "      <td>4458</td>\n",
       "      <td>0.018231</td>\n",
       "      <td>низкий</td>\n",
       "    </tr>\n",
       "    <tr>\n",
       "      <th>2</th>\n",
       "      <td>AGU</td>\n",
       "      <td>Предохранитель</td>\n",
       "      <td>agu-aue-30a-10x38</td>\n",
       "      <td>30.0</td>\n",
       "      <td>250.0</td>\n",
       "      <td>10x38</td>\n",
       "      <td>обычный</td>\n",
       "      <td>98.0</td>\n",
       "      <td>867</td>\n",
       "      <td>0.017785</td>\n",
       "      <td>низкий</td>\n",
       "    </tr>\n",
       "    <tr>\n",
       "      <th>3</th>\n",
       "      <td>AGU</td>\n",
       "      <td>Предохранитель</td>\n",
       "      <td>agu-aue-40a-10x38</td>\n",
       "      <td>40.0</td>\n",
       "      <td>250.0</td>\n",
       "      <td>10x38</td>\n",
       "      <td>обычный</td>\n",
       "      <td>98.0</td>\n",
       "      <td>815</td>\n",
       "      <td>0.017684</td>\n",
       "      <td>низкий</td>\n",
       "    </tr>\n",
       "    <tr>\n",
       "      <th>4</th>\n",
       "      <td>AGU</td>\n",
       "      <td>Предохранитель</td>\n",
       "      <td>agu-aue-50a-10x38</td>\n",
       "      <td>50.0</td>\n",
       "      <td>250.0</td>\n",
       "      <td>10x38</td>\n",
       "      <td>обычный</td>\n",
       "      <td>98.0</td>\n",
       "      <td>654</td>\n",
       "      <td>0.017369</td>\n",
       "      <td>низкий</td>\n",
       "    </tr>\n",
       "    <tr>\n",
       "      <th>...</th>\n",
       "      <td>...</td>\n",
       "      <td>...</td>\n",
       "      <td>...</td>\n",
       "      <td>...</td>\n",
       "      <td>...</td>\n",
       "      <td>...</td>\n",
       "      <td>...</td>\n",
       "      <td>...</td>\n",
       "      <td>...</td>\n",
       "      <td>...</td>\n",
       "      <td>...</td>\n",
       "    </tr>\n",
       "    <tr>\n",
       "      <th>415</th>\n",
       "      <td>ПредохранительразмерAXI</td>\n",
       "      <td></td>\n",
       "      <td>8031325132</td>\n",
       "      <td>1.0</td>\n",
       "      <td>0.0</td>\n",
       "      <td>6.0x30,</td>\n",
       "      <td>обычный</td>\n",
       "      <td>40.0</td>\n",
       "      <td>66</td>\n",
       "      <td>0.006697</td>\n",
       "      <td>низкий</td>\n",
       "    </tr>\n",
       "    <tr>\n",
       "      <th>416</th>\n",
       "      <td>ПредохранительразмерAXI</td>\n",
       "      <td></td>\n",
       "      <td>8031325140</td>\n",
       "      <td>10.0</td>\n",
       "      <td>0.0</td>\n",
       "      <td>6.0x30,</td>\n",
       "      <td>обычный</td>\n",
       "      <td>48.0</td>\n",
       "      <td>51</td>\n",
       "      <td>0.007981</td>\n",
       "      <td>низкий</td>\n",
       "    </tr>\n",
       "    <tr>\n",
       "      <th>417</th>\n",
       "      <td>ПредохранительразмерAXI</td>\n",
       "      <td></td>\n",
       "      <td>8031325141</td>\n",
       "      <td>12.0</td>\n",
       "      <td>0.0</td>\n",
       "      <td>6.0x30,</td>\n",
       "      <td>обычный</td>\n",
       "      <td>48.0</td>\n",
       "      <td>63</td>\n",
       "      <td>0.008005</td>\n",
       "      <td>низкий</td>\n",
       "    </tr>\n",
       "    <tr>\n",
       "      <th>418</th>\n",
       "      <td>ПредохранительразмерAXI</td>\n",
       "      <td></td>\n",
       "      <td>8031325142</td>\n",
       "      <td>15.0</td>\n",
       "      <td>0.0</td>\n",
       "      <td>6.0x30,</td>\n",
       "      <td>обычный</td>\n",
       "      <td>48.0</td>\n",
       "      <td>61</td>\n",
       "      <td>0.008001</td>\n",
       "      <td>низкий</td>\n",
       "    </tr>\n",
       "    <tr>\n",
       "      <th>419</th>\n",
       "      <td>ПредохранительразмерAXI</td>\n",
       "      <td></td>\n",
       "      <td>8031325133</td>\n",
       "      <td>2.0</td>\n",
       "      <td>0.0</td>\n",
       "      <td>6.0x30,</td>\n",
       "      <td>обычный</td>\n",
       "      <td>40.0</td>\n",
       "      <td>66</td>\n",
       "      <td>0.006697</td>\n",
       "      <td>низкий</td>\n",
       "    </tr>\n",
       "  </tbody>\n",
       "</table>\n",
       "<p>420 rows × 11 columns</p>\n",
       "</div>"
      ]
     },
     "execution_count": 15,
     "metadata": {},
     "output_type": "execute_result"
    }
   ],
   "execution_count": 15
  },
  {
   "metadata": {},
   "cell_type": "markdown",
   "source": "#### 7. Определите самый дефицитный предохранитель – с самым долгим сроком поставки, и минимальным числом в наличии на складе.",
   "id": "cea6b07c1ff9420c"
  },
  {
   "metadata": {
    "ExecuteTime": {
     "end_time": "2024-11-26T13:24:23.358606Z",
     "start_time": "2024-11-26T13:24:23.354739Z"
    }
   },
   "cell_type": "code",
   "source": "df.loc[df['supply'].idxmin()]",
   "id": "21555dc959620760",
   "outputs": [
    {
     "data": {
      "text/plain": [
       "brand                                    Плавкая\n",
       "name             Предохранитель замедленного ...\n",
       "article                               9000339449\n",
       "current                                      5.0\n",
       "voltage                                    250.0\n",
       "size                                            \n",
       "type                     медленного срабатывания\n",
       "price                                      220.0\n",
       "supply                                         1\n",
       "quality_index                           0.036127\n",
       "price_segment                             низкий\n",
       "Name: 117, dtype: object"
      ]
     },
     "execution_count": 16,
     "metadata": {},
     "output_type": "execute_result"
    }
   ],
   "execution_count": 16
  },
  {
   "metadata": {},
   "cell_type": "markdown",
   "source": [
    "#### 8. Проверьте гипотезу о связи тока и номинального напряжения в предохранителях:\n",
    "\n",
    "- 8.1. Разбейте ток и номинальное напряжение по две группы соответственно\n",
    "- 8.2. Постройте таблицу сопряженности – группированный ток vs группированное\n",
    "напряжение, с частотой предохранителей в ячейках.\n",
    "- 8.3. Проведите по построенной таблице тест хи-квадрат (scipy.stats.chi_contingency)\n"
   ],
   "id": "9b00eee1667aecbe"
  },
  {
   "metadata": {
    "ExecuteTime": {
     "end_time": "2024-11-26T13:24:25.165322Z",
     "start_time": "2024-11-26T13:24:25.160335Z"
    }
   },
   "cell_type": "code",
   "source": [
    "df['current_group'] = pd.cut(df['current'], bins=2, labels=['low', 'high'])\n",
    "df['voltage_group'] = pd.cut(df['voltage'], bins=2, labels=['low', 'high'])"
   ],
   "id": "1a7cec0972d7f7a4",
   "outputs": [],
   "execution_count": 17
  },
  {
   "metadata": {
    "ExecuteTime": {
     "end_time": "2024-11-26T13:24:25.816127Z",
     "start_time": "2024-11-26T13:24:25.804616Z"
    }
   },
   "cell_type": "code",
   "source": [
    "contingency_table = pd.crosstab(df['current_group'], df['voltage_group'])\n",
    "contingency_table"
   ],
   "id": "9783c2a26b741f7d",
   "outputs": [
    {
     "data": {
      "text/plain": [
       "voltage_group  low  high\n",
       "current_group           \n",
       "low            367    42\n",
       "high             8     3"
      ],
      "text/html": [
       "<div>\n",
       "<style scoped>\n",
       "    .dataframe tbody tr th:only-of-type {\n",
       "        vertical-align: middle;\n",
       "    }\n",
       "\n",
       "    .dataframe tbody tr th {\n",
       "        vertical-align: top;\n",
       "    }\n",
       "\n",
       "    .dataframe thead th {\n",
       "        text-align: right;\n",
       "    }\n",
       "</style>\n",
       "<table border=\"1\" class=\"dataframe\">\n",
       "  <thead>\n",
       "    <tr style=\"text-align: right;\">\n",
       "      <th>voltage_group</th>\n",
       "      <th>low</th>\n",
       "      <th>high</th>\n",
       "    </tr>\n",
       "    <tr>\n",
       "      <th>current_group</th>\n",
       "      <th></th>\n",
       "      <th></th>\n",
       "    </tr>\n",
       "  </thead>\n",
       "  <tbody>\n",
       "    <tr>\n",
       "      <th>low</th>\n",
       "      <td>367</td>\n",
       "      <td>42</td>\n",
       "    </tr>\n",
       "    <tr>\n",
       "      <th>high</th>\n",
       "      <td>8</td>\n",
       "      <td>3</td>\n",
       "    </tr>\n",
       "  </tbody>\n",
       "</table>\n",
       "</div>"
      ]
     },
     "execution_count": 18,
     "metadata": {},
     "output_type": "execute_result"
    }
   ],
   "execution_count": 18
  },
  {
   "metadata": {
    "ExecuteTime": {
     "end_time": "2024-11-26T13:24:27.163452Z",
     "start_time": "2024-11-26T13:24:27.159735Z"
    }
   },
   "cell_type": "code",
   "source": "chi2_contingency(contingency_table)",
   "id": "58921f803c99384e",
   "outputs": [
    {
     "data": {
      "text/plain": [
       "Chi2ContingencyResult(statistic=1.7040231162480548, pvalue=0.19176268060056362, dof=1, expected_freq=array([[365.17857143,  43.82142857],\n",
       "       [  9.82142857,   1.17857143]]))"
      ]
     },
     "execution_count": 19,
     "metadata": {},
     "output_type": "execute_result"
    }
   ],
   "execution_count": 19
  },
  {
   "metadata": {},
   "cell_type": "markdown",
   "source": "#### 9. Визуализируйте с помощью тепловой карты зависимость цены от группированного тока и группированного напряжения.",
   "id": "80ec918bf173d526"
  },
  {
   "metadata": {
    "ExecuteTime": {
     "end_time": "2024-11-26T13:24:31.027996Z",
     "start_time": "2024-11-26T13:24:30.889765Z"
    }
   },
   "cell_type": "code",
   "source": [
    "plt.matshow(contingency_table, cmap='hot')\n",
    "plt.colorbar()\n",
    "plt.show()"
   ],
   "id": "57a1032d1686fb4c",
   "outputs": [
    {
     "data": {
      "text/plain": [
       "<Figure size 480x480 with 2 Axes>"
      ],
      "image/png": "[encoded data removed]"
     },
     "metadata": {},
     "output_type": "display_data"
    }
   ],
   "execution_count": 20
  },
  {
   "metadata": {},
   "cell_type": "markdown",
   "source": "#### 10. Постройте линейную регрессию и определите наиболее значимые характеристики товара, влияющие на рост цены.",
   "id": "5c07c81834b969c2"
  },
  {
   "metadata": {
    "ExecuteTime": {
     "end_time": "2024-11-26T13:24:33.371122Z",
     "start_time": "2024-11-26T13:24:33.360783Z"
    }
   },
   "cell_type": "code",
   "source": [
    "X = df[['current', 'voltage', 'supply']]\n",
    "y = df['price']\n",
    "\n",
    "X_train, X_test, y_train, y_test = train_test_split(X, y, test_size=0.2, random_state=42)\n",
    "\n",
    "model = LinearRegression()\n",
    "model.fit(X_train, y_train)\n",
    "y_pred = model.predict(X_test)\n",
    "mean_squared_error(y_test, y_pred)"
   ],
   "id": "b4ecf77433bf9226",
   "outputs": [
    {
     "data": {
      "text/plain": [
       "197067.73546484511"
      ]
     },
     "execution_count": 21,
     "metadata": {},
     "output_type": "execute_result"
    }
   ],
   "execution_count": 21
  },
  {
   "metadata": {
    "ExecuteTime": {
     "end_time": "2024-10-27T10:15:52.244231Z",
     "start_time": "2024-10-27T10:15:52.242463Z"
    }
   },
   "cell_type": "code",
   "source": "",
   "id": "486924af50fe60e6",
   "outputs": [],
   "execution_count": null
  }
 ],
 "metadata": {
  "kernelspec": {
   "display_name": "Python 3",
   "language": "python",
   "name": "python3"
  },
  "language_info": {
   "codemirror_mode": {
    "name": "ipython",
    "version": 2
   },
   "file_extension": ".py",
   "mimetype": "text/x-python",
   "name": "python",
   "nbconvert_exporter": "python",
   "pygments_lexer": "ipython2",
   "version": "2.7.6"
  }
 },
 "nbformat": 4,
 "nbformat_minor": 5
}
